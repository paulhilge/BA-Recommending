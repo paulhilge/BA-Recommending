{
 "cells": [
  {
   "cell_type": "code",
   "execution_count": 71,
   "metadata": {},
   "outputs": [],
   "source": [
    "\"\"\" \n",
    "Importieren von wichtigen Plugins für das System:\n",
    "- Pandas zur Nutzung von Dataframes als Datentyp zur Speicherung, Veränderung und Anzeige des Datensatzes\n",
    "- Surprise zur Einbindung als Framework für das Vorschlagssystem inklusive der Algorithmen und Auswertungen\n",
    "- Der Rest für die Erleichterung der Darstellung und mathematischer Umformungen\n",
    "\"\"\"\n",
    "import pandas as pd\n",
    "import numpy as np\n",
    "import math\n",
    "import re\n",
    "from scipy.sparse import csr_matrix\n",
    "import matplotlib.pyplot as plot\n",
    "import seaborn as sns\n",
    "from ggplot import *\n",
    "from surprise import Reader, Dataset, SVD, accuracy\n",
    "sns.set_style(\"darkgrid\")\n",
    "from surprise.model_selection import cross_validate\n",
    "from surprise.model_selection import train_test_split\n",
    "from statsmodels.stats.outliers_influence import summary_table"
   ]
  },
  {
   "cell_type": "code",
   "execution_count": null,
   "metadata": {},
   "outputs": [],
   "source": []
  },
  {
   "cell_type": "code",
   "execution_count": 72,
   "metadata": {},
   "outputs": [
    {
     "data": {
      "text/plain": [
       "'\\nDer erste Teil:\\n- Datensatz importieren: hier Movielens 100k aufgrund der Größe und Uploadbarkeit für GitHub\\n- Datensatz auf gewünschtes Format bringen: Matrix\\n'"
      ]
     },
     "execution_count": 72,
     "metadata": {},
     "output_type": "execute_result"
    }
   ],
   "source": [
    "\"\"\"\n",
    "Der erste Teil:\n",
    "- Datensatz importieren: hier Movielens 100k aufgrund der Größe und Uploadbarkeit für GitHub\n",
    "- Datensatz auf gewünschtes Format bringen: Matrix\n",
    "\"\"\""
   ]
  },
  {
   "cell_type": "code",
   "execution_count": 73,
   "metadata": {},
   "outputs": [
    {
     "data": {
      "text/html": [
       "<div>\n",
       "<style scoped>\n",
       "    .dataframe tbody tr th:only-of-type {\n",
       "        vertical-align: middle;\n",
       "    }\n",
       "\n",
       "    .dataframe tbody tr th {\n",
       "        vertical-align: top;\n",
       "    }\n",
       "\n",
       "    .dataframe thead th {\n",
       "        text-align: right;\n",
       "    }\n",
       "</style>\n",
       "<table border=\"1\" class=\"dataframe\">\n",
       "  <thead>\n",
       "    <tr style=\"text-align: right;\">\n",
       "      <th></th>\n",
       "      <th>userId</th>\n",
       "      <th>movieId</th>\n",
       "      <th>rating</th>\n",
       "      <th>timestamp</th>\n",
       "    </tr>\n",
       "  </thead>\n",
       "  <tbody>\n",
       "    <tr>\n",
       "      <td>0</td>\n",
       "      <td>1</td>\n",
       "      <td>1</td>\n",
       "      <td>4.0</td>\n",
       "      <td>964982703</td>\n",
       "    </tr>\n",
       "    <tr>\n",
       "      <td>1</td>\n",
       "      <td>1</td>\n",
       "      <td>3</td>\n",
       "      <td>4.0</td>\n",
       "      <td>964981247</td>\n",
       "    </tr>\n",
       "    <tr>\n",
       "      <td>2</td>\n",
       "      <td>1</td>\n",
       "      <td>6</td>\n",
       "      <td>4.0</td>\n",
       "      <td>964982224</td>\n",
       "    </tr>\n",
       "    <tr>\n",
       "      <td>3</td>\n",
       "      <td>1</td>\n",
       "      <td>47</td>\n",
       "      <td>5.0</td>\n",
       "      <td>964983815</td>\n",
       "    </tr>\n",
       "    <tr>\n",
       "      <td>4</td>\n",
       "      <td>1</td>\n",
       "      <td>50</td>\n",
       "      <td>5.0</td>\n",
       "      <td>964982931</td>\n",
       "    </tr>\n",
       "  </tbody>\n",
       "</table>\n",
       "</div>"
      ],
      "text/plain": [
       "   userId  movieId  rating  timestamp\n",
       "0       1        1     4.0  964982703\n",
       "1       1        3     4.0  964981247\n",
       "2       1        6     4.0  964982224\n",
       "3       1       47     5.0  964983815\n",
       "4       1       50     5.0  964982931"
      ]
     },
     "execution_count": 73,
     "metadata": {},
     "output_type": "execute_result"
    }
   ],
   "source": [
    "\"\"\"\n",
    "Importieren vom Datensatz:\n",
    "Jeder Eintrag besteht aus: einem User (mit ID), der einem Film (mit ID), ein Rating auf einer Skala von 1-5 (als Float) gibt\n",
    "\"\"\"\n",
    "ratings = pd.read_csv('ratings100k.csv')\n",
    "ratings.head()  #Anzeige des Kopfes vom Dataframe zur Veranschaulichung"
   ]
  },
  {
   "cell_type": "code",
   "execution_count": 74,
   "metadata": {},
   "outputs": [
    {
     "data": {
      "text/html": [
       "<div>\n",
       "<style scoped>\n",
       "    .dataframe tbody tr th:only-of-type {\n",
       "        vertical-align: middle;\n",
       "    }\n",
       "\n",
       "    .dataframe tbody tr th {\n",
       "        vertical-align: top;\n",
       "    }\n",
       "\n",
       "    .dataframe thead th {\n",
       "        text-align: right;\n",
       "    }\n",
       "</style>\n",
       "<table border=\"1\" class=\"dataframe\">\n",
       "  <thead>\n",
       "    <tr style=\"text-align: right;\">\n",
       "      <th></th>\n",
       "      <th>movieId</th>\n",
       "      <th>title</th>\n",
       "      <th>genres</th>\n",
       "    </tr>\n",
       "  </thead>\n",
       "  <tbody>\n",
       "    <tr>\n",
       "      <td>0</td>\n",
       "      <td>1</td>\n",
       "      <td>Toy Story (1995)</td>\n",
       "      <td>Adventure|Animation|Children|Comedy|Fantasy</td>\n",
       "    </tr>\n",
       "    <tr>\n",
       "      <td>1</td>\n",
       "      <td>2</td>\n",
       "      <td>Jumanji (1995)</td>\n",
       "      <td>Adventure|Children|Fantasy</td>\n",
       "    </tr>\n",
       "    <tr>\n",
       "      <td>2</td>\n",
       "      <td>3</td>\n",
       "      <td>Grumpier Old Men (1995)</td>\n",
       "      <td>Comedy|Romance</td>\n",
       "    </tr>\n",
       "    <tr>\n",
       "      <td>3</td>\n",
       "      <td>4</td>\n",
       "      <td>Waiting to Exhale (1995)</td>\n",
       "      <td>Comedy|Drama|Romance</td>\n",
       "    </tr>\n",
       "    <tr>\n",
       "      <td>4</td>\n",
       "      <td>5</td>\n",
       "      <td>Father of the Bride Part II (1995)</td>\n",
       "      <td>Comedy</td>\n",
       "    </tr>\n",
       "  </tbody>\n",
       "</table>\n",
       "</div>"
      ],
      "text/plain": [
       "   movieId                               title  \\\n",
       "0        1                    Toy Story (1995)   \n",
       "1        2                      Jumanji (1995)   \n",
       "2        3             Grumpier Old Men (1995)   \n",
       "3        4            Waiting to Exhale (1995)   \n",
       "4        5  Father of the Bride Part II (1995)   \n",
       "\n",
       "                                        genres  \n",
       "0  Adventure|Animation|Children|Comedy|Fantasy  \n",
       "1                   Adventure|Children|Fantasy  \n",
       "2                               Comedy|Romance  \n",
       "3                         Comedy|Drama|Romance  \n",
       "4                                       Comedy  "
      ]
     },
     "execution_count": 74,
     "metadata": {},
     "output_type": "execute_result"
    }
   ],
   "source": [
    "movies = pd.read_csv('movies100k.csv')\n",
    "movies.head()  #Anzeige des Kopfes vom Dataframe zur Veranschaulichung"
   ]
  },
  {
   "cell_type": "code",
   "execution_count": 75,
   "metadata": {},
   "outputs": [
    {
     "name": "stdout",
     "output_type": "stream",
     "text": [
      "   Cust_Id  Rating  Movie_Id\n",
      "0        1     4.0         1\n",
      "1        1     4.0         3\n",
      "2        1     4.0         6\n",
      "3        1     5.0        47\n",
      "4        1     5.0        50\n"
     ]
    }
   ],
   "source": [
    "\"\"\"\n",
    "Umformung in ein für Surprise nutzbares Format: \n",
    "Cust_Id - Rating - Movie_Id\n",
    "Timestamp wird nicht benötigt\n",
    "\"\"\"\n",
    "ratings = ratings.rename(columns={\"userId\": \"Cust_Id\", \"rating\": \"Rating\", \"movieId\": \"Movie_Id\"})\n",
    "ratings = ratings.drop(['timestamp'], axis=1)\n",
    "ratings = ratings[['Cust_Id','Rating','Movie_Id']]\n",
    "print(ratings.head())"
   ]
  },
  {
   "cell_type": "code",
   "execution_count": 76,
   "metadata": {},
   "outputs": [
    {
     "name": "stdout",
     "output_type": "stream",
     "text": [
      "Movie minimum times of review: 7.0\n",
      "Customer minimum times of review: 140.0\n"
     ]
    }
   ],
   "source": [
    "\"\"\"\n",
    "Um etwas Zugriff zu bekommen, werden User und Filme rausgeschmissen, die zu wenig Bewertungen bekommen.\n",
    "Inhaltlich passt dies auch, da diese Nutzer zuerst auf anderem Wege (Cold Start) Vorschläge erhalten\n",
    "\"\"\"\n",
    "f = ['count','mean']\n",
    "\n",
    "df_movie_summary = ratings.groupby('Movie_Id')['Rating'].agg(f)\n",
    "df_movie_summary.index = df_movie_summary.index.map(int)\n",
    "movie_benchmark = round(df_movie_summary['count'].quantile(0.7),0)\n",
    "drop_movie_list = df_movie_summary[df_movie_summary['count'] < movie_benchmark].index\n",
    "\n",
    "print('Movie minimum times of review: {}'.format(movie_benchmark))\n",
    "\n",
    "df_cust_summary = ratings.groupby('Cust_Id')['Rating'].agg(f)\n",
    "df_cust_summary.index = df_cust_summary.index.map(int)\n",
    "cust_benchmark = round(df_cust_summary['count'].quantile(0.7),0)\n",
    "drop_cust_list = df_cust_summary[df_cust_summary['count'] < cust_benchmark].index\n",
    "\n",
    "print('Customer minimum times of review: {}'.format(cust_benchmark))"
   ]
  },
  {
   "cell_type": "code",
   "execution_count": 77,
   "metadata": {},
   "outputs": [
    {
     "name": "stdout",
     "output_type": "stream",
     "text": [
      "Original Shape: (100836, 3)\n",
      "After Trim Shape: (63950, 3)\n"
     ]
    }
   ],
   "source": [
    "print('Original Shape: {}'.format(ratings.shape))\n",
    "ratings = ratings[~ratings['Movie_Id'].isin(drop_movie_list)]\n",
    "ratings = ratings[~ratings['Cust_Id'].isin(drop_cust_list)]\n",
    "print('After Trim Shape: {}'.format(ratings.shape))"
   ]
  },
  {
   "cell_type": "code",
   "execution_count": 78,
   "metadata": {},
   "outputs": [
    {
     "data": {
      "text/html": [
       "<div>\n",
       "<style scoped>\n",
       "    .dataframe tbody tr th:only-of-type {\n",
       "        vertical-align: middle;\n",
       "    }\n",
       "\n",
       "    .dataframe tbody tr th {\n",
       "        vertical-align: top;\n",
       "    }\n",
       "\n",
       "    .dataframe thead th {\n",
       "        text-align: right;\n",
       "    }\n",
       "</style>\n",
       "<table border=\"1\" class=\"dataframe\">\n",
       "  <thead>\n",
       "    <tr style=\"text-align: right;\">\n",
       "      <th>Movie_Id</th>\n",
       "      <th>1</th>\n",
       "      <th>2</th>\n",
       "      <th>3</th>\n",
       "      <th>4</th>\n",
       "      <th>5</th>\n",
       "      <th>6</th>\n",
       "      <th>7</th>\n",
       "      <th>8</th>\n",
       "      <th>9</th>\n",
       "      <th>10</th>\n",
       "      <th>...</th>\n",
       "      <th>171763</th>\n",
       "      <th>174055</th>\n",
       "      <th>175303</th>\n",
       "      <th>176101</th>\n",
       "      <th>176371</th>\n",
       "      <th>177593</th>\n",
       "      <th>177765</th>\n",
       "      <th>179819</th>\n",
       "      <th>180031</th>\n",
       "      <th>187593</th>\n",
       "    </tr>\n",
       "    <tr>\n",
       "      <th>Cust_Id</th>\n",
       "      <th></th>\n",
       "      <th></th>\n",
       "      <th></th>\n",
       "      <th></th>\n",
       "      <th></th>\n",
       "      <th></th>\n",
       "      <th></th>\n",
       "      <th></th>\n",
       "      <th></th>\n",
       "      <th></th>\n",
       "      <th></th>\n",
       "      <th></th>\n",
       "      <th></th>\n",
       "      <th></th>\n",
       "      <th></th>\n",
       "      <th></th>\n",
       "      <th></th>\n",
       "      <th></th>\n",
       "      <th></th>\n",
       "      <th></th>\n",
       "      <th></th>\n",
       "    </tr>\n",
       "  </thead>\n",
       "  <tbody>\n",
       "    <tr>\n",
       "      <td>1</td>\n",
       "      <td>4.0</td>\n",
       "      <td>NaN</td>\n",
       "      <td>4.0</td>\n",
       "      <td>NaN</td>\n",
       "      <td>NaN</td>\n",
       "      <td>4.0</td>\n",
       "      <td>NaN</td>\n",
       "      <td>NaN</td>\n",
       "      <td>NaN</td>\n",
       "      <td>NaN</td>\n",
       "      <td>...</td>\n",
       "      <td>NaN</td>\n",
       "      <td>NaN</td>\n",
       "      <td>NaN</td>\n",
       "      <td>NaN</td>\n",
       "      <td>NaN</td>\n",
       "      <td>NaN</td>\n",
       "      <td>NaN</td>\n",
       "      <td>NaN</td>\n",
       "      <td>NaN</td>\n",
       "      <td>NaN</td>\n",
       "    </tr>\n",
       "    <tr>\n",
       "      <td>4</td>\n",
       "      <td>NaN</td>\n",
       "      <td>NaN</td>\n",
       "      <td>NaN</td>\n",
       "      <td>NaN</td>\n",
       "      <td>NaN</td>\n",
       "      <td>NaN</td>\n",
       "      <td>NaN</td>\n",
       "      <td>NaN</td>\n",
       "      <td>NaN</td>\n",
       "      <td>NaN</td>\n",
       "      <td>...</td>\n",
       "      <td>NaN</td>\n",
       "      <td>NaN</td>\n",
       "      <td>NaN</td>\n",
       "      <td>NaN</td>\n",
       "      <td>NaN</td>\n",
       "      <td>NaN</td>\n",
       "      <td>NaN</td>\n",
       "      <td>NaN</td>\n",
       "      <td>NaN</td>\n",
       "      <td>NaN</td>\n",
       "    </tr>\n",
       "    <tr>\n",
       "      <td>6</td>\n",
       "      <td>NaN</td>\n",
       "      <td>4.0</td>\n",
       "      <td>5.0</td>\n",
       "      <td>3.0</td>\n",
       "      <td>5.0</td>\n",
       "      <td>4.0</td>\n",
       "      <td>4.0</td>\n",
       "      <td>3.0</td>\n",
       "      <td>NaN</td>\n",
       "      <td>3.0</td>\n",
       "      <td>...</td>\n",
       "      <td>NaN</td>\n",
       "      <td>NaN</td>\n",
       "      <td>NaN</td>\n",
       "      <td>NaN</td>\n",
       "      <td>NaN</td>\n",
       "      <td>NaN</td>\n",
       "      <td>NaN</td>\n",
       "      <td>NaN</td>\n",
       "      <td>NaN</td>\n",
       "      <td>NaN</td>\n",
       "    </tr>\n",
       "    <tr>\n",
       "      <td>7</td>\n",
       "      <td>4.5</td>\n",
       "      <td>NaN</td>\n",
       "      <td>NaN</td>\n",
       "      <td>NaN</td>\n",
       "      <td>NaN</td>\n",
       "      <td>NaN</td>\n",
       "      <td>NaN</td>\n",
       "      <td>NaN</td>\n",
       "      <td>NaN</td>\n",
       "      <td>NaN</td>\n",
       "      <td>...</td>\n",
       "      <td>NaN</td>\n",
       "      <td>NaN</td>\n",
       "      <td>NaN</td>\n",
       "      <td>NaN</td>\n",
       "      <td>NaN</td>\n",
       "      <td>NaN</td>\n",
       "      <td>NaN</td>\n",
       "      <td>NaN</td>\n",
       "      <td>NaN</td>\n",
       "      <td>NaN</td>\n",
       "    </tr>\n",
       "    <tr>\n",
       "      <td>10</td>\n",
       "      <td>NaN</td>\n",
       "      <td>NaN</td>\n",
       "      <td>NaN</td>\n",
       "      <td>NaN</td>\n",
       "      <td>NaN</td>\n",
       "      <td>NaN</td>\n",
       "      <td>NaN</td>\n",
       "      <td>NaN</td>\n",
       "      <td>NaN</td>\n",
       "      <td>NaN</td>\n",
       "      <td>...</td>\n",
       "      <td>NaN</td>\n",
       "      <td>NaN</td>\n",
       "      <td>NaN</td>\n",
       "      <td>NaN</td>\n",
       "      <td>NaN</td>\n",
       "      <td>NaN</td>\n",
       "      <td>NaN</td>\n",
       "      <td>NaN</td>\n",
       "      <td>NaN</td>\n",
       "      <td>NaN</td>\n",
       "    </tr>\n",
       "    <tr>\n",
       "      <td>...</td>\n",
       "      <td>...</td>\n",
       "      <td>...</td>\n",
       "      <td>...</td>\n",
       "      <td>...</td>\n",
       "      <td>...</td>\n",
       "      <td>...</td>\n",
       "      <td>...</td>\n",
       "      <td>...</td>\n",
       "      <td>...</td>\n",
       "      <td>...</td>\n",
       "      <td>...</td>\n",
       "      <td>...</td>\n",
       "      <td>...</td>\n",
       "      <td>...</td>\n",
       "      <td>...</td>\n",
       "      <td>...</td>\n",
       "      <td>...</td>\n",
       "      <td>...</td>\n",
       "      <td>...</td>\n",
       "      <td>...</td>\n",
       "      <td>...</td>\n",
       "    </tr>\n",
       "    <tr>\n",
       "      <td>605</td>\n",
       "      <td>4.0</td>\n",
       "      <td>3.5</td>\n",
       "      <td>NaN</td>\n",
       "      <td>NaN</td>\n",
       "      <td>NaN</td>\n",
       "      <td>NaN</td>\n",
       "      <td>NaN</td>\n",
       "      <td>NaN</td>\n",
       "      <td>NaN</td>\n",
       "      <td>NaN</td>\n",
       "      <td>...</td>\n",
       "      <td>NaN</td>\n",
       "      <td>NaN</td>\n",
       "      <td>NaN</td>\n",
       "      <td>NaN</td>\n",
       "      <td>NaN</td>\n",
       "      <td>NaN</td>\n",
       "      <td>NaN</td>\n",
       "      <td>NaN</td>\n",
       "      <td>NaN</td>\n",
       "      <td>NaN</td>\n",
       "    </tr>\n",
       "    <tr>\n",
       "      <td>606</td>\n",
       "      <td>2.5</td>\n",
       "      <td>NaN</td>\n",
       "      <td>NaN</td>\n",
       "      <td>NaN</td>\n",
       "      <td>NaN</td>\n",
       "      <td>NaN</td>\n",
       "      <td>2.5</td>\n",
       "      <td>NaN</td>\n",
       "      <td>NaN</td>\n",
       "      <td>NaN</td>\n",
       "      <td>...</td>\n",
       "      <td>NaN</td>\n",
       "      <td>NaN</td>\n",
       "      <td>NaN</td>\n",
       "      <td>NaN</td>\n",
       "      <td>NaN</td>\n",
       "      <td>NaN</td>\n",
       "      <td>NaN</td>\n",
       "      <td>NaN</td>\n",
       "      <td>NaN</td>\n",
       "      <td>NaN</td>\n",
       "    </tr>\n",
       "    <tr>\n",
       "      <td>607</td>\n",
       "      <td>4.0</td>\n",
       "      <td>NaN</td>\n",
       "      <td>NaN</td>\n",
       "      <td>NaN</td>\n",
       "      <td>NaN</td>\n",
       "      <td>NaN</td>\n",
       "      <td>NaN</td>\n",
       "      <td>NaN</td>\n",
       "      <td>NaN</td>\n",
       "      <td>NaN</td>\n",
       "      <td>...</td>\n",
       "      <td>NaN</td>\n",
       "      <td>NaN</td>\n",
       "      <td>NaN</td>\n",
       "      <td>NaN</td>\n",
       "      <td>NaN</td>\n",
       "      <td>NaN</td>\n",
       "      <td>NaN</td>\n",
       "      <td>NaN</td>\n",
       "      <td>NaN</td>\n",
       "      <td>NaN</td>\n",
       "    </tr>\n",
       "    <tr>\n",
       "      <td>608</td>\n",
       "      <td>2.5</td>\n",
       "      <td>2.0</td>\n",
       "      <td>2.0</td>\n",
       "      <td>NaN</td>\n",
       "      <td>NaN</td>\n",
       "      <td>NaN</td>\n",
       "      <td>NaN</td>\n",
       "      <td>NaN</td>\n",
       "      <td>NaN</td>\n",
       "      <td>4.0</td>\n",
       "      <td>...</td>\n",
       "      <td>NaN</td>\n",
       "      <td>NaN</td>\n",
       "      <td>NaN</td>\n",
       "      <td>NaN</td>\n",
       "      <td>NaN</td>\n",
       "      <td>NaN</td>\n",
       "      <td>NaN</td>\n",
       "      <td>NaN</td>\n",
       "      <td>NaN</td>\n",
       "      <td>NaN</td>\n",
       "    </tr>\n",
       "    <tr>\n",
       "      <td>610</td>\n",
       "      <td>5.0</td>\n",
       "      <td>NaN</td>\n",
       "      <td>NaN</td>\n",
       "      <td>NaN</td>\n",
       "      <td>NaN</td>\n",
       "      <td>5.0</td>\n",
       "      <td>NaN</td>\n",
       "      <td>NaN</td>\n",
       "      <td>NaN</td>\n",
       "      <td>NaN</td>\n",
       "      <td>...</td>\n",
       "      <td>NaN</td>\n",
       "      <td>NaN</td>\n",
       "      <td>NaN</td>\n",
       "      <td>NaN</td>\n",
       "      <td>NaN</td>\n",
       "      <td>NaN</td>\n",
       "      <td>NaN</td>\n",
       "      <td>NaN</td>\n",
       "      <td>NaN</td>\n",
       "      <td>NaN</td>\n",
       "    </tr>\n",
       "  </tbody>\n",
       "</table>\n",
       "<p>185 rows × 2949 columns</p>\n",
       "</div>"
      ],
      "text/plain": [
       "Movie_Id  1       2       3       4       5       6       7       8       \\\n",
       "Cust_Id                                                                    \n",
       "1            4.0     NaN     4.0     NaN     NaN     4.0     NaN     NaN   \n",
       "4            NaN     NaN     NaN     NaN     NaN     NaN     NaN     NaN   \n",
       "6            NaN     4.0     5.0     3.0     5.0     4.0     4.0     3.0   \n",
       "7            4.5     NaN     NaN     NaN     NaN     NaN     NaN     NaN   \n",
       "10           NaN     NaN     NaN     NaN     NaN     NaN     NaN     NaN   \n",
       "...          ...     ...     ...     ...     ...     ...     ...     ...   \n",
       "605          4.0     3.5     NaN     NaN     NaN     NaN     NaN     NaN   \n",
       "606          2.5     NaN     NaN     NaN     NaN     NaN     2.5     NaN   \n",
       "607          4.0     NaN     NaN     NaN     NaN     NaN     NaN     NaN   \n",
       "608          2.5     2.0     2.0     NaN     NaN     NaN     NaN     NaN   \n",
       "610          5.0     NaN     NaN     NaN     NaN     5.0     NaN     NaN   \n",
       "\n",
       "Movie_Id  9       10      ...  171763  174055  175303  176101  176371  177593  \\\n",
       "Cust_Id                   ...                                                   \n",
       "1            NaN     NaN  ...     NaN     NaN     NaN     NaN     NaN     NaN   \n",
       "4            NaN     NaN  ...     NaN     NaN     NaN     NaN     NaN     NaN   \n",
       "6            NaN     3.0  ...     NaN     NaN     NaN     NaN     NaN     NaN   \n",
       "7            NaN     NaN  ...     NaN     NaN     NaN     NaN     NaN     NaN   \n",
       "10           NaN     NaN  ...     NaN     NaN     NaN     NaN     NaN     NaN   \n",
       "...          ...     ...  ...     ...     ...     ...     ...     ...     ...   \n",
       "605          NaN     NaN  ...     NaN     NaN     NaN     NaN     NaN     NaN   \n",
       "606          NaN     NaN  ...     NaN     NaN     NaN     NaN     NaN     NaN   \n",
       "607          NaN     NaN  ...     NaN     NaN     NaN     NaN     NaN     NaN   \n",
       "608          NaN     4.0  ...     NaN     NaN     NaN     NaN     NaN     NaN   \n",
       "610          NaN     NaN  ...     NaN     NaN     NaN     NaN     NaN     NaN   \n",
       "\n",
       "Movie_Id  177765  179819  180031  187593  \n",
       "Cust_Id                                   \n",
       "1            NaN     NaN     NaN     NaN  \n",
       "4            NaN     NaN     NaN     NaN  \n",
       "6            NaN     NaN     NaN     NaN  \n",
       "7            NaN     NaN     NaN     NaN  \n",
       "10           NaN     NaN     NaN     NaN  \n",
       "...          ...     ...     ...     ...  \n",
       "605          NaN     NaN     NaN     NaN  \n",
       "606          NaN     NaN     NaN     NaN  \n",
       "607          NaN     NaN     NaN     NaN  \n",
       "608          NaN     NaN     NaN     NaN  \n",
       "610          NaN     NaN     NaN     NaN  \n",
       "\n",
       "[185 rows x 2949 columns]"
      ]
     },
     "execution_count": 78,
     "metadata": {},
     "output_type": "execute_result"
    }
   ],
   "source": [
    "#Umformung vom Datensatz in eine Matrix (Für die Nutzbarkeit)\n",
    "rating_matrix = pd.pivot_table(ratings,values='Rating',index='Cust_Id',columns='Movie_Id')\n",
    "rating_matrix"
   ]
  },
  {
   "cell_type": "code",
   "execution_count": 79,
   "metadata": {},
   "outputs": [
    {
     "name": "stdout",
     "output_type": "stream",
     "text": [
      "185\n",
      "2949\n"
     ]
    }
   ],
   "source": [
    "sizeUsers = ratings['Cust_Id'].drop_duplicates().size\n",
    "sizeMovies = ratings['Movie_Id'].drop_duplicates().size\n",
    "\n",
    "print(ratings['Cust_Id'].drop_duplicates().size) \n",
    "print(ratings['Movie_Id'].drop_duplicates().size) "
   ]
  },
  {
   "cell_type": "code",
   "execution_count": 80,
   "metadata": {},
   "outputs": [],
   "source": [
    "\"\"\"\n",
    "Eine Funktion, die mit Hilfe der SVD Matrix Faktorisierung für Nutzer im 75/25 Verhältnis Filmbewertungen vorhersagt.\n",
    "Dabei werden 75% vorhandener Daten zum Trainieren benutzt, um 25% der Testdaten vorherzusagen\n",
    "\"\"\"\n",
    "def VorhersagenErzeugen():\n",
    "    #Aufteilen des Datensatzes in Trainings- und Testdaten (75 zu 25 Prozent)\n",
    "    reader = Reader()\n",
    "    data = Dataset.load_from_df(ratings[['Cust_Id', 'Movie_Id', 'Rating']], reader)\n",
    "    trainset, testset = train_test_split(data, test_size=.25)\n",
    "\n",
    "    #Anwenden des SVD Algorithmus, um Ratings im Testset vorherzusagen \n",
    "    algo = SVD()\n",
    "    algo.fit(trainset)\n",
    "    predictions = algo.test(testset)\n",
    "    vorhersagen = pd.DataFrame(predictions)\n",
    "    vorhersagen = vorhersagen.drop(['details'], axis=1)\n",
    "    vorhersagen['diff'] = np.abs(vorhersagen['r_ui'] - vorhersagen['est'])\n",
    "    vorhersagen['Erlös'] = np.where(vorhersagen['est'] > vorhersagen.est.mean() , 5, 0)\n",
    "    return vorhersagen"
   ]
  },
  {
   "cell_type": "code",
   "execution_count": 81,
   "metadata": {},
   "outputs": [],
   "source": [
    "#verschiedene Datensätze mit Vorhersagen erstellen/laden\n",
    "#vorhersagenSVD = VorhersagenErzeugen()\n",
    "vorhersagenNN = pd.read_csv('NeuralNetworkPredictions.csv')"
   ]
  },
  {
   "cell_type": "code",
   "execution_count": 82,
   "metadata": {},
   "outputs": [
    {
     "data": {
      "text/html": [
       "<div>\n",
       "<style scoped>\n",
       "    .dataframe tbody tr th:only-of-type {\n",
       "        vertical-align: middle;\n",
       "    }\n",
       "\n",
       "    .dataframe tbody tr th {\n",
       "        vertical-align: top;\n",
       "    }\n",
       "\n",
       "    .dataframe thead th {\n",
       "        text-align: right;\n",
       "    }\n",
       "</style>\n",
       "<table border=\"1\" class=\"dataframe\">\n",
       "  <thead>\n",
       "    <tr style=\"text-align: right;\">\n",
       "      <th></th>\n",
       "      <th>UserId</th>\n",
       "      <th>MovieId</th>\n",
       "      <th>Rating</th>\n",
       "      <th>Prediction</th>\n",
       "    </tr>\n",
       "  </thead>\n",
       "  <tbody>\n",
       "    <tr>\n",
       "      <td>0</td>\n",
       "      <td>78</td>\n",
       "      <td>2053</td>\n",
       "      <td>4.5</td>\n",
       "      <td>3.803010</td>\n",
       "    </tr>\n",
       "    <tr>\n",
       "      <td>1</td>\n",
       "      <td>88</td>\n",
       "      <td>1054</td>\n",
       "      <td>1.5</td>\n",
       "      <td>2.236298</td>\n",
       "    </tr>\n",
       "    <tr>\n",
       "      <td>2</td>\n",
       "      <td>101</td>\n",
       "      <td>1712</td>\n",
       "      <td>5.0</td>\n",
       "      <td>3.536158</td>\n",
       "    </tr>\n",
       "    <tr>\n",
       "      <td>3</td>\n",
       "      <td>58</td>\n",
       "      <td>1806</td>\n",
       "      <td>5.0</td>\n",
       "      <td>3.206385</td>\n",
       "    </tr>\n",
       "    <tr>\n",
       "      <td>4</td>\n",
       "      <td>183</td>\n",
       "      <td>18</td>\n",
       "      <td>4.0</td>\n",
       "      <td>3.353295</td>\n",
       "    </tr>\n",
       "  </tbody>\n",
       "</table>\n",
       "</div>"
      ],
      "text/plain": [
       "   UserId  MovieId  Rating  Prediction\n",
       "0      78     2053     4.5    3.803010\n",
       "1      88     1054     1.5    2.236298\n",
       "2     101     1712     5.0    3.536158\n",
       "3      58     1806     5.0    3.206385\n",
       "4     183       18     4.0    3.353295"
      ]
     },
     "execution_count": 82,
     "metadata": {},
     "output_type": "execute_result"
    }
   ],
   "source": [
    "# So sieht einer der Datensätze aus \n",
    "vorhersagendisplay = vorhersagenNN[['uid', 'iid', 'r_ui', 'est']]\n",
    "vorhersagendisplay = vorhersagendisplay.rename(columns={\"uid\": \"UserId\", \"r_ui\": \"Rating\", \"iid\": \"MovieId\", \"est\": \"Prediction\"})\n",
    "vorhersagendisplay.head()"
   ]
  },
  {
   "cell_type": "code",
   "execution_count": 83,
   "metadata": {},
   "outputs": [],
   "source": [
    "\"\"\"\n",
    "In dieser Hilfsfunktion kann einem Datensatz eine neue Spalte mit Kosten hinzugefügt werden. Dabei kann ebenfalls ein\n",
    "Modus der Verteilungsart angegeben werden. Bisher, bis ein überzeugendes Konzept erstellt wird, sind diese Modi\n",
    "allesamt nach Zufallsverteilungen bestimmt.\n",
    "\n",
    "Profit Linear bezieht sich darauf, dass die User so viel Ertrag einspielen, wie sie den Film finden\n",
    "Profit Cutoff bezieht sich darauf, dass die User ab einer Bewertung von 3,4 gleich viel Geld einspielen und darunter nichts\n",
    "\"\"\"\n",
    "def KostenErstellen(datensatz, modus):\n",
    "    #Anzahl Filme feststellen\n",
    "    vorhersagen_filme = datensatz['iid'].sort_values(ascending=True).drop_duplicates()\n",
    "    vorhersagen_filme = vorhersagen_filme.reset_index(drop=True)\n",
    "    #Kosten hinzugeben\n",
    "    kosten = pd.DataFrame(modus)\n",
    "    kosten = kosten.rename(columns={0:'Kosten'})\n",
    "    kosten = pd.concat([vorhersagen_filme, kosten], axis = 1)\n",
    "    kosten = kosten.set_index('iid')\n",
    "    vorhersagenMitKosten = pd.merge(datensatz, kosten, on='iid')\n",
    "    #Spalten mit Profit für jeden Film für jeden User anfügen\n",
    "    vorhersagenMitKosten['ProfitLinear'] = vorhersagenMitKosten['est'] - vorhersagenMitKosten['Kosten']\n",
    "    vorhersagenMitKosten['ProfitCutoff'] = vorhersagenMitKosten['Erlös'] - vorhersagenMitKosten['Kosten']\n",
    "    vorhersagenMitKosten['ProfitTatsächlich'] = vorhersagenMitKosten['r_ui'] - vorhersagenMitKosten['Kosten']\n",
    "    return vorhersagenMitKosten"
   ]
  },
  {
   "cell_type": "code",
   "execution_count": 84,
   "metadata": {},
   "outputs": [],
   "source": [
    "# Die Datensätze anreichern\n",
    "#vorhersagenMitKostenSVD = KostenErstellen(vorhersagenSVD, np.random.uniform(0.5, 5.0, size = vorhersagenSVD.iid.drop_duplicates().size))\n",
    "vorhersagenMitKostenNN = KostenErstellen(vorhersagenNN, np.random.uniform(0.5, 5.0, size = vorhersagenNN.iid.drop_duplicates().size))"
   ]
  },
  {
   "cell_type": "code",
   "execution_count": 85,
   "metadata": {},
   "outputs": [
    {
     "data": {
      "text/plain": [
       "0        78\n",
       "1       173\n",
       "2        94\n",
       "3        90\n",
       "4        52\n",
       "       ... \n",
       "919      79\n",
       "1027    163\n",
       "1034     10\n",
       "1058     38\n",
       "1106      4\n",
       "Name: uid, Length: 185, dtype: int64"
      ]
     },
     "execution_count": 85,
     "metadata": {},
     "output_type": "execute_result"
    }
   ],
   "source": [
    "# Das erste DataFrame als Beispiel\n",
    "vorhersagenMitKostenNN.uid.drop_duplicates()"
   ]
  },
  {
   "cell_type": "code",
   "execution_count": 86,
   "metadata": {},
   "outputs": [
    {
     "data": {
      "text/plain": [
       "3.503285714285714"
      ]
     },
     "execution_count": 86,
     "metadata": {},
     "output_type": "execute_result"
    }
   ],
   "source": [
    "vorhersagenMitKostenNN.r_ui.mean()"
   ]
  },
  {
   "cell_type": "code",
   "execution_count": 87,
   "metadata": {},
   "outputs": [
    {
     "data": {
      "text/html": [
       "<div>\n",
       "<style scoped>\n",
       "    .dataframe tbody tr th:only-of-type {\n",
       "        vertical-align: middle;\n",
       "    }\n",
       "\n",
       "    .dataframe tbody tr th {\n",
       "        vertical-align: top;\n",
       "    }\n",
       "\n",
       "    .dataframe thead th {\n",
       "        text-align: right;\n",
       "    }\n",
       "</style>\n",
       "<table border=\"1\" class=\"dataframe\">\n",
       "  <thead>\n",
       "    <tr style=\"text-align: right;\">\n",
       "      <th></th>\n",
       "      <th>uid</th>\n",
       "      <th>iid</th>\n",
       "      <th>r_ui</th>\n",
       "      <th>est</th>\n",
       "      <th>diff</th>\n",
       "      <th>Erlös</th>\n",
       "      <th>Kosten</th>\n",
       "      <th>ProfitLinear</th>\n",
       "      <th>ProfitCutoff</th>\n",
       "      <th>ProfitTatsächlich</th>\n",
       "    </tr>\n",
       "  </thead>\n",
       "  <tbody>\n",
       "    <tr>\n",
       "      <td>0</td>\n",
       "      <td>78</td>\n",
       "      <td>2053</td>\n",
       "      <td>4.5</td>\n",
       "      <td>3.803010</td>\n",
       "      <td>0.696990</td>\n",
       "      <td>5</td>\n",
       "      <td>3.181213</td>\n",
       "      <td>0.621797</td>\n",
       "      <td>1.818787</td>\n",
       "      <td>1.318787</td>\n",
       "    </tr>\n",
       "    <tr>\n",
       "      <td>1</td>\n",
       "      <td>173</td>\n",
       "      <td>2053</td>\n",
       "      <td>3.0</td>\n",
       "      <td>2.459505</td>\n",
       "      <td>0.540495</td>\n",
       "      <td>0</td>\n",
       "      <td>3.181213</td>\n",
       "      <td>-0.721709</td>\n",
       "      <td>-3.181213</td>\n",
       "      <td>-0.181213</td>\n",
       "    </tr>\n",
       "    <tr>\n",
       "      <td>2</td>\n",
       "      <td>94</td>\n",
       "      <td>2053</td>\n",
       "      <td>5.0</td>\n",
       "      <td>3.451661</td>\n",
       "      <td>1.548339</td>\n",
       "      <td>5</td>\n",
       "      <td>3.181213</td>\n",
       "      <td>0.270448</td>\n",
       "      <td>1.818787</td>\n",
       "      <td>1.818787</td>\n",
       "    </tr>\n",
       "    <tr>\n",
       "      <td>3</td>\n",
       "      <td>90</td>\n",
       "      <td>2053</td>\n",
       "      <td>3.0</td>\n",
       "      <td>3.566445</td>\n",
       "      <td>0.566445</td>\n",
       "      <td>5</td>\n",
       "      <td>3.181213</td>\n",
       "      <td>0.385232</td>\n",
       "      <td>1.818787</td>\n",
       "      <td>-0.181213</td>\n",
       "    </tr>\n",
       "    <tr>\n",
       "      <td>4</td>\n",
       "      <td>52</td>\n",
       "      <td>2053</td>\n",
       "      <td>2.0</td>\n",
       "      <td>2.322972</td>\n",
       "      <td>0.322972</td>\n",
       "      <td>0</td>\n",
       "      <td>3.181213</td>\n",
       "      <td>-0.858241</td>\n",
       "      <td>-3.181213</td>\n",
       "      <td>-1.181213</td>\n",
       "    </tr>\n",
       "    <tr>\n",
       "      <td>...</td>\n",
       "      <td>...</td>\n",
       "      <td>...</td>\n",
       "      <td>...</td>\n",
       "      <td>...</td>\n",
       "      <td>...</td>\n",
       "      <td>...</td>\n",
       "      <td>...</td>\n",
       "      <td>...</td>\n",
       "      <td>...</td>\n",
       "      <td>...</td>\n",
       "    </tr>\n",
       "    <tr>\n",
       "      <td>13995</td>\n",
       "      <td>7</td>\n",
       "      <td>1365</td>\n",
       "      <td>5.0</td>\n",
       "      <td>3.701289</td>\n",
       "      <td>1.298711</td>\n",
       "      <td>5</td>\n",
       "      <td>2.913459</td>\n",
       "      <td>0.787830</td>\n",
       "      <td>2.086541</td>\n",
       "      <td>2.086541</td>\n",
       "    </tr>\n",
       "    <tr>\n",
       "      <td>13996</td>\n",
       "      <td>140</td>\n",
       "      <td>2067</td>\n",
       "      <td>4.5</td>\n",
       "      <td>4.047133</td>\n",
       "      <td>0.452867</td>\n",
       "      <td>5</td>\n",
       "      <td>3.183279</td>\n",
       "      <td>0.863855</td>\n",
       "      <td>1.816721</td>\n",
       "      <td>1.316721</td>\n",
       "    </tr>\n",
       "    <tr>\n",
       "      <td>13997</td>\n",
       "      <td>96</td>\n",
       "      <td>2934</td>\n",
       "      <td>1.5</td>\n",
       "      <td>2.301129</td>\n",
       "      <td>0.801129</td>\n",
       "      <td>0</td>\n",
       "      <td>3.991795</td>\n",
       "      <td>-1.690665</td>\n",
       "      <td>-3.991795</td>\n",
       "      <td>-2.491795</td>\n",
       "    </tr>\n",
       "    <tr>\n",
       "      <td>13998</td>\n",
       "      <td>2</td>\n",
       "      <td>540</td>\n",
       "      <td>1.0</td>\n",
       "      <td>3.269103</td>\n",
       "      <td>2.269103</td>\n",
       "      <td>0</td>\n",
       "      <td>0.532638</td>\n",
       "      <td>2.736466</td>\n",
       "      <td>-0.532638</td>\n",
       "      <td>0.467362</td>\n",
       "    </tr>\n",
       "    <tr>\n",
       "      <td>13999</td>\n",
       "      <td>10</td>\n",
       "      <td>1711</td>\n",
       "      <td>4.0</td>\n",
       "      <td>4.412573</td>\n",
       "      <td>0.412573</td>\n",
       "      <td>5</td>\n",
       "      <td>0.642201</td>\n",
       "      <td>3.770372</td>\n",
       "      <td>4.357799</td>\n",
       "      <td>3.357799</td>\n",
       "    </tr>\n",
       "  </tbody>\n",
       "</table>\n",
       "<p>14000 rows × 10 columns</p>\n",
       "</div>"
      ],
      "text/plain": [
       "       uid   iid  r_ui       est      diff  Erlös    Kosten  ProfitLinear  \\\n",
       "0       78  2053   4.5  3.803010  0.696990      5  3.181213      0.621797   \n",
       "1      173  2053   3.0  2.459505  0.540495      0  3.181213     -0.721709   \n",
       "2       94  2053   5.0  3.451661  1.548339      5  3.181213      0.270448   \n",
       "3       90  2053   3.0  3.566445  0.566445      5  3.181213      0.385232   \n",
       "4       52  2053   2.0  2.322972  0.322972      0  3.181213     -0.858241   \n",
       "...    ...   ...   ...       ...       ...    ...       ...           ...   \n",
       "13995    7  1365   5.0  3.701289  1.298711      5  2.913459      0.787830   \n",
       "13996  140  2067   4.5  4.047133  0.452867      5  3.183279      0.863855   \n",
       "13997   96  2934   1.5  2.301129  0.801129      0  3.991795     -1.690665   \n",
       "13998    2   540   1.0  3.269103  2.269103      0  0.532638      2.736466   \n",
       "13999   10  1711   4.0  4.412573  0.412573      5  0.642201      3.770372   \n",
       "\n",
       "       ProfitCutoff  ProfitTatsächlich  \n",
       "0          1.818787           1.318787  \n",
       "1         -3.181213          -0.181213  \n",
       "2          1.818787           1.818787  \n",
       "3          1.818787          -0.181213  \n",
       "4         -3.181213          -1.181213  \n",
       "...             ...                ...  \n",
       "13995      2.086541           2.086541  \n",
       "13996      1.816721           1.316721  \n",
       "13997     -3.991795          -2.491795  \n",
       "13998     -0.532638           0.467362  \n",
       "13999      4.357799           3.357799  \n",
       "\n",
       "[14000 rows x 10 columns]"
      ]
     },
     "execution_count": 87,
     "metadata": {},
     "output_type": "execute_result"
    }
   ],
   "source": [
    "vorhersagenMitKostenNN"
   ]
  },
  {
   "cell_type": "code",
   "execution_count": 88,
   "metadata": {},
   "outputs": [
    {
     "data": {
      "text/html": [
       "<div>\n",
       "<style scoped>\n",
       "    .dataframe tbody tr th:only-of-type {\n",
       "        vertical-align: middle;\n",
       "    }\n",
       "\n",
       "    .dataframe tbody tr th {\n",
       "        vertical-align: top;\n",
       "    }\n",
       "\n",
       "    .dataframe thead th {\n",
       "        text-align: right;\n",
       "    }\n",
       "</style>\n",
       "<table border=\"1\" class=\"dataframe\">\n",
       "  <thead>\n",
       "    <tr style=\"text-align: right;\">\n",
       "      <th></th>\n",
       "      <th>uid</th>\n",
       "      <th>iid</th>\n",
       "      <th>r_ui</th>\n",
       "      <th>est</th>\n",
       "      <th>diff</th>\n",
       "      <th>Erlös</th>\n",
       "      <th>Kosten</th>\n",
       "      <th>ProfitLinear</th>\n",
       "      <th>ProfitCutoff</th>\n",
       "      <th>ProfitTatsächlich</th>\n",
       "    </tr>\n",
       "  </thead>\n",
       "  <tbody>\n",
       "    <tr>\n",
       "      <td>7708</td>\n",
       "      <td>184</td>\n",
       "      <td>1069</td>\n",
       "      <td>5.0</td>\n",
       "      <td>4.450822</td>\n",
       "      <td>0.549178</td>\n",
       "      <td>5</td>\n",
       "      <td>0.503556</td>\n",
       "      <td>3.947267</td>\n",
       "      <td>4.496444</td>\n",
       "      <td>4.496444</td>\n",
       "    </tr>\n",
       "    <tr>\n",
       "      <td>7718</td>\n",
       "      <td>177</td>\n",
       "      <td>1069</td>\n",
       "      <td>5.0</td>\n",
       "      <td>3.225706</td>\n",
       "      <td>1.774294</td>\n",
       "      <td>0</td>\n",
       "      <td>0.503556</td>\n",
       "      <td>2.722150</td>\n",
       "      <td>-0.503556</td>\n",
       "      <td>4.496444</td>\n",
       "    </tr>\n",
       "    <tr>\n",
       "      <td>7705</td>\n",
       "      <td>119</td>\n",
       "      <td>1069</td>\n",
       "      <td>5.0</td>\n",
       "      <td>4.211221</td>\n",
       "      <td>0.788779</td>\n",
       "      <td>5</td>\n",
       "      <td>0.503556</td>\n",
       "      <td>3.707665</td>\n",
       "      <td>4.496444</td>\n",
       "      <td>4.496444</td>\n",
       "    </tr>\n",
       "    <tr>\n",
       "      <td>7710</td>\n",
       "      <td>39</td>\n",
       "      <td>1069</td>\n",
       "      <td>5.0</td>\n",
       "      <td>4.743591</td>\n",
       "      <td>0.256409</td>\n",
       "      <td>5</td>\n",
       "      <td>0.503556</td>\n",
       "      <td>4.240035</td>\n",
       "      <td>4.496444</td>\n",
       "      <td>4.496444</td>\n",
       "    </tr>\n",
       "    <tr>\n",
       "      <td>7713</td>\n",
       "      <td>127</td>\n",
       "      <td>1069</td>\n",
       "      <td>5.0</td>\n",
       "      <td>4.177607</td>\n",
       "      <td>0.822393</td>\n",
       "      <td>5</td>\n",
       "      <td>0.503556</td>\n",
       "      <td>3.674051</td>\n",
       "      <td>4.496444</td>\n",
       "      <td>4.496444</td>\n",
       "    </tr>\n",
       "    <tr>\n",
       "      <td>...</td>\n",
       "      <td>...</td>\n",
       "      <td>...</td>\n",
       "      <td>...</td>\n",
       "      <td>...</td>\n",
       "      <td>...</td>\n",
       "      <td>...</td>\n",
       "      <td>...</td>\n",
       "      <td>...</td>\n",
       "      <td>...</td>\n",
       "      <td>...</td>\n",
       "    </tr>\n",
       "    <tr>\n",
       "      <td>6443</td>\n",
       "      <td>20</td>\n",
       "      <td>586</td>\n",
       "      <td>0.5</td>\n",
       "      <td>2.857033</td>\n",
       "      <td>2.357033</td>\n",
       "      <td>0</td>\n",
       "      <td>4.862307</td>\n",
       "      <td>-2.005274</td>\n",
       "      <td>-4.862307</td>\n",
       "      <td>-4.362307</td>\n",
       "    </tr>\n",
       "    <tr>\n",
       "      <td>5018</td>\n",
       "      <td>11</td>\n",
       "      <td>955</td>\n",
       "      <td>0.5</td>\n",
       "      <td>3.281294</td>\n",
       "      <td>2.781294</td>\n",
       "      <td>0</td>\n",
       "      <td>4.893157</td>\n",
       "      <td>-1.611863</td>\n",
       "      <td>-4.893157</td>\n",
       "      <td>-4.393157</td>\n",
       "    </tr>\n",
       "    <tr>\n",
       "      <td>8131</td>\n",
       "      <td>67</td>\n",
       "      <td>433</td>\n",
       "      <td>0.5</td>\n",
       "      <td>3.692246</td>\n",
       "      <td>3.192246</td>\n",
       "      <td>5</td>\n",
       "      <td>4.903509</td>\n",
       "      <td>-1.211263</td>\n",
       "      <td>0.096491</td>\n",
       "      <td>-4.403509</td>\n",
       "    </tr>\n",
       "    <tr>\n",
       "      <td>7455</td>\n",
       "      <td>66</td>\n",
       "      <td>1128</td>\n",
       "      <td>0.5</td>\n",
       "      <td>2.158393</td>\n",
       "      <td>1.658393</td>\n",
       "      <td>0</td>\n",
       "      <td>4.955960</td>\n",
       "      <td>-2.797567</td>\n",
       "      <td>-4.955960</td>\n",
       "      <td>-4.455960</td>\n",
       "    </tr>\n",
       "    <tr>\n",
       "      <td>10086</td>\n",
       "      <td>4</td>\n",
       "      <td>725</td>\n",
       "      <td>0.5</td>\n",
       "      <td>3.305356</td>\n",
       "      <td>2.805356</td>\n",
       "      <td>0</td>\n",
       "      <td>4.998789</td>\n",
       "      <td>-1.693433</td>\n",
       "      <td>-4.998789</td>\n",
       "      <td>-4.498789</td>\n",
       "    </tr>\n",
       "  </tbody>\n",
       "</table>\n",
       "<p>14000 rows × 10 columns</p>\n",
       "</div>"
      ],
      "text/plain": [
       "       uid   iid  r_ui       est      diff  Erlös    Kosten  ProfitLinear  \\\n",
       "7708   184  1069   5.0  4.450822  0.549178      5  0.503556      3.947267   \n",
       "7718   177  1069   5.0  3.225706  1.774294      0  0.503556      2.722150   \n",
       "7705   119  1069   5.0  4.211221  0.788779      5  0.503556      3.707665   \n",
       "7710    39  1069   5.0  4.743591  0.256409      5  0.503556      4.240035   \n",
       "7713   127  1069   5.0  4.177607  0.822393      5  0.503556      3.674051   \n",
       "...    ...   ...   ...       ...       ...    ...       ...           ...   \n",
       "6443    20   586   0.5  2.857033  2.357033      0  4.862307     -2.005274   \n",
       "5018    11   955   0.5  3.281294  2.781294      0  4.893157     -1.611863   \n",
       "8131    67   433   0.5  3.692246  3.192246      5  4.903509     -1.211263   \n",
       "7455    66  1128   0.5  2.158393  1.658393      0  4.955960     -2.797567   \n",
       "10086    4   725   0.5  3.305356  2.805356      0  4.998789     -1.693433   \n",
       "\n",
       "       ProfitCutoff  ProfitTatsächlich  \n",
       "7708       4.496444           4.496444  \n",
       "7718      -0.503556           4.496444  \n",
       "7705       4.496444           4.496444  \n",
       "7710       4.496444           4.496444  \n",
       "7713       4.496444           4.496444  \n",
       "...             ...                ...  \n",
       "6443      -4.862307          -4.362307  \n",
       "5018      -4.893157          -4.393157  \n",
       "8131       0.096491          -4.403509  \n",
       "7455      -4.955960          -4.455960  \n",
       "10086     -4.998789          -4.498789  \n",
       "\n",
       "[14000 rows x 10 columns]"
      ]
     },
     "execution_count": 88,
     "metadata": {},
     "output_type": "execute_result"
    }
   ],
   "source": [
    "vorhersagenMitKostenNN.sort_values(by=['ProfitTatsächlich'], ascending = False)"
   ]
  },
  {
   "cell_type": "code",
   "execution_count": 89,
   "metadata": {},
   "outputs": [],
   "source": [
    "def findmovie(id):\n",
    "    return movies[movies['movieId']==id]"
   ]
  },
  {
   "cell_type": "code",
   "execution_count": 90,
   "metadata": {},
   "outputs": [
    {
     "data": {
      "text/html": [
       "<div>\n",
       "<style scoped>\n",
       "    .dataframe tbody tr th:only-of-type {\n",
       "        vertical-align: middle;\n",
       "    }\n",
       "\n",
       "    .dataframe tbody tr th {\n",
       "        vertical-align: top;\n",
       "    }\n",
       "\n",
       "    .dataframe thead th {\n",
       "        text-align: right;\n",
       "    }\n",
       "</style>\n",
       "<table border=\"1\" class=\"dataframe\">\n",
       "  <thead>\n",
       "    <tr style=\"text-align: right;\">\n",
       "      <th></th>\n",
       "      <th>movieId</th>\n",
       "      <th>title</th>\n",
       "      <th>genres</th>\n",
       "    </tr>\n",
       "  </thead>\n",
       "  <tbody>\n",
       "    <tr>\n",
       "      <td>3016</td>\n",
       "      <td>4034</td>\n",
       "      <td>Traffic (2000)</td>\n",
       "      <td>Crime|Drama|Thriller</td>\n",
       "    </tr>\n",
       "  </tbody>\n",
       "</table>\n",
       "</div>"
      ],
      "text/plain": [
       "      movieId           title                genres\n",
       "3016     4034  Traffic (2000)  Crime|Drama|Thriller"
      ]
     },
     "execution_count": 90,
     "metadata": {},
     "output_type": "execute_result"
    }
   ],
   "source": [
    "findmovie(4034)"
   ]
  },
  {
   "cell_type": "code",
   "execution_count": 91,
   "metadata": {},
   "outputs": [
    {
     "data": {
      "text/plain": [
       "'\\nJetzt kommen Hilfsfunktionen, bei denen Nutzer jeweils X Filmvorschläge bekommen. Dabei bin ich so vorgegangen, \\ndass ich zuerst eine Funktion für einzelne User erstellt habe, diese auf alle User angewandt, aber noch nicht den\\nModus spezifiziert habe und in der Folge einzelne Funktionen für verschiedene Modi für alle User erstellt habe\\n'"
      ]
     },
     "execution_count": 91,
     "metadata": {},
     "output_type": "execute_result"
    }
   ],
   "source": [
    "\"\"\"\n",
    "Jetzt kommen Hilfsfunktionen, bei denen Nutzer jeweils X Filmvorschläge bekommen. Dabei bin ich so vorgegangen, \n",
    "dass ich zuerst eine Funktion für einzelne User erstellt habe, diese auf alle User angewandt, aber noch nicht den\n",
    "Modus spezifiziert habe und in der Folge einzelne Funktionen für verschiedene Modi für alle User erstellt habe\n",
    "\"\"\""
   ]
  },
  {
   "cell_type": "code",
   "execution_count": 92,
   "metadata": {},
   "outputs": [],
   "source": [
    "#Leere Listen für die Ergebnisse\n",
    "liste_empfehlungen_nutzen = []\n",
    "liste_topratings_nutzen = []\n",
    "liste_quotienten_nutzen = []\n",
    "liste_profit_nutzen = []\n",
    "\n",
    "\n",
    "liste_empfehlungen_profit = []\n",
    "liste_topratings_profit = []\n",
    "liste_quotienten_profit = []\n",
    "liste_profit_profit = []\n",
    "\n",
    "\n",
    "liste_empfehlungen_profit_cutoff = []\n",
    "liste_topratings_profit_cutoff = []\n",
    "liste_quotienten_profit_cutoff = []\n",
    "liste_profit_profit_cutoff = []\n",
    "\n",
    "\n",
    "amount = 10\n",
    "#amount = 10"
   ]
  },
  {
   "cell_type": "code",
   "execution_count": 93,
   "metadata": {},
   "outputs": [],
   "source": [
    "users = vorhersagenMitKostenNN['uid'].drop_duplicates().values"
   ]
  },
  {
   "cell_type": "code",
   "execution_count": 94,
   "metadata": {},
   "outputs": [],
   "source": [
    "\"\"\"\n",
    "Für den Nutzer werden einzelne Vorhersagen getroffen und in der Folge:\n",
    "-die Summe der Bewertungen der X vorgeschlagenen Filme in dem Modus\n",
    "-die Summe der Bewertungen der X bestmöglichen Filme für den Nutzer\n",
    "-das Verhältnis aus diesen beiden Werten, um die Güte der Bewertung quantifizieren zu können\n",
    "\"\"\"\n",
    "def optimierungsingleuser(user, datensatz, modus, liste_e, liste_t, liste_q):    \n",
    "    vorhersagen_nutzer = datensatz[datensatz['uid'] == user]\n",
    "    topx_vorhersagen = vorhersagen_nutzer.sort_values(modus, ascending=False).head(amount)\n",
    "    topx_ratings = vorhersagen_nutzer.sort_values('r_ui', ascending=False).head(amount)\n",
    "    summe_empfehlungen = np.sum(topx_vorhersagen['r_ui'])\n",
    "    summe_ratings = np.sum(topx_ratings['r_ui'])\n",
    "    quotient = summe_empfehlungen / summe_ratings\n",
    "    liste_e.append(summe_empfehlungen)\n",
    "    liste_t.append(summe_ratings)\n",
    "    liste_q.append(quotient)"
   ]
  },
  {
   "cell_type": "code",
   "execution_count": 95,
   "metadata": {},
   "outputs": [],
   "source": [
    "\n",
    "def optimierungalleuser(modus, datensatz, liste_e, liste_t, liste_q):\n",
    "    #Anwendung auf alle Nutzer\n",
    "    for i in vorhersagenMitKostenNN['uid'].drop_duplicates().values:\n",
    "        optimierungsingleuser(i, datensatz, modus, liste_e, liste_t, liste_q)\n",
    "    #Erstellung von einem DataFrame für die Ausgaben für alle Nutzer zum Sammeln\n",
    "    e_series = pd.Series(liste_e)\n",
    "    t_series = pd.Series(liste_t)\n",
    "    q_series = pd.Series(liste_q)\n",
    "    etq_df = pd.concat([e_series, t_series, q_series], axis = 1)\n",
    "    etq_df = etq_df.rename(columns={0:'Top X', 1:'Max X', 2:'Quote' })\n",
    "    etq_df['Nutzer'] = etq_df.index + 1\n",
    "    #Durchschnitte aller Spalten berechnen\n",
    "    q_avg = np.mean(etq_df['Quote'].dropna())\n",
    "    t_avg = np.mean(etq_df['Max X'].dropna())\n",
    "    e_avg = np.mean(etq_df['Top X'].dropna())\n",
    "    print('durchschnittliches Rating der Empfehlungen beträgt: '+  str(e_avg))\n",
    "    print('durchschnittliches Rating der Top X für den User beträgt: '+ str(t_avg))\n",
    "    print('durchschnittlicher Quotient für den User beträgt: '+ str(q_avg))\n",
    "    return etq_df, q_avg"
   ]
  },
  {
   "cell_type": "code",
   "execution_count": 96,
   "metadata": {},
   "outputs": [],
   "source": [
    "#einzelne Funktion für Nutzenoptimierung\n",
    "def nutzenoptimierungalleuser(datensatz):\n",
    "    UebersichtNutzen, durchschnittlicherNutzen = optimierungalleuser('est', datensatz, liste_empfehlungen_nutzen, liste_topratings_nutzen, liste_quotienten_nutzen)\n",
    "    return UebersichtNutzen, durchschnittlicherNutzen\n",
    "    "
   ]
  },
  {
   "cell_type": "code",
   "execution_count": 97,
   "metadata": {},
   "outputs": [],
   "source": [
    "#einzelne Funktion für Profitoptimierung\n",
    "def profitoptimierungalleuser(datensatz):\n",
    "    UebersichtProfit, durchschnittlicherNutzenProfit = optimierungalleuser('ProfitLinear', datensatz, liste_empfehlungen_profit, liste_topratings_profit, liste_quotienten_profit)\n",
    "    return UebersichtProfit, durchschnittlicherNutzenProfit"
   ]
  },
  {
   "cell_type": "code",
   "execution_count": 98,
   "metadata": {},
   "outputs": [],
   "source": [
    "#einzelne Funktion für Profitoptimierung\n",
    "def profitoptimierungalleuserCutoff(datensatz):\n",
    "    UebersichtProfitCutoff, durchschnittlicherNutzenProfitCutoff = optimierungalleuser('ProfitCutoff', datensatz, liste_empfehlungen_profit_cutoff, liste_topratings_profit_cutoff, liste_quotienten_profit_cutoff)\n",
    "    return UebersichtProfitCutoff, durchschnittlicherNutzenProfitCutoff"
   ]
  },
  {
   "cell_type": "code",
   "execution_count": null,
   "metadata": {},
   "outputs": [],
   "source": []
  },
  {
   "cell_type": "code",
   "execution_count": 99,
   "metadata": {},
   "outputs": [
    {
     "data": {
      "text/plain": [
       "'\\nNun kommt die Auswertungsphase, in der mit:\\n-Profitoptimierung Linear\\n-Profitoptimierung mit Cutoff\\n-Nutzenoptimierung\\nVorschläge gemacht werden und für die Gesamtheit aller Nutzer ausgerechnet, wie die Güte der Ergebnisse ist\\n'"
      ]
     },
     "execution_count": 99,
     "metadata": {},
     "output_type": "execute_result"
    }
   ],
   "source": [
    "\"\"\"\n",
    "Nun kommt die Auswertungsphase, in der mit:\n",
    "-Profitoptimierung Linear\n",
    "-Profitoptimierung mit Cutoff\n",
    "-Nutzenoptimierung\n",
    "Vorschläge gemacht werden und für die Gesamtheit aller Nutzer ausgerechnet, wie die Güte der Ergebnisse ist\n",
    "\"\"\""
   ]
  },
  {
   "cell_type": "code",
   "execution_count": 100,
   "metadata": {},
   "outputs": [
    {
     "name": "stdout",
     "output_type": "stream",
     "text": [
      "durchschnittliches Rating der Empfehlungen beträgt: 37.74054054054054\n",
      "durchschnittliches Rating der Top X für den User beträgt: 47.054054054054056\n",
      "durchschnittlicher Quotient für den User beträgt: 0.8014526054528605\n"
     ]
    }
   ],
   "source": [
    "#Für alle 5 Datensätze profitoptimierende Vorschläge geben\n",
    "#UebersichtProfitSVD, durchschnittlicherNutzenProfitSVD = profitoptimierungalleuser(vorhersagenMitKostenSVD)\n",
    "UebersichtProfitNN, durchschnittlicherNutzenProfitNN = profitoptimierungalleuser(vorhersagenMitKostenNN)"
   ]
  },
  {
   "cell_type": "code",
   "execution_count": 101,
   "metadata": {},
   "outputs": [
    {
     "name": "stdout",
     "output_type": "stream",
     "text": [
      "durchschnittliches Rating der Empfehlungen beträgt: 37.7027027027027\n",
      "durchschnittliches Rating der Top X für den User beträgt: 47.054054054054056\n",
      "durchschnittlicher Quotient für den User beträgt: 0.8018092154886995\n"
     ]
    }
   ],
   "source": [
    "#Für alle 5 Datensätze profitoptimierende Vorschläge geben\n",
    "#UebersichtProfitCutoffSVD, durchschnittlicherNutzenProfitCutoffSVD = profitoptimierungalleuserCutoff(vorhersagenMitKostenSVD)\n",
    "UebersichtProfitCutoffNN, durchschnittlicherNutzenProfitCutoffNN = profitoptimierungalleuserCutoff(vorhersagenMitKostenNN)"
   ]
  },
  {
   "cell_type": "code",
   "execution_count": 102,
   "metadata": {},
   "outputs": [
    {
     "name": "stdout",
     "output_type": "stream",
     "text": [
      "durchschnittliches Rating der Empfehlungen beträgt: 39.80810810810811\n",
      "durchschnittliches Rating der Top X für den User beträgt: 47.054054054054056\n",
      "durchschnittlicher Quotient für den User beträgt: 0.845241832763512\n"
     ]
    }
   ],
   "source": [
    "#Für alle 5 Datensätze allen Nutzern nutzenoptimierende (baseline) Vorschläge\n",
    "#UebersichtNutzenSVD, durchschnittlicherNutzenSVD = nutzenoptimierungalleuser(vorhersagenMitKostenSVD)\n",
    "UebersichtNutzenNN, durchschnittlicherNutzenNN = nutzenoptimierungalleuser(vorhersagenMitKostenNN)"
   ]
  },
  {
   "cell_type": "code",
   "execution_count": 103,
   "metadata": {},
   "outputs": [
    {
     "name": "stdout",
     "output_type": "stream",
     "text": [
      "Profitorientiert (NN) liefert 5.180674407403963 % schwächere Ergebnisse\n",
      "Profitorientiert (NN) mit Cutoff liefert 5.138484110850239 % schwächere Ergebnisse\n"
     ]
    }
   ],
   "source": [
    "#Ausrechnen inwiefern die Ergebnisse durch den Modus schwächer als die Baseline sind\n",
    "#NutzenUnterschiedLinSVD = (1 - (durchschnittlicherNutzenProfitSVD / durchschnittlicherNutzenSVD)) * 100\n",
    "#print('Profitorientiert (SVD) Linear liefert ' + str(NutzenUnterschiedLinSVD) + ' ' +'%' + ' schwächere Ergebnisse')\n",
    "#NutzenUnterschiedCutSVD = (1 - (durchschnittlicherNutzenProfitCutoffSVD / durchschnittlicherNutzenSVD)) * 100\n",
    "#print('Profitorientiert (SVD) mit Cutoff liefert ' + str(NutzenUnterschiedCutSVD) + ' ' +'%' + ' schwächere Ergebnisse')\n",
    "\n",
    "NutzenUnterschiedLinNN = (1 - (durchschnittlicherNutzenProfitNN / durchschnittlicherNutzenNN)) * 100\n",
    "print('Profitorientiert (NN) liefert ' + str(NutzenUnterschiedLinNN) + ' ' +'%' + ' schwächere Ergebnisse')\n",
    "NutzenUnterschiedCutNN = (1 - (durchschnittlicherNutzenProfitCutoffNN / durchschnittlicherNutzenNN)) * 100\n",
    "print('Profitorientiert (NN) mit Cutoff liefert ' + str(NutzenUnterschiedCutNN) + ' ' +'%' + ' schwächere Ergebnisse')"
   ]
  },
  {
   "cell_type": "code",
   "execution_count": 104,
   "metadata": {},
   "outputs": [],
   "source": [
    "#Hilfsmethode, um bei einzelnen Nutzern in die Vorschläge einzusehen\n",
    "def nutzercheck(user, modus, datensatz):\n",
    "    nutzerVorschläge = datensatz[datensatz['uid'] == user].sort_values(modus, ascending=False).head(amount)\n",
    "    return nutzerVorschläge"
   ]
  },
  {
   "cell_type": "code",
   "execution_count": 105,
   "metadata": {},
   "outputs": [],
   "source": [
    "def moviecheck(film, modus, datensatz):\n",
    "    filmVorschläge = datensatz[datensatz['iid'] == film].sort_values(modus, ascending=False).head(1)\n",
    "    return filmVorschläge"
   ]
  },
  {
   "cell_type": "code",
   "execution_count": 118,
   "metadata": {},
   "outputs": [],
   "source": [
    "def recommend(userId):\n",
    "    a = 1\n",
    "    for i in nutzercheck(userId, 'est', vorhersagenMitKostenNN).iid.values:\n",
    "        print('Vorschlag Nr:' + str(a)+ ' ' + str(findmovie(i).title.values[0]) + '  mit vorhergesagter Bewertung: '+ str((moviecheck(i, 'est', vorhersagenMitKostenNN).est.values[0])))\n",
    "        a = a+1"
   ]
  },
  {
   "cell_type": "code",
   "execution_count": 119,
   "metadata": {},
   "outputs": [
    {
     "data": {
      "text/plain": [
       "3.652844429016113"
      ]
     },
     "execution_count": 119,
     "metadata": {},
     "output_type": "execute_result"
    }
   ],
   "source": [
    "nutzercheck(22, 'est', vorhersagenMitKostenNN).est.values[6]"
   ]
  },
  {
   "cell_type": "code",
   "execution_count": 120,
   "metadata": {},
   "outputs": [
    {
     "name": "stdout",
     "output_type": "stream",
     "text": [
      "Vorschlag Nr:1 Spitfire Grill, The (1996)  mit vorhergesagter Bewertung: 4.4110941886901855\n",
      "Vorschlag Nr:2 Conspiracy Theory (1997)  mit vorhergesagter Bewertung: 4.650861740112305\n",
      "Vorschlag Nr:3 Little Princess, A (1995)  mit vorhergesagter Bewertung: 4.790658473968506\n",
      "Vorschlag Nr:4 Smoke (1995)  mit vorhergesagter Bewertung: 4.381709575653076\n",
      "Vorschlag Nr:5 Mr. Holland's Opus (1995)  mit vorhergesagter Bewertung: 4.9681806564331055\n",
      "Vorschlag Nr:6 Cutthroat Island (1995)  mit vorhergesagter Bewertung: 5.021589279174805\n",
      "Vorschlag Nr:7 My Life in Pink (Ma vie en rose) (1997)  mit vorhergesagter Bewertung: 4.587177276611328\n",
      "Vorschlag Nr:8 Meet Me in St. Louis (1944)  mit vorhergesagter Bewertung: 4.324050426483153\n",
      "Vorschlag Nr:9 Secret of Roan Inish, The (1994)  mit vorhergesagter Bewertung: 4.609102249145508\n",
      "Vorschlag Nr:10 Babe (1995)  mit vorhergesagter Bewertung: 4.666027069091797\n"
     ]
    }
   ],
   "source": [
    "recommend(22)"
   ]
  },
  {
   "cell_type": "code",
   "execution_count": 109,
   "metadata": {},
   "outputs": [
    {
     "data": {
      "text/plain": [
       "'Rückwertslauf und Auswertung vom Profit aus'"
      ]
     },
     "execution_count": 109,
     "metadata": {},
     "output_type": "execute_result"
    }
   ],
   "source": [
    "\"\"\"Rückwertslauf und Auswertung vom Profit aus\"\"\""
   ]
  },
  {
   "cell_type": "code",
   "execution_count": 47,
   "metadata": {},
   "outputs": [],
   "source": [
    "modusliste = ['ProfitTatsächlich', 'est', 'r_ui', 'ProfitCutoff', 'ProfitLinear']\n",
    "liste_prof_lin = []\n",
    "liste_prof_top = []\n",
    "liste_prof_quot = []\n",
    "liste_prof_cut = []\n",
    "liste_prof_rat = []\n",
    "liste_prof_est = []"
   ]
  },
  {
   "cell_type": "code",
   "execution_count": 48,
   "metadata": {},
   "outputs": [],
   "source": [
    "def profitrücklaufsingle(datensatz):\n",
    "    for i in ratings['Cust_Id'].drop_duplicates().values:\n",
    "        tatsächlich_df = nutzercheck(i, 'ProfitTatsächlich', datensatz)['ProfitTatsächlich'].values.sum()\n",
    "        liste_prof_top.append(tatsächlich_df)\n",
    "    for i in ratings['Cust_Id'].drop_duplicates().values:\n",
    "        lin_df = nutzercheck(i, 'est', datensatz)['ProfitTatsächlich'].values.sum()\n",
    "        liste_prof_est.append(lin_df)\n",
    "    for i in ratings['Cust_Id'].drop_duplicates().values:\n",
    "        rat_df = nutzercheck(i, 'r_ui', datensatz)['ProfitTatsächlich'].values.sum()\n",
    "        liste_prof_rat.append(rat_df)\n",
    "    for i in ratings['Cust_Id'].drop_duplicates().values:\n",
    "        cut_df = nutzercheck(i, 'ProfitCutoff', datensatz)['ProfitTatsächlich'].values.sum()\n",
    "        liste_prof_cut.append(cut_df)\n",
    "    for i in ratings['Cust_Id'].drop_duplicates().values:\n",
    "        lin_df = nutzercheck(i, 'ProfitLinear', datensatz)['ProfitTatsächlich'].values.sum()\n",
    "        liste_prof_lin.append(lin_df)\n",
    "    \n",
    "    return liste_prof_top, liste_prof_est, liste_prof_rat, liste_prof_cut, liste_prof_lin"
   ]
  },
  {
   "cell_type": "code",
   "execution_count": 49,
   "metadata": {},
   "outputs": [],
   "source": [
    "def profitrücklaufmehr(datensatz):\n",
    "    \n",
    "    a,b,c,d,e = profitrücklaufsingle(datensatz)\n",
    "    top_series = pd.Series(a)\n",
    "    est_series = pd.Series(b)\n",
    "    rat_series = pd.Series(c)\n",
    "    cut_series = pd.Series(d)\n",
    "    lin_series = pd.Series(e)\n",
    "\n",
    "    profit_df = pd.concat([est_series, rat_series, lin_series, cut_series, top_series], axis = 1)\n",
    "    profit_df = profit_df.rename(columns={0:'Est', 1:'TopRating', 2:'Linear', 3:'Cutoff', 4:'TopProfit' })\n",
    "    profit_df['Nutzer'] = profit_df.index + 1\n",
    "    profit_df['Est/Top'] = profit_df['Est'] / profit_df['TopProfit']\n",
    "    profit_df['TopRating/Top'] = profit_df['TopRating'] / profit_df['TopProfit']\n",
    "    profit_df['Linear/Top'] = profit_df['Linear'] / profit_df['TopProfit']\n",
    "    profit_df['Cutoff/Top'] = profit_df['Cutoff'] / profit_df['TopProfit']\n",
    "    profit_df = profit_df.dropna()\n",
    "\n",
    "    names = {'Est/Top': profit_df['Est/Top'].values.mean(), 'TopRating/Top': profit_df['TopRating/Top'].values.mean(), 'Linear/Top': profit_df['Linear/Top'].values.mean(), 'Cutoff/Top': profit_df['Cutoff/Top']}\n",
    "    profit_df_avgs = pd.DataFrame(names)[:1]\n",
    "\n",
    "    Est_sum = profit_df['Est'].values.sum()\n",
    "    TopRating_sum = profit_df['TopRating'].values.sum()\n",
    "    Linear_sum = profit_df['Linear'].values.sum()\n",
    "    Cutoff_sum = profit_df['Cutoff'].values.sum()\n",
    "    TopProfit_sum = profit_df['TopProfit'].values.sum()\n",
    "    sums_list = [Est_sum, TopRating_sum, Linear_sum, Cutoff_sum, TopProfit_sum]\n",
    "\n",
    "    return profit_df, profit_df_avgs, sums_list"
   ]
  },
  {
   "cell_type": "code",
   "execution_count": 50,
   "metadata": {},
   "outputs": [],
   "source": [
    "profit_df_nn, profit_df_avgs_nn, sums_list_nn = profitrücklaufmehr(vorhersagenMitKostenNN)\n",
    "\n"
   ]
  },
  {
   "cell_type": "code",
   "execution_count": 51,
   "metadata": {},
   "outputs": [],
   "source": [
    "meanTopNutzen = profit_df_nn['Est'].mean()\n",
    "meanTopLinear = profit_df_nn['Linear'].mean()\n",
    "meanTopCutoff = profit_df_nn['Cutoff'].mean()\n",
    "meanMaxProfit = profit_df_nn['TopProfit'].mean()\n",
    "profitquoteNutzen = meanTopNutzen/meanMaxProfit\n",
    "profitquoteLinear = meanTopLinear/meanMaxProfit\n",
    "profitquoteCutoff = meanTopCutoff/meanMaxProfit"
   ]
  },
  {
   "cell_type": "code",
   "execution_count": 52,
   "metadata": {},
   "outputs": [
    {
     "name": "stdout",
     "output_type": "stream",
     "text": [
      "durchschnittlicher vorhergesagter Profit nach Nutzenmaximierung: 11.734692662292597\n",
      "durchschnittlich maximal möglicher Profit: 31.27118093210191\n",
      "ProfitQuote: 0.37525582061552937\n"
     ]
    }
   ],
   "source": [
    "print('durchschnittlicher vorhergesagter Profit nach Nutzenmaximierung: ' + str(meanTopNutzen))\n",
    "print('durchschnittlich maximal möglicher Profit: ' + str(meanMaxProfit))\n",
    "print('ProfitQuote: ' + str(profitquoteNutzen))\n"
   ]
  },
  {
   "cell_type": "code",
   "execution_count": 53,
   "metadata": {},
   "outputs": [
    {
     "name": "stdout",
     "output_type": "stream",
     "text": [
      "durchschnittlicher vorhergesagter Profit nach Profitmaximierung (Linear) : 27.675562646564362\n",
      "durchschnittlich maximal möglicher Profit: 31.27118093210191\n",
      "ProfitQuote: 0.885018148392138\n"
     ]
    }
   ],
   "source": [
    "print('durchschnittlicher vorhergesagter Profit nach Profitmaximierung (Linear) : ' + str(meanTopLinear))\n",
    "print('durchschnittlich maximal möglicher Profit: ' + str(meanMaxProfit))\n",
    "print('ProfitQuote: ' + str(profitquoteLinear))"
   ]
  },
  {
   "cell_type": "code",
   "execution_count": 54,
   "metadata": {},
   "outputs": [
    {
     "name": "stdout",
     "output_type": "stream",
     "text": [
      "durchschnittlicher vorhergesagter Profit nach Profitmaximierung (mit Cutoff) : 26.1225814301819\n",
      "durchschnittlich maximal möglicher Profit: 31.27118093210191\n",
      "ProfitQuote: 0.8353564096891961\n"
     ]
    }
   ],
   "source": [
    "print('durchschnittlicher vorhergesagter Profit nach Profitmaximierung (mit Cutoff) : ' + str(meanTopCutoff))\n",
    "print('durchschnittlich maximal möglicher Profit: ' + str(meanMaxProfit))\n",
    "print('ProfitQuote: ' + str(profitquoteCutoff))"
   ]
  },
  {
   "cell_type": "code",
   "execution_count": 55,
   "metadata": {},
   "outputs": [],
   "source": [
    "#profit_df_nn, profit_df_avgs_nn, sums_list_nn = profitrücklaufmehr(vorhersagenMitKostenNN)"
   ]
  },
  {
   "cell_type": "code",
   "execution_count": 56,
   "metadata": {},
   "outputs": [
    {
     "name": "stdout",
     "output_type": "stream",
     "text": [
      "Nutzenorientiert ist: 5.6113808279711686% weniger profitabel als profitorientiert (Linear) \n"
     ]
    }
   ],
   "source": [
    "print('Nutzenorientiert ist: ' + str((1-(profitquoteCutoff/profitquoteLinear))*100) + '% weniger profitabel als profitorientiert (Linear) ')"
   ]
  },
  {
   "cell_type": "code",
   "execution_count": 57,
   "metadata": {},
   "outputs": [
    {
     "data": {
      "text/html": [
       "<div>\n",
       "<style scoped>\n",
       "    .dataframe tbody tr th:only-of-type {\n",
       "        vertical-align: middle;\n",
       "    }\n",
       "\n",
       "    .dataframe tbody tr th {\n",
       "        vertical-align: top;\n",
       "    }\n",
       "\n",
       "    .dataframe thead th {\n",
       "        text-align: right;\n",
       "    }\n",
       "</style>\n",
       "<table border=\"1\" class=\"dataframe\">\n",
       "  <thead>\n",
       "    <tr style=\"text-align: right;\">\n",
       "      <th></th>\n",
       "      <th>Est/Top</th>\n",
       "      <th>TopRating/Top</th>\n",
       "      <th>Linear/Top</th>\n",
       "      <th>Cutoff/Top</th>\n",
       "    </tr>\n",
       "  </thead>\n",
       "  <tbody>\n",
       "    <tr>\n",
       "      <td>0</td>\n",
       "      <td>0.359747</td>\n",
       "      <td>0.591411</td>\n",
       "      <td>0.884045</td>\n",
       "      <td>0.858179</td>\n",
       "    </tr>\n",
       "  </tbody>\n",
       "</table>\n",
       "</div>"
      ],
      "text/plain": [
       "    Est/Top  TopRating/Top  Linear/Top  Cutoff/Top\n",
       "0  0.359747       0.591411    0.884045    0.858179"
      ]
     },
     "execution_count": 57,
     "metadata": {},
     "output_type": "execute_result"
    }
   ],
   "source": [
    "#profit_df_avgs_nn\n",
    "profit_df_avgs_nn"
   ]
  },
  {
   "cell_type": "code",
   "execution_count": 67,
   "metadata": {},
   "outputs": [
    {
     "data": {
      "text/html": [
       "<div>\n",
       "<style scoped>\n",
       "    .dataframe tbody tr th:only-of-type {\n",
       "        vertical-align: middle;\n",
       "    }\n",
       "\n",
       "    .dataframe tbody tr th {\n",
       "        vertical-align: top;\n",
       "    }\n",
       "\n",
       "    .dataframe thead th {\n",
       "        text-align: right;\n",
       "    }\n",
       "</style>\n",
       "<table border=\"1\" class=\"dataframe\">\n",
       "  <thead>\n",
       "    <tr style=\"text-align: right;\">\n",
       "      <th></th>\n",
       "      <th>Est</th>\n",
       "      <th>TopRating</th>\n",
       "      <th>Linear</th>\n",
       "      <th>Cutoff</th>\n",
       "      <th>TopProfit</th>\n",
       "      <th>Nutzer</th>\n",
       "      <th>Est/Top</th>\n",
       "      <th>TopRating/Top</th>\n",
       "      <th>Linear/Top</th>\n",
       "      <th>Cutoff/Top</th>\n",
       "    </tr>\n",
       "  </thead>\n",
       "  <tbody>\n",
       "    <tr>\n",
       "      <td>0</td>\n",
       "      <td>-1.401865</td>\n",
       "      <td>8.985539</td>\n",
       "      <td>20.152022</td>\n",
       "      <td>20.117112</td>\n",
       "      <td>23.441639</td>\n",
       "      <td>1</td>\n",
       "      <td>-0.059802</td>\n",
       "      <td>0.383315</td>\n",
       "      <td>0.859668</td>\n",
       "      <td>0.858179</td>\n",
       "    </tr>\n",
       "    <tr>\n",
       "      <td>1</td>\n",
       "      <td>-0.301279</td>\n",
       "      <td>12.321848</td>\n",
       "      <td>18.708163</td>\n",
       "      <td>18.171603</td>\n",
       "      <td>26.248922</td>\n",
       "      <td>2</td>\n",
       "      <td>-0.011478</td>\n",
       "      <td>0.469423</td>\n",
       "      <td>0.712721</td>\n",
       "      <td>0.692280</td>\n",
       "    </tr>\n",
       "    <tr>\n",
       "      <td>2</td>\n",
       "      <td>11.791964</td>\n",
       "      <td>12.084606</td>\n",
       "      <td>24.638937</td>\n",
       "      <td>22.376753</td>\n",
       "      <td>30.793095</td>\n",
       "      <td>3</td>\n",
       "      <td>0.382942</td>\n",
       "      <td>0.392445</td>\n",
       "      <td>0.800145</td>\n",
       "      <td>0.726681</td>\n",
       "    </tr>\n",
       "    <tr>\n",
       "      <td>3</td>\n",
       "      <td>8.999180</td>\n",
       "      <td>20.234475</td>\n",
       "      <td>30.824910</td>\n",
       "      <td>30.842689</td>\n",
       "      <td>32.011023</td>\n",
       "      <td>4</td>\n",
       "      <td>0.281128</td>\n",
       "      <td>0.632110</td>\n",
       "      <td>0.962947</td>\n",
       "      <td>0.963502</td>\n",
       "    </tr>\n",
       "    <tr>\n",
       "      <td>4</td>\n",
       "      <td>7.258041</td>\n",
       "      <td>19.697747</td>\n",
       "      <td>25.317446</td>\n",
       "      <td>25.571057</td>\n",
       "      <td>26.858378</td>\n",
       "      <td>5</td>\n",
       "      <td>0.270234</td>\n",
       "      <td>0.733393</td>\n",
       "      <td>0.942628</td>\n",
       "      <td>0.952070</td>\n",
       "    </tr>\n",
       "  </tbody>\n",
       "</table>\n",
       "</div>"
      ],
      "text/plain": [
       "         Est  TopRating     Linear     Cutoff  TopProfit  Nutzer   Est/Top  \\\n",
       "0  -1.401865   8.985539  20.152022  20.117112  23.441639       1 -0.059802   \n",
       "1  -0.301279  12.321848  18.708163  18.171603  26.248922       2 -0.011478   \n",
       "2  11.791964  12.084606  24.638937  22.376753  30.793095       3  0.382942   \n",
       "3   8.999180  20.234475  30.824910  30.842689  32.011023       4  0.281128   \n",
       "4   7.258041  19.697747  25.317446  25.571057  26.858378       5  0.270234   \n",
       "\n",
       "   TopRating/Top  Linear/Top  Cutoff/Top  \n",
       "0       0.383315    0.859668    0.858179  \n",
       "1       0.469423    0.712721    0.692280  \n",
       "2       0.392445    0.800145    0.726681  \n",
       "3       0.632110    0.962947    0.963502  \n",
       "4       0.733393    0.942628    0.952070  "
      ]
     },
     "execution_count": 67,
     "metadata": {},
     "output_type": "execute_result"
    }
   ],
   "source": [
    "profit_df_nn.head()"
   ]
  },
  {
   "cell_type": "code",
   "execution_count": 59,
   "metadata": {},
   "outputs": [
    {
     "data": {
      "text/plain": [
       "'\\nNoch ein paar Graphen als Bonus\\n'"
      ]
     },
     "execution_count": 59,
     "metadata": {},
     "output_type": "execute_result"
    }
   ],
   "source": [
    "\"\"\"\n",
    "Noch ein paar Graphen als Bonus\n",
    "\"\"\""
   ]
  },
  {
   "cell_type": "code",
   "execution_count": 60,
   "metadata": {},
   "outputs": [
    {
     "data": {
      "text/plain": [
       "<seaborn.axisgrid.FacetGrid at 0x125ac9390>"
      ]
     },
     "execution_count": 60,
     "metadata": {},
     "output_type": "execute_result"
    },
    {
     "data": {
      "image/png": "[encoded data removed]",
      "text/plain": [
       "<Figure size 360x360 with 1 Axes>"
      ]
     },
     "metadata": {
      "needs_background": "light"
     },
     "output_type": "display_data"
    }
   ],
   "source": [
    "sns.lmplot(data=UebersichtNutzenNN, x=\"Nutzer\", y='Quote')"
   ]
  },
  {
   "cell_type": "code",
   "execution_count": 61,
   "metadata": {},
   "outputs": [
    {
     "data": {
      "text/plain": [
       "<seaborn.axisgrid.FacetGrid at 0x127c92610>"
      ]
     },
     "execution_count": 61,
     "metadata": {},
     "output_type": "execute_result"
    },
    {
     "data": {
      "image/png": "[encoded data removed]",
      "text/plain": [
       "<Figure size 360x360 with 1 Axes>"
      ]
     },
     "metadata": {
      "needs_background": "light"
     },
     "output_type": "display_data"
    }
   ],
   "source": [
    "sns.lmplot(data=UebersichtProfitCutoffNN, x=\"Nutzer\", y='Quote')"
   ]
  },
  {
   "cell_type": "code",
   "execution_count": 62,
   "metadata": {},
   "outputs": [
    {
     "data": {
      "text/plain": [
       "<seaborn.axisgrid.FacetGrid at 0x125e0fcd0>"
      ]
     },
     "execution_count": 62,
     "metadata": {},
     "output_type": "execute_result"
    },
    {
     "data": {
      "image/png": "[encoded data removed]",
      "text/plain": [
       "<Figure size 360x360 with 1 Axes>"
      ]
     },
     "metadata": {
      "needs_background": "light"
     },
     "output_type": "display_data"
    }
   ],
   "source": [
    "sns.lmplot(data=UebersichtProfitNN, x=\"Nutzer\", y='Quote')"
   ]
  },
  {
   "cell_type": "code",
   "execution_count": 63,
   "metadata": {},
   "outputs": [
    {
     "data": {
      "text/plain": [
       "<seaborn.axisgrid.FacetGrid at 0x128113610>"
      ]
     },
     "execution_count": 63,
     "metadata": {},
     "output_type": "execute_result"
    },
    {
     "data": {
      "image/png": "[encoded data removed]",
      "text/plain": [
       "<Figure size 360x360 with 1 Axes>"
      ]
     },
     "metadata": {
      "needs_background": "light"
     },
     "output_type": "display_data"
    }
   ],
   "source": [
    "sns.lmplot(data=profit_df_nn, x=\"Nutzer\", y='TopProfit')"
   ]
  },
  {
   "cell_type": "code",
   "execution_count": 64,
   "metadata": {},
   "outputs": [],
   "source": [
    "import pylab as plt"
   ]
  },
  {
   "cell_type": "code",
   "execution_count": 65,
   "metadata": {},
   "outputs": [
    {
     "data": {
      "image/png": "[encoded data removed]",
      "text/plain": [
       "<Figure size 432x288 with 1 Axes>"
      ]
     },
     "metadata": {
      "needs_background": "light"
     },
     "output_type": "display_data"
    }
   ],
   "source": [
    "profit_sorted = profit_df_nn.sort_values(by=['TopProfit'], ascending=True)\n",
    "\n",
    "Y1 = profit_df_nn['TopProfit'].sort_values(ascending=True)\n",
    "Y1 = Y1.reset_index(drop=True)\n",
    "Y2 = profit_sorted['Linear']\n",
    "#Y3 = profit_sorted['Cutoff']\n",
    "Y4 = profit_sorted['Est']\n",
    "X = Y1.index\n",
    "plt.scatter(X,Y1,color='k')\n",
    "plt.scatter(X,Y2,color='g')\n",
    "#plt.scatter(X,Y3,color='r')\n",
    "plt.scatter(X,Y4,color='b')\n",
    "plt.title(\"Profit für jeden Nutzer nach Zielsetzung\")\n",
    "plt.ylabel(\"Profit\")\n",
    "plt.xlabel(\"Nutzer\")\n",
    "plt.legend(('Maximaler Profit', 'Profitmaximierung (Linear)', 'Nutzenmaximierung'))\n",
    "plt.rcParams[\"figure.figsize\"] = (7,3)\n",
    "plt.savefig(\"profitplot.svg\", dpi=70)\n",
    "plt.show()\n",
    "\n"
   ]
  },
  {
   "cell_type": "code",
   "execution_count": null,
   "metadata": {},
   "outputs": [],
   "source": []
  },
  {
   "cell_type": "code",
   "execution_count": null,
   "metadata": {},
   "outputs": [],
   "source": []
  },
  {
   "cell_type": "code",
   "execution_count": null,
   "metadata": {},
   "outputs": [],
   "source": []
  }
 ],
 "metadata": {
  "kernelspec": {
   "display_name": "Python 3",
   "language": "python",
   "name": "python3"
  },
  "language_info": {
   "codemirror_mode": {
    "name": "ipython",
    "version": 3
   },
   "file_extension": ".py",
   "mimetype": "text/x-python",
   "name": "python",
   "nbconvert_exporter": "python",
   "pygments_lexer": "ipython3",
   "version": "3.7.4"
  }
 },
 "nbformat": 4,
 "nbformat_minor": 4
}
