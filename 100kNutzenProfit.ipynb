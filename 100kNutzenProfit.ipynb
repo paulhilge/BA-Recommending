{
 "cells": [
  {
   "cell_type": "code",
   "execution_count": 1,
   "metadata": {},
   "outputs": [],
   "source": [
    "\"\"\" \n",
    "Importieren von wichtigen Plugins für das System:\n",
    "- Pandas zur Nutzung von Dataframes als Datentyp zur Speicherung, Veränderung und Anzeige des Datensatzes\n",
    "- Surprise zur Einbindung als Framework für das Vorschlagssystem inklusive der Algorithmen und Auswertungen\n",
    "- Der Rest für die Erleichterung der Darstellung und mathematischer Umformungen\n",
    "\"\"\"\n",
    "import pandas as pd\n",
    "import numpy as np\n",
    "import math\n",
    "import re\n",
    "from scipy.sparse import csr_matrix\n",
    "import matplotlib.pyplot as plt\n",
    "import seaborn as sns\n",
    "from ggplot import *\n",
    "from surprise import Reader, Dataset, SVD, accuracy\n",
    "sns.set_style(\"darkgrid\")\n",
    "from surprise.model_selection import cross_validate\n",
    "from surprise.model_selection import train_test_split\n",
    "from statsmodels.stats.outliers_influence import summary_table"
   ]
  },
  {
   "cell_type": "code",
   "execution_count": null,
   "metadata": {},
   "outputs": [],
   "source": []
  },
  {
   "cell_type": "code",
   "execution_count": 2,
   "metadata": {},
   "outputs": [
    {
     "data": {
      "text/plain": [
       "'\\nDer erste Teil:\\n- Datensatz importieren: hier Movielens 100k aufgrund der Größe und Uploadbarkeit für GitHub\\n- Datensatz auf gewünschtes Format bringen: Matrix\\n'"
      ]
     },
     "execution_count": 2,
     "metadata": {},
     "output_type": "execute_result"
    }
   ],
   "source": [
    "\"\"\"\n",
    "Der erste Teil:\n",
    "- Datensatz importieren: hier Movielens 100k aufgrund der Größe und Uploadbarkeit für GitHub\n",
    "- Datensatz auf gewünschtes Format bringen: Matrix\n",
    "\"\"\""
   ]
  },
  {
   "cell_type": "code",
   "execution_count": 3,
   "metadata": {},
   "outputs": [
    {
     "data": {
      "text/html": [
       "<div>\n",
       "<style scoped>\n",
       "    .dataframe tbody tr th:only-of-type {\n",
       "        vertical-align: middle;\n",
       "    }\n",
       "\n",
       "    .dataframe tbody tr th {\n",
       "        vertical-align: top;\n",
       "    }\n",
       "\n",
       "    .dataframe thead th {\n",
       "        text-align: right;\n",
       "    }\n",
       "</style>\n",
       "<table border=\"1\" class=\"dataframe\">\n",
       "  <thead>\n",
       "    <tr style=\"text-align: right;\">\n",
       "      <th></th>\n",
       "      <th>userId</th>\n",
       "      <th>movieId</th>\n",
       "      <th>rating</th>\n",
       "      <th>timestamp</th>\n",
       "    </tr>\n",
       "  </thead>\n",
       "  <tbody>\n",
       "    <tr>\n",
       "      <td>0</td>\n",
       "      <td>1</td>\n",
       "      <td>1</td>\n",
       "      <td>4.0</td>\n",
       "      <td>964982703</td>\n",
       "    </tr>\n",
       "    <tr>\n",
       "      <td>1</td>\n",
       "      <td>1</td>\n",
       "      <td>3</td>\n",
       "      <td>4.0</td>\n",
       "      <td>964981247</td>\n",
       "    </tr>\n",
       "    <tr>\n",
       "      <td>2</td>\n",
       "      <td>1</td>\n",
       "      <td>6</td>\n",
       "      <td>4.0</td>\n",
       "      <td>964982224</td>\n",
       "    </tr>\n",
       "    <tr>\n",
       "      <td>3</td>\n",
       "      <td>1</td>\n",
       "      <td>47</td>\n",
       "      <td>5.0</td>\n",
       "      <td>964983815</td>\n",
       "    </tr>\n",
       "    <tr>\n",
       "      <td>4</td>\n",
       "      <td>1</td>\n",
       "      <td>50</td>\n",
       "      <td>5.0</td>\n",
       "      <td>964982931</td>\n",
       "    </tr>\n",
       "  </tbody>\n",
       "</table>\n",
       "</div>"
      ],
      "text/plain": [
       "   userId  movieId  rating  timestamp\n",
       "0       1        1     4.0  964982703\n",
       "1       1        3     4.0  964981247\n",
       "2       1        6     4.0  964982224\n",
       "3       1       47     5.0  964983815\n",
       "4       1       50     5.0  964982931"
      ]
     },
     "execution_count": 3,
     "metadata": {},
     "output_type": "execute_result"
    }
   ],
   "source": [
    "\"\"\"\n",
    "Importieren vom Datensatz:\n",
    "Jeder Eintrag besteht aus: einem User (mit ID), der einem Film (mit ID), ein Rating auf einer Skala von 1-5 (als Float) gibt\n",
    "\"\"\"\n",
    "ratings = pd.read_csv('ratings100k.csv')\n",
    "ratings.head()  #Anzeige des Kopfes vom Dataframe zur Veranschaulichung"
   ]
  },
  {
   "cell_type": "code",
   "execution_count": 4,
   "metadata": {},
   "outputs": [
    {
     "data": {
      "text/html": [
       "<div>\n",
       "<style scoped>\n",
       "    .dataframe tbody tr th:only-of-type {\n",
       "        vertical-align: middle;\n",
       "    }\n",
       "\n",
       "    .dataframe tbody tr th {\n",
       "        vertical-align: top;\n",
       "    }\n",
       "\n",
       "    .dataframe thead th {\n",
       "        text-align: right;\n",
       "    }\n",
       "</style>\n",
       "<table border=\"1\" class=\"dataframe\">\n",
       "  <thead>\n",
       "    <tr style=\"text-align: right;\">\n",
       "      <th></th>\n",
       "      <th>movieId</th>\n",
       "      <th>title</th>\n",
       "      <th>genres</th>\n",
       "    </tr>\n",
       "  </thead>\n",
       "  <tbody>\n",
       "    <tr>\n",
       "      <td>0</td>\n",
       "      <td>1</td>\n",
       "      <td>Toy Story (1995)</td>\n",
       "      <td>Adventure|Animation|Children|Comedy|Fantasy</td>\n",
       "    </tr>\n",
       "    <tr>\n",
       "      <td>1</td>\n",
       "      <td>2</td>\n",
       "      <td>Jumanji (1995)</td>\n",
       "      <td>Adventure|Children|Fantasy</td>\n",
       "    </tr>\n",
       "    <tr>\n",
       "      <td>2</td>\n",
       "      <td>3</td>\n",
       "      <td>Grumpier Old Men (1995)</td>\n",
       "      <td>Comedy|Romance</td>\n",
       "    </tr>\n",
       "    <tr>\n",
       "      <td>3</td>\n",
       "      <td>4</td>\n",
       "      <td>Waiting to Exhale (1995)</td>\n",
       "      <td>Comedy|Drama|Romance</td>\n",
       "    </tr>\n",
       "    <tr>\n",
       "      <td>4</td>\n",
       "      <td>5</td>\n",
       "      <td>Father of the Bride Part II (1995)</td>\n",
       "      <td>Comedy</td>\n",
       "    </tr>\n",
       "  </tbody>\n",
       "</table>\n",
       "</div>"
      ],
      "text/plain": [
       "   movieId                               title  \\\n",
       "0        1                    Toy Story (1995)   \n",
       "1        2                      Jumanji (1995)   \n",
       "2        3             Grumpier Old Men (1995)   \n",
       "3        4            Waiting to Exhale (1995)   \n",
       "4        5  Father of the Bride Part II (1995)   \n",
       "\n",
       "                                        genres  \n",
       "0  Adventure|Animation|Children|Comedy|Fantasy  \n",
       "1                   Adventure|Children|Fantasy  \n",
       "2                               Comedy|Romance  \n",
       "3                         Comedy|Drama|Romance  \n",
       "4                                       Comedy  "
      ]
     },
     "execution_count": 4,
     "metadata": {},
     "output_type": "execute_result"
    }
   ],
   "source": [
    "movies = pd.read_csv('movies100k.csv')\n",
    "movies.head()  #Anzeige des Kopfes vom Dataframe zur Veranschaulichung"
   ]
  },
  {
   "cell_type": "code",
   "execution_count": 5,
   "metadata": {},
   "outputs": [
    {
     "name": "stdout",
     "output_type": "stream",
     "text": [
      "   Cust_Id  Rating  Movie_Id\n",
      "0        1     4.0         1\n",
      "1        1     4.0         3\n",
      "2        1     4.0         6\n",
      "3        1     5.0        47\n",
      "4        1     5.0        50\n"
     ]
    }
   ],
   "source": [
    "\"\"\"\n",
    "Umformung in ein für Surprise nutzbares Format: \n",
    "Cust_Id - Rating - Movie_Id\n",
    "Timestamp wird nicht benötigt\n",
    "\"\"\"\n",
    "ratings = ratings.rename(columns={\"userId\": \"Cust_Id\", \"rating\": \"Rating\", \"movieId\": \"Movie_Id\"})\n",
    "ratings = ratings.drop(['timestamp'], axis=1)\n",
    "ratings = ratings[['Cust_Id','Rating','Movie_Id']]\n",
    "print(ratings.head())"
   ]
  },
  {
   "cell_type": "code",
   "execution_count": 6,
   "metadata": {},
   "outputs": [
    {
     "name": "stdout",
     "output_type": "stream",
     "text": [
      "Movie minimum times of review: 7.0\n",
      "Customer minimum times of review: 140.0\n"
     ]
    }
   ],
   "source": [
    "\"\"\"\n",
    "Um etwas Zugriff zu bekommen, werden User und Filme rausgeschmissen, die zu wenig Bewertungen bekommen.\n",
    "Inhaltlich passt dies auch, da diese Nutzer zuerst auf anderem Wege (Cold Start) Vorschläge erhalten\n",
    "\"\"\"\n",
    "f = ['count','mean']\n",
    "\n",
    "df_movie_summary = ratings.groupby('Movie_Id')['Rating'].agg(f)\n",
    "df_movie_summary.index = df_movie_summary.index.map(int)\n",
    "movie_benchmark = round(df_movie_summary['count'].quantile(0.7),0)\n",
    "drop_movie_list = df_movie_summary[df_movie_summary['count'] < movie_benchmark].index\n",
    "\n",
    "print('Movie minimum times of review: {}'.format(movie_benchmark))\n",
    "\n",
    "df_cust_summary = ratings.groupby('Cust_Id')['Rating'].agg(f)\n",
    "df_cust_summary.index = df_cust_summary.index.map(int)\n",
    "cust_benchmark = round(df_cust_summary['count'].quantile(0.7),0)\n",
    "drop_cust_list = df_cust_summary[df_cust_summary['count'] < cust_benchmark].index\n",
    "\n",
    "print('Customer minimum times of review: {}'.format(cust_benchmark))"
   ]
  },
  {
   "cell_type": "code",
   "execution_count": 7,
   "metadata": {},
   "outputs": [
    {
     "name": "stdout",
     "output_type": "stream",
     "text": [
      "Original Shape: (100836, 3)\n",
      "After Trim Shape: (63950, 3)\n"
     ]
    }
   ],
   "source": [
    "print('Original Shape: {}'.format(ratings.shape))\n",
    "ratings = ratings[~ratings['Movie_Id'].isin(drop_movie_list)]\n",
    "ratings = ratings[~ratings['Cust_Id'].isin(drop_cust_list)]\n",
    "print('After Trim Shape: {}'.format(ratings.shape))"
   ]
  },
  {
   "cell_type": "code",
   "execution_count": 8,
   "metadata": {},
   "outputs": [
    {
     "data": {
      "text/html": [
       "<div>\n",
       "<style scoped>\n",
       "    .dataframe tbody tr th:only-of-type {\n",
       "        vertical-align: middle;\n",
       "    }\n",
       "\n",
       "    .dataframe tbody tr th {\n",
       "        vertical-align: top;\n",
       "    }\n",
       "\n",
       "    .dataframe thead th {\n",
       "        text-align: right;\n",
       "    }\n",
       "</style>\n",
       "<table border=\"1\" class=\"dataframe\">\n",
       "  <thead>\n",
       "    <tr style=\"text-align: right;\">\n",
       "      <th>Movie_Id</th>\n",
       "      <th>1</th>\n",
       "      <th>2</th>\n",
       "      <th>3</th>\n",
       "      <th>4</th>\n",
       "      <th>5</th>\n",
       "      <th>6</th>\n",
       "      <th>7</th>\n",
       "      <th>8</th>\n",
       "      <th>9</th>\n",
       "      <th>10</th>\n",
       "      <th>...</th>\n",
       "      <th>171763</th>\n",
       "      <th>174055</th>\n",
       "      <th>175303</th>\n",
       "      <th>176101</th>\n",
       "      <th>176371</th>\n",
       "      <th>177593</th>\n",
       "      <th>177765</th>\n",
       "      <th>179819</th>\n",
       "      <th>180031</th>\n",
       "      <th>187593</th>\n",
       "    </tr>\n",
       "    <tr>\n",
       "      <th>Cust_Id</th>\n",
       "      <th></th>\n",
       "      <th></th>\n",
       "      <th></th>\n",
       "      <th></th>\n",
       "      <th></th>\n",
       "      <th></th>\n",
       "      <th></th>\n",
       "      <th></th>\n",
       "      <th></th>\n",
       "      <th></th>\n",
       "      <th></th>\n",
       "      <th></th>\n",
       "      <th></th>\n",
       "      <th></th>\n",
       "      <th></th>\n",
       "      <th></th>\n",
       "      <th></th>\n",
       "      <th></th>\n",
       "      <th></th>\n",
       "      <th></th>\n",
       "      <th></th>\n",
       "    </tr>\n",
       "  </thead>\n",
       "  <tbody>\n",
       "    <tr>\n",
       "      <td>1</td>\n",
       "      <td>4.0</td>\n",
       "      <td>NaN</td>\n",
       "      <td>4.0</td>\n",
       "      <td>NaN</td>\n",
       "      <td>NaN</td>\n",
       "      <td>4.0</td>\n",
       "      <td>NaN</td>\n",
       "      <td>NaN</td>\n",
       "      <td>NaN</td>\n",
       "      <td>NaN</td>\n",
       "      <td>...</td>\n",
       "      <td>NaN</td>\n",
       "      <td>NaN</td>\n",
       "      <td>NaN</td>\n",
       "      <td>NaN</td>\n",
       "      <td>NaN</td>\n",
       "      <td>NaN</td>\n",
       "      <td>NaN</td>\n",
       "      <td>NaN</td>\n",
       "      <td>NaN</td>\n",
       "      <td>NaN</td>\n",
       "    </tr>\n",
       "    <tr>\n",
       "      <td>4</td>\n",
       "      <td>NaN</td>\n",
       "      <td>NaN</td>\n",
       "      <td>NaN</td>\n",
       "      <td>NaN</td>\n",
       "      <td>NaN</td>\n",
       "      <td>NaN</td>\n",
       "      <td>NaN</td>\n",
       "      <td>NaN</td>\n",
       "      <td>NaN</td>\n",
       "      <td>NaN</td>\n",
       "      <td>...</td>\n",
       "      <td>NaN</td>\n",
       "      <td>NaN</td>\n",
       "      <td>NaN</td>\n",
       "      <td>NaN</td>\n",
       "      <td>NaN</td>\n",
       "      <td>NaN</td>\n",
       "      <td>NaN</td>\n",
       "      <td>NaN</td>\n",
       "      <td>NaN</td>\n",
       "      <td>NaN</td>\n",
       "    </tr>\n",
       "    <tr>\n",
       "      <td>6</td>\n",
       "      <td>NaN</td>\n",
       "      <td>4.0</td>\n",
       "      <td>5.0</td>\n",
       "      <td>3.0</td>\n",
       "      <td>5.0</td>\n",
       "      <td>4.0</td>\n",
       "      <td>4.0</td>\n",
       "      <td>3.0</td>\n",
       "      <td>NaN</td>\n",
       "      <td>3.0</td>\n",
       "      <td>...</td>\n",
       "      <td>NaN</td>\n",
       "      <td>NaN</td>\n",
       "      <td>NaN</td>\n",
       "      <td>NaN</td>\n",
       "      <td>NaN</td>\n",
       "      <td>NaN</td>\n",
       "      <td>NaN</td>\n",
       "      <td>NaN</td>\n",
       "      <td>NaN</td>\n",
       "      <td>NaN</td>\n",
       "    </tr>\n",
       "    <tr>\n",
       "      <td>7</td>\n",
       "      <td>4.5</td>\n",
       "      <td>NaN</td>\n",
       "      <td>NaN</td>\n",
       "      <td>NaN</td>\n",
       "      <td>NaN</td>\n",
       "      <td>NaN</td>\n",
       "      <td>NaN</td>\n",
       "      <td>NaN</td>\n",
       "      <td>NaN</td>\n",
       "      <td>NaN</td>\n",
       "      <td>...</td>\n",
       "      <td>NaN</td>\n",
       "      <td>NaN</td>\n",
       "      <td>NaN</td>\n",
       "      <td>NaN</td>\n",
       "      <td>NaN</td>\n",
       "      <td>NaN</td>\n",
       "      <td>NaN</td>\n",
       "      <td>NaN</td>\n",
       "      <td>NaN</td>\n",
       "      <td>NaN</td>\n",
       "    </tr>\n",
       "    <tr>\n",
       "      <td>10</td>\n",
       "      <td>NaN</td>\n",
       "      <td>NaN</td>\n",
       "      <td>NaN</td>\n",
       "      <td>NaN</td>\n",
       "      <td>NaN</td>\n",
       "      <td>NaN</td>\n",
       "      <td>NaN</td>\n",
       "      <td>NaN</td>\n",
       "      <td>NaN</td>\n",
       "      <td>NaN</td>\n",
       "      <td>...</td>\n",
       "      <td>NaN</td>\n",
       "      <td>NaN</td>\n",
       "      <td>NaN</td>\n",
       "      <td>NaN</td>\n",
       "      <td>NaN</td>\n",
       "      <td>NaN</td>\n",
       "      <td>NaN</td>\n",
       "      <td>NaN</td>\n",
       "      <td>NaN</td>\n",
       "      <td>NaN</td>\n",
       "    </tr>\n",
       "    <tr>\n",
       "      <td>...</td>\n",
       "      <td>...</td>\n",
       "      <td>...</td>\n",
       "      <td>...</td>\n",
       "      <td>...</td>\n",
       "      <td>...</td>\n",
       "      <td>...</td>\n",
       "      <td>...</td>\n",
       "      <td>...</td>\n",
       "      <td>...</td>\n",
       "      <td>...</td>\n",
       "      <td>...</td>\n",
       "      <td>...</td>\n",
       "      <td>...</td>\n",
       "      <td>...</td>\n",
       "      <td>...</td>\n",
       "      <td>...</td>\n",
       "      <td>...</td>\n",
       "      <td>...</td>\n",
       "      <td>...</td>\n",
       "      <td>...</td>\n",
       "      <td>...</td>\n",
       "    </tr>\n",
       "    <tr>\n",
       "      <td>605</td>\n",
       "      <td>4.0</td>\n",
       "      <td>3.5</td>\n",
       "      <td>NaN</td>\n",
       "      <td>NaN</td>\n",
       "      <td>NaN</td>\n",
       "      <td>NaN</td>\n",
       "      <td>NaN</td>\n",
       "      <td>NaN</td>\n",
       "      <td>NaN</td>\n",
       "      <td>NaN</td>\n",
       "      <td>...</td>\n",
       "      <td>NaN</td>\n",
       "      <td>NaN</td>\n",
       "      <td>NaN</td>\n",
       "      <td>NaN</td>\n",
       "      <td>NaN</td>\n",
       "      <td>NaN</td>\n",
       "      <td>NaN</td>\n",
       "      <td>NaN</td>\n",
       "      <td>NaN</td>\n",
       "      <td>NaN</td>\n",
       "    </tr>\n",
       "    <tr>\n",
       "      <td>606</td>\n",
       "      <td>2.5</td>\n",
       "      <td>NaN</td>\n",
       "      <td>NaN</td>\n",
       "      <td>NaN</td>\n",
       "      <td>NaN</td>\n",
       "      <td>NaN</td>\n",
       "      <td>2.5</td>\n",
       "      <td>NaN</td>\n",
       "      <td>NaN</td>\n",
       "      <td>NaN</td>\n",
       "      <td>...</td>\n",
       "      <td>NaN</td>\n",
       "      <td>NaN</td>\n",
       "      <td>NaN</td>\n",
       "      <td>NaN</td>\n",
       "      <td>NaN</td>\n",
       "      <td>NaN</td>\n",
       "      <td>NaN</td>\n",
       "      <td>NaN</td>\n",
       "      <td>NaN</td>\n",
       "      <td>NaN</td>\n",
       "    </tr>\n",
       "    <tr>\n",
       "      <td>607</td>\n",
       "      <td>4.0</td>\n",
       "      <td>NaN</td>\n",
       "      <td>NaN</td>\n",
       "      <td>NaN</td>\n",
       "      <td>NaN</td>\n",
       "      <td>NaN</td>\n",
       "      <td>NaN</td>\n",
       "      <td>NaN</td>\n",
       "      <td>NaN</td>\n",
       "      <td>NaN</td>\n",
       "      <td>...</td>\n",
       "      <td>NaN</td>\n",
       "      <td>NaN</td>\n",
       "      <td>NaN</td>\n",
       "      <td>NaN</td>\n",
       "      <td>NaN</td>\n",
       "      <td>NaN</td>\n",
       "      <td>NaN</td>\n",
       "      <td>NaN</td>\n",
       "      <td>NaN</td>\n",
       "      <td>NaN</td>\n",
       "    </tr>\n",
       "    <tr>\n",
       "      <td>608</td>\n",
       "      <td>2.5</td>\n",
       "      <td>2.0</td>\n",
       "      <td>2.0</td>\n",
       "      <td>NaN</td>\n",
       "      <td>NaN</td>\n",
       "      <td>NaN</td>\n",
       "      <td>NaN</td>\n",
       "      <td>NaN</td>\n",
       "      <td>NaN</td>\n",
       "      <td>4.0</td>\n",
       "      <td>...</td>\n",
       "      <td>NaN</td>\n",
       "      <td>NaN</td>\n",
       "      <td>NaN</td>\n",
       "      <td>NaN</td>\n",
       "      <td>NaN</td>\n",
       "      <td>NaN</td>\n",
       "      <td>NaN</td>\n",
       "      <td>NaN</td>\n",
       "      <td>NaN</td>\n",
       "      <td>NaN</td>\n",
       "    </tr>\n",
       "    <tr>\n",
       "      <td>610</td>\n",
       "      <td>5.0</td>\n",
       "      <td>NaN</td>\n",
       "      <td>NaN</td>\n",
       "      <td>NaN</td>\n",
       "      <td>NaN</td>\n",
       "      <td>5.0</td>\n",
       "      <td>NaN</td>\n",
       "      <td>NaN</td>\n",
       "      <td>NaN</td>\n",
       "      <td>NaN</td>\n",
       "      <td>...</td>\n",
       "      <td>NaN</td>\n",
       "      <td>NaN</td>\n",
       "      <td>NaN</td>\n",
       "      <td>NaN</td>\n",
       "      <td>NaN</td>\n",
       "      <td>NaN</td>\n",
       "      <td>NaN</td>\n",
       "      <td>NaN</td>\n",
       "      <td>NaN</td>\n",
       "      <td>NaN</td>\n",
       "    </tr>\n",
       "  </tbody>\n",
       "</table>\n",
       "<p>185 rows × 2949 columns</p>\n",
       "</div>"
      ],
      "text/plain": [
       "Movie_Id  1       2       3       4       5       6       7       8       \\\n",
       "Cust_Id                                                                    \n",
       "1            4.0     NaN     4.0     NaN     NaN     4.0     NaN     NaN   \n",
       "4            NaN     NaN     NaN     NaN     NaN     NaN     NaN     NaN   \n",
       "6            NaN     4.0     5.0     3.0     5.0     4.0     4.0     3.0   \n",
       "7            4.5     NaN     NaN     NaN     NaN     NaN     NaN     NaN   \n",
       "10           NaN     NaN     NaN     NaN     NaN     NaN     NaN     NaN   \n",
       "...          ...     ...     ...     ...     ...     ...     ...     ...   \n",
       "605          4.0     3.5     NaN     NaN     NaN     NaN     NaN     NaN   \n",
       "606          2.5     NaN     NaN     NaN     NaN     NaN     2.5     NaN   \n",
       "607          4.0     NaN     NaN     NaN     NaN     NaN     NaN     NaN   \n",
       "608          2.5     2.0     2.0     NaN     NaN     NaN     NaN     NaN   \n",
       "610          5.0     NaN     NaN     NaN     NaN     5.0     NaN     NaN   \n",
       "\n",
       "Movie_Id  9       10      ...  171763  174055  175303  176101  176371  177593  \\\n",
       "Cust_Id                   ...                                                   \n",
       "1            NaN     NaN  ...     NaN     NaN     NaN     NaN     NaN     NaN   \n",
       "4            NaN     NaN  ...     NaN     NaN     NaN     NaN     NaN     NaN   \n",
       "6            NaN     3.0  ...     NaN     NaN     NaN     NaN     NaN     NaN   \n",
       "7            NaN     NaN  ...     NaN     NaN     NaN     NaN     NaN     NaN   \n",
       "10           NaN     NaN  ...     NaN     NaN     NaN     NaN     NaN     NaN   \n",
       "...          ...     ...  ...     ...     ...     ...     ...     ...     ...   \n",
       "605          NaN     NaN  ...     NaN     NaN     NaN     NaN     NaN     NaN   \n",
       "606          NaN     NaN  ...     NaN     NaN     NaN     NaN     NaN     NaN   \n",
       "607          NaN     NaN  ...     NaN     NaN     NaN     NaN     NaN     NaN   \n",
       "608          NaN     4.0  ...     NaN     NaN     NaN     NaN     NaN     NaN   \n",
       "610          NaN     NaN  ...     NaN     NaN     NaN     NaN     NaN     NaN   \n",
       "\n",
       "Movie_Id  177765  179819  180031  187593  \n",
       "Cust_Id                                   \n",
       "1            NaN     NaN     NaN     NaN  \n",
       "4            NaN     NaN     NaN     NaN  \n",
       "6            NaN     NaN     NaN     NaN  \n",
       "7            NaN     NaN     NaN     NaN  \n",
       "10           NaN     NaN     NaN     NaN  \n",
       "...          ...     ...     ...     ...  \n",
       "605          NaN     NaN     NaN     NaN  \n",
       "606          NaN     NaN     NaN     NaN  \n",
       "607          NaN     NaN     NaN     NaN  \n",
       "608          NaN     NaN     NaN     NaN  \n",
       "610          NaN     NaN     NaN     NaN  \n",
       "\n",
       "[185 rows x 2949 columns]"
      ]
     },
     "execution_count": 8,
     "metadata": {},
     "output_type": "execute_result"
    }
   ],
   "source": [
    "#Umformung vom Datensatz in eine Matrix (Für die Nutzbarkeit)\n",
    "rating_matrix = pd.pivot_table(ratings,values='Rating',index='Cust_Id',columns='Movie_Id')\n",
    "rating_matrix"
   ]
  },
  {
   "cell_type": "code",
   "execution_count": 9,
   "metadata": {},
   "outputs": [
    {
     "name": "stdout",
     "output_type": "stream",
     "text": [
      "185\n",
      "2949\n"
     ]
    }
   ],
   "source": [
    "sizeUsers = ratings['Cust_Id'].drop_duplicates().size\n",
    "sizeMovies = ratings['Movie_Id'].drop_duplicates().size\n",
    "\n",
    "print(ratings['Cust_Id'].drop_duplicates().size) \n",
    "print(ratings['Movie_Id'].drop_duplicates().size) "
   ]
  },
  {
   "cell_type": "code",
   "execution_count": 10,
   "metadata": {},
   "outputs": [],
   "source": [
    "\"\"\"\n",
    "Eine Funktion, die mit Hilfe der SVD Matrix Faktorisierung für Nutzer im 75/25 Verhältnis Filmbewertungen vorhersagt.\n",
    "Dabei werden 75% vorhandener Daten zum Trainieren benutzt, um 25% der Testdaten vorherzusagen\n",
    "\"\"\"\n",
    "def VorhersagenErzeugen():\n",
    "    #Aufteilen des Datensatzes in Trainings- und Testdaten (75 zu 25 Prozent)\n",
    "    reader = Reader()\n",
    "    data = Dataset.load_from_df(ratings[['Cust_Id', 'Movie_Id', 'Rating']], reader)\n",
    "    trainset, testset = train_test_split(data, test_size=.25)\n",
    "\n",
    "    #Anwenden des SVD Algorithmus, um Ratings im Testset vorherzusagen \n",
    "    algo = SVD()\n",
    "    algo.fit(trainset)\n",
    "    predictions = algo.test(testset)\n",
    "    vorhersagen = pd.DataFrame(predictions)\n",
    "    vorhersagen = vorhersagen.drop(['details'], axis=1)\n",
    "    vorhersagen['diff'] = np.abs(vorhersagen['r_ui'] - vorhersagen['est'])\n",
    "    vorhersagen['Erlös'] = np.where(vorhersagen['est'] > vorhersagen.est.mean() , 5, 0)\n",
    "    return vorhersagen"
   ]
  },
  {
   "cell_type": "code",
   "execution_count": 11,
   "metadata": {},
   "outputs": [],
   "source": [
    "# 5 verschiedene Datensätze mit Vorhersagen erstellen\n",
    "vorhersagenSVD = VorhersagenErzeugen()\n",
    "#vorhersagenNN = pd.read_csv('NeuralNetworkPredictions.csv')"
   ]
  },
  {
   "cell_type": "code",
   "execution_count": 12,
   "metadata": {},
   "outputs": [
    {
     "data": {
      "text/plain": [
       "0       339\n",
       "1       590\n",
       "2       265\n",
       "3       275\n",
       "4       555\n",
       "       ... \n",
       "1300    304\n",
       "1678    351\n",
       "1767    256\n",
       "2156    475\n",
       "2819     33\n",
       "Name: UserId, Length: 185, dtype: int64"
      ]
     },
     "execution_count": 12,
     "metadata": {},
     "output_type": "execute_result"
    }
   ],
   "source": [
    "# So sieht einer der Datensätze aus \n",
    "vorhersagendisplay = vorhersagenSVD[['uid', 'iid', 'r_ui', 'est']]\n",
    "vorhersagendisplay = vorhersagendisplay.rename(columns={\"uid\": \"UserId\", \"r_ui\": \"Rating\", \"iid\": \"MovieId\", \"est\": \"Prediction\"})\n",
    "vorhersagendisplay.UserId.drop_duplicates()"
   ]
  },
  {
   "cell_type": "code",
   "execution_count": 13,
   "metadata": {},
   "outputs": [],
   "source": [
    "\"\"\"\n",
    "In dieser Hilfsfunktion kann einem Datensatz eine neue Spalte mit Kosten hinzugefügt werden. Dabei kann ebenfalls ein\n",
    "Modus der Verteilungsart angegeben werden. Bisher, bis ein überzeugendes Konzept erstellt wird, sind diese Modi\n",
    "allesamt nach Zufallsverteilungen bestimmt.\n",
    "\n",
    "Profit Linear bezieht sich darauf, dass die User so viel Ertrag einspielen, wie sie den Film finden\n",
    "Profit Cutoff bezieht sich darauf, dass die User ab einer Bewertung von 3,4 gleich viel Geld einspielen und darunter nichts\n",
    "\"\"\"\n",
    "def KostenErstellen(datensatz, modus):\n",
    "    #Anzahl Filme feststellen\n",
    "    vorhersagen_filme = datensatz['iid'].sort_values(ascending=True).drop_duplicates()\n",
    "    vorhersagen_filme = vorhersagen_filme.reset_index(drop=True)\n",
    "    #Kosten hinzugeben\n",
    "    kosten = pd.DataFrame(modus)\n",
    "    kosten = kosten.rename(columns={0:'Kosten'})\n",
    "    kosten = pd.concat([vorhersagen_filme, kosten], axis = 1)\n",
    "    kosten = kosten.set_index('iid')\n",
    "    vorhersagenMitKosten = pd.merge(datensatz, kosten, on='iid')\n",
    "    #Spalten mit Profit für jeden Film für jeden User anfügen\n",
    "    vorhersagenMitKosten['ProfitLinear'] = vorhersagenMitKosten['est'] - vorhersagenMitKosten['Kosten']\n",
    "    vorhersagenMitKosten['ProfitCutoff'] = vorhersagenMitKosten['Erlös'] - vorhersagenMitKosten['Kosten']\n",
    "    vorhersagenMitKosten['ProfitTatsächlich'] = vorhersagenMitKosten['r_ui'] - vorhersagenMitKosten['Kosten']\n",
    "    return vorhersagenMitKosten"
   ]
  },
  {
   "cell_type": "code",
   "execution_count": 14,
   "metadata": {},
   "outputs": [],
   "source": [
    "# Die Datensätze anreichern\n",
    "vorhersagenMitKostenSVD = KostenErstellen(vorhersagenSVD, np.random.uniform(0.5, 5.0, size = vorhersagenSVD.iid.drop_duplicates().size))\n",
    "#vorhersagenMitKostenNN = KostenErstellen(vorhersagenNN, np.random.uniform(0.5, 5.0, size = vorhersagenNN.iid.drop_duplicates().size))"
   ]
  },
  {
   "cell_type": "code",
   "execution_count": 15,
   "metadata": {},
   "outputs": [
    {
     "data": {
      "text/plain": [
       "0       339\n",
       "1       562\n",
       "2        73\n",
       "3       132\n",
       "4       328\n",
       "       ... \n",
       "1336    326\n",
       "1429    317\n",
       "1515    365\n",
       "1715    351\n",
       "1843    559\n",
       "Name: uid, Length: 185, dtype: int64"
      ]
     },
     "execution_count": 15,
     "metadata": {},
     "output_type": "execute_result"
    }
   ],
   "source": [
    "# Das erste DataFrame als Beispiel\n",
    "vorhersagenMitKostenSVD.uid.drop_duplicates()"
   ]
  },
  {
   "cell_type": "code",
   "execution_count": 16,
   "metadata": {},
   "outputs": [
    {
     "data": {
      "text/plain": [
       "3.5011571178383787"
      ]
     },
     "execution_count": 16,
     "metadata": {},
     "output_type": "execute_result"
    }
   ],
   "source": [
    "vorhersagenMitKostenSVD.r_ui.mean()"
   ]
  },
  {
   "cell_type": "code",
   "execution_count": 17,
   "metadata": {},
   "outputs": [
    {
     "data": {
      "text/html": [
       "<div>\n",
       "<style scoped>\n",
       "    .dataframe tbody tr th:only-of-type {\n",
       "        vertical-align: middle;\n",
       "    }\n",
       "\n",
       "    .dataframe tbody tr th {\n",
       "        vertical-align: top;\n",
       "    }\n",
       "\n",
       "    .dataframe thead th {\n",
       "        text-align: right;\n",
       "    }\n",
       "</style>\n",
       "<table border=\"1\" class=\"dataframe\">\n",
       "  <thead>\n",
       "    <tr style=\"text-align: right;\">\n",
       "      <th></th>\n",
       "      <th>uid</th>\n",
       "      <th>iid</th>\n",
       "      <th>r_ui</th>\n",
       "      <th>est</th>\n",
       "      <th>diff</th>\n",
       "      <th>Erlös</th>\n",
       "      <th>Kosten</th>\n",
       "      <th>ProfitLinear</th>\n",
       "      <th>ProfitCutoff</th>\n",
       "      <th>ProfitTatsächlich</th>\n",
       "    </tr>\n",
       "  </thead>\n",
       "  <tbody>\n",
       "    <tr>\n",
       "      <td>0</td>\n",
       "      <td>339</td>\n",
       "      <td>4995</td>\n",
       "      <td>5.0</td>\n",
       "      <td>4.220220</td>\n",
       "      <td>0.779780</td>\n",
       "      <td>5</td>\n",
       "      <td>2.271328</td>\n",
       "      <td>1.948892</td>\n",
       "      <td>2.728672</td>\n",
       "      <td>2.728672</td>\n",
       "    </tr>\n",
       "    <tr>\n",
       "      <td>1</td>\n",
       "      <td>562</td>\n",
       "      <td>4995</td>\n",
       "      <td>5.0</td>\n",
       "      <td>4.486032</td>\n",
       "      <td>0.513968</td>\n",
       "      <td>5</td>\n",
       "      <td>2.271328</td>\n",
       "      <td>2.214703</td>\n",
       "      <td>2.728672</td>\n",
       "      <td>2.728672</td>\n",
       "    </tr>\n",
       "    <tr>\n",
       "      <td>2</td>\n",
       "      <td>73</td>\n",
       "      <td>4995</td>\n",
       "      <td>4.0</td>\n",
       "      <td>4.079236</td>\n",
       "      <td>0.079236</td>\n",
       "      <td>5</td>\n",
       "      <td>2.271328</td>\n",
       "      <td>1.807908</td>\n",
       "      <td>2.728672</td>\n",
       "      <td>1.728672</td>\n",
       "    </tr>\n",
       "    <tr>\n",
       "      <td>3</td>\n",
       "      <td>132</td>\n",
       "      <td>4995</td>\n",
       "      <td>3.0</td>\n",
       "      <td>3.313628</td>\n",
       "      <td>0.313628</td>\n",
       "      <td>0</td>\n",
       "      <td>2.271328</td>\n",
       "      <td>1.042299</td>\n",
       "      <td>-2.271328</td>\n",
       "      <td>0.728672</td>\n",
       "    </tr>\n",
       "    <tr>\n",
       "      <td>4</td>\n",
       "      <td>328</td>\n",
       "      <td>4995</td>\n",
       "      <td>0.5</td>\n",
       "      <td>3.370783</td>\n",
       "      <td>2.870783</td>\n",
       "      <td>0</td>\n",
       "      <td>2.271328</td>\n",
       "      <td>1.099454</td>\n",
       "      <td>-2.271328</td>\n",
       "      <td>-1.771328</td>\n",
       "    </tr>\n",
       "    <tr>\n",
       "      <td>...</td>\n",
       "      <td>...</td>\n",
       "      <td>...</td>\n",
       "      <td>...</td>\n",
       "      <td>...</td>\n",
       "      <td>...</td>\n",
       "      <td>...</td>\n",
       "      <td>...</td>\n",
       "      <td>...</td>\n",
       "      <td>...</td>\n",
       "      <td>...</td>\n",
       "    </tr>\n",
       "    <tr>\n",
       "      <td>15983</td>\n",
       "      <td>305</td>\n",
       "      <td>8014</td>\n",
       "      <td>4.0</td>\n",
       "      <td>4.015776</td>\n",
       "      <td>0.015776</td>\n",
       "      <td>5</td>\n",
       "      <td>4.390385</td>\n",
       "      <td>-0.374608</td>\n",
       "      <td>0.609615</td>\n",
       "      <td>-0.390385</td>\n",
       "    </tr>\n",
       "    <tr>\n",
       "      <td>15984</td>\n",
       "      <td>294</td>\n",
       "      <td>2380</td>\n",
       "      <td>3.0</td>\n",
       "      <td>2.202634</td>\n",
       "      <td>0.797366</td>\n",
       "      <td>0</td>\n",
       "      <td>2.817496</td>\n",
       "      <td>-0.614862</td>\n",
       "      <td>-2.817496</td>\n",
       "      <td>0.182504</td>\n",
       "    </tr>\n",
       "    <tr>\n",
       "      <td>15985</td>\n",
       "      <td>368</td>\n",
       "      <td>517</td>\n",
       "      <td>3.0</td>\n",
       "      <td>2.773517</td>\n",
       "      <td>0.226483</td>\n",
       "      <td>0</td>\n",
       "      <td>4.786249</td>\n",
       "      <td>-2.012732</td>\n",
       "      <td>-4.786249</td>\n",
       "      <td>-1.786249</td>\n",
       "    </tr>\n",
       "    <tr>\n",
       "      <td>15986</td>\n",
       "      <td>380</td>\n",
       "      <td>8860</td>\n",
       "      <td>4.0</td>\n",
       "      <td>3.371295</td>\n",
       "      <td>0.628705</td>\n",
       "      <td>0</td>\n",
       "      <td>4.997290</td>\n",
       "      <td>-1.625995</td>\n",
       "      <td>-4.997290</td>\n",
       "      <td>-0.997290</td>\n",
       "    </tr>\n",
       "    <tr>\n",
       "      <td>15987</td>\n",
       "      <td>599</td>\n",
       "      <td>1895</td>\n",
       "      <td>2.5</td>\n",
       "      <td>2.683201</td>\n",
       "      <td>0.183201</td>\n",
       "      <td>0</td>\n",
       "      <td>3.595738</td>\n",
       "      <td>-0.912538</td>\n",
       "      <td>-3.595738</td>\n",
       "      <td>-1.095738</td>\n",
       "    </tr>\n",
       "  </tbody>\n",
       "</table>\n",
       "<p>15988 rows × 10 columns</p>\n",
       "</div>"
      ],
      "text/plain": [
       "       uid   iid  r_ui       est      diff  Erlös    Kosten  ProfitLinear  \\\n",
       "0      339  4995   5.0  4.220220  0.779780      5  2.271328      1.948892   \n",
       "1      562  4995   5.0  4.486032  0.513968      5  2.271328      2.214703   \n",
       "2       73  4995   4.0  4.079236  0.079236      5  2.271328      1.807908   \n",
       "3      132  4995   3.0  3.313628  0.313628      0  2.271328      1.042299   \n",
       "4      328  4995   0.5  3.370783  2.870783      0  2.271328      1.099454   \n",
       "...    ...   ...   ...       ...       ...    ...       ...           ...   \n",
       "15983  305  8014   4.0  4.015776  0.015776      5  4.390385     -0.374608   \n",
       "15984  294  2380   3.0  2.202634  0.797366      0  2.817496     -0.614862   \n",
       "15985  368   517   3.0  2.773517  0.226483      0  4.786249     -2.012732   \n",
       "15986  380  8860   4.0  3.371295  0.628705      0  4.997290     -1.625995   \n",
       "15987  599  1895   2.5  2.683201  0.183201      0  3.595738     -0.912538   \n",
       "\n",
       "       ProfitCutoff  ProfitTatsächlich  \n",
       "0          2.728672           2.728672  \n",
       "1          2.728672           2.728672  \n",
       "2          2.728672           1.728672  \n",
       "3         -2.271328           0.728672  \n",
       "4         -2.271328          -1.771328  \n",
       "...             ...                ...  \n",
       "15983      0.609615          -0.390385  \n",
       "15984     -2.817496           0.182504  \n",
       "15985     -4.786249          -1.786249  \n",
       "15986     -4.997290          -0.997290  \n",
       "15987     -3.595738          -1.095738  \n",
       "\n",
       "[15988 rows x 10 columns]"
      ]
     },
     "execution_count": 17,
     "metadata": {},
     "output_type": "execute_result"
    }
   ],
   "source": [
    "vorhersagenMitKostenSVD"
   ]
  },
  {
   "cell_type": "code",
   "execution_count": null,
   "metadata": {},
   "outputs": [],
   "source": []
  },
  {
   "cell_type": "code",
   "execution_count": 18,
   "metadata": {},
   "outputs": [
    {
     "data": {
      "text/plain": [
       "'\\nJetzt kommen Hilfsfunktionen, bei denen Nutzer jeweils X Filmvorschläge bekommen. Dabei bin ich so vorgegangen, \\ndass ich zuerst eine Funktion für einzelne User erstellt habe, diese auf alle User angewandt, aber noch nicht den\\nModus spezifiziert habe und in der Folge einzelne Funktionen für verschiedene Modi für alle User erstellt habe\\n'"
      ]
     },
     "execution_count": 18,
     "metadata": {},
     "output_type": "execute_result"
    }
   ],
   "source": [
    "\"\"\"\n",
    "Jetzt kommen Hilfsfunktionen, bei denen Nutzer jeweils X Filmvorschläge bekommen. Dabei bin ich so vorgegangen, \n",
    "dass ich zuerst eine Funktion für einzelne User erstellt habe, diese auf alle User angewandt, aber noch nicht den\n",
    "Modus spezifiziert habe und in der Folge einzelne Funktionen für verschiedene Modi für alle User erstellt habe\n",
    "\"\"\""
   ]
  },
  {
   "cell_type": "code",
   "execution_count": 19,
   "metadata": {},
   "outputs": [],
   "source": [
    "#Leere Listen für die Ergebnisse\n",
    "liste_empfehlungen_nutzen = []\n",
    "liste_topratings_nutzen = []\n",
    "liste_quotienten_nutzen = []\n",
    "liste_profit_nutzen = []\n",
    "\n",
    "\n",
    "liste_empfehlungen_profit = []\n",
    "liste_topratings_profit = []\n",
    "liste_quotienten_profit = []\n",
    "liste_profit_profit = []\n",
    "\n",
    "\n",
    "liste_empfehlungen_profit_cutoff = []\n",
    "liste_topratings_profit_cutoff = []\n",
    "liste_quotienten_profit_cutoff = []\n",
    "liste_profit_profit_cutoff = []\n",
    "\n",
    "\n",
    "amount = 15\n",
    "#amount = 10"
   ]
  },
  {
   "cell_type": "code",
   "execution_count": 20,
   "metadata": {},
   "outputs": [
    {
     "data": {
      "text/plain": [
       "array([  1,   4,   6,   7,  10,  18,  19,  20,  21,  28,  33,  41,  42,\n",
       "        45,  47,  50,  51,  57,  62,  63,  64,  66,  68,  73,  74,  80,\n",
       "        82,  84,  89,  91,  95, 100, 103, 104, 105, 111, 113, 117, 119,\n",
       "       122, 125, 129, 132, 135, 137, 139, 140, 141, 153, 156, 160, 166,\n",
       "       167, 169, 177, 182, 186, 187, 195, 198, 199, 200, 202, 212, 216,\n",
       "       217, 219, 220, 221, 222, 226, 232, 233, 234, 239, 246, 247, 249,\n",
       "       256, 260, 263, 265, 266, 274, 275, 279, 280, 282, 287, 288, 290,\n",
       "       292, 294, 298, 304, 305, 307, 312, 313, 317, 318, 325, 326, 328,\n",
       "       330, 331, 332, 334, 339, 346, 351, 352, 354, 356, 357, 365, 367,\n",
       "       368, 372, 380, 381, 382, 385, 387, 391, 408, 410, 414, 419, 420,\n",
       "       425, 428, 432, 434, 438, 448, 452, 453, 462, 469, 474, 475, 477,\n",
       "       479, 480, 483, 484, 489, 495, 509, 514, 517, 520, 522, 525, 527,\n",
       "       534, 552, 555, 559, 560, 561, 562, 563, 564, 567, 570, 572, 573,\n",
       "       577, 580, 586, 587, 590, 594, 596, 597, 599, 600, 603, 605, 606,\n",
       "       607, 608, 610])"
      ]
     },
     "execution_count": 20,
     "metadata": {},
     "output_type": "execute_result"
    }
   ],
   "source": [
    "ratings['Cust_Id'].drop_duplicates().values"
   ]
  },
  {
   "cell_type": "code",
   "execution_count": 21,
   "metadata": {},
   "outputs": [],
   "source": [
    "\"\"\"\n",
    "Für den Nutzer werden einzelne Vorhersagen getroffen und in der Folge:\n",
    "-die Summe der Bewertungen der X vorgeschlagenen Filme in dem Modus\n",
    "-die Summe der Bewertungen der X bestmöglichen Filme für den Nutzer\n",
    "-das Verhältnis aus diesen beiden Werten, um die Güte der Bewertung quantifizieren zu können\n",
    "\"\"\"\n",
    "def optimierungsingleuser(user, datensatz, modus, liste_e, liste_t, liste_q):    \n",
    "    vorhersagen_nutzer = datensatz[datensatz['uid'] == user]\n",
    "    topx_vorhersagen = vorhersagen_nutzer.sort_values(modus, ascending=False).head(amount)\n",
    "    topx_ratings = vorhersagen_nutzer.sort_values('r_ui', ascending=False).head(amount)\n",
    "    summe_empfehlungen = np.sum(topx_vorhersagen['r_ui'])\n",
    "    summe_ratings = np.sum(topx_ratings['r_ui'])\n",
    "    quotient = summe_empfehlungen / summe_ratings\n",
    "    liste_e.append(summe_empfehlungen)\n",
    "    liste_t.append(summe_ratings)\n",
    "    liste_q.append(quotient)"
   ]
  },
  {
   "cell_type": "code",
   "execution_count": 22,
   "metadata": {},
   "outputs": [],
   "source": [
    "\n",
    "def optimierungalleuser(modus, datensatz, liste_e, liste_t, liste_q):\n",
    "    #Anwendung auf alle Nutzer\n",
    "    for i in ratings['Cust_Id'].drop_duplicates().values:\n",
    "        optimierungsingleuser(i, datensatz, modus, liste_e, liste_t, liste_q)\n",
    "    #Erstellung von einem DataFrame für die Ausgaben für alle Nutzer zum Sammeln\n",
    "    e_series = pd.Series(liste_e)\n",
    "    t_series = pd.Series(liste_t)\n",
    "    q_series = pd.Series(liste_q)\n",
    "    etq_df = pd.concat([e_series, t_series, q_series], axis = 1)\n",
    "    etq_df = etq_df.rename(columns={0:'Top X', 1:'Max X', 2:'Quote' })\n",
    "    etq_df['Nutzer'] = etq_df.index + 1\n",
    "    #Durchschnitte aller Spalten berechnen\n",
    "    q_avg = np.mean(etq_df['Quote'].dropna())\n",
    "    t_avg = np.mean(etq_df['Max X'].dropna())\n",
    "    e_avg = np.mean(etq_df['Top X'].dropna())\n",
    "    print('durchschnittliches Rating der Empfehlungen beträgt: '+  str(e_avg))\n",
    "    print('durchschnittliches Rating der Top X für den User beträgt: '+ str(t_avg))\n",
    "    print('durchschnittlicher Quotient für den User beträgt: '+ str(q_avg))\n",
    "    return etq_df, q_avg"
   ]
  },
  {
   "cell_type": "code",
   "execution_count": 23,
   "metadata": {},
   "outputs": [],
   "source": [
    "#einzelne Funktion für Nutzenoptimierung\n",
    "def nutzenoptimierungalleuser(datensatz):\n",
    "    UebersichtNutzen, durchschnittlicherNutzen = optimierungalleuser('est', datensatz, liste_empfehlungen_nutzen, liste_topratings_nutzen, liste_quotienten_nutzen)\n",
    "    return UebersichtNutzen, durchschnittlicherNutzen\n",
    "    "
   ]
  },
  {
   "cell_type": "code",
   "execution_count": 24,
   "metadata": {},
   "outputs": [],
   "source": [
    "#einzelne Funktion für Profitoptimierung\n",
    "def profitoptimierungalleuser(datensatz):\n",
    "    UebersichtProfit, durchschnittlicherNutzenProfit = optimierungalleuser('ProfitLinear', datensatz, liste_empfehlungen_profit, liste_topratings_profit, liste_quotienten_profit)\n",
    "    return UebersichtProfit, durchschnittlicherNutzenProfit"
   ]
  },
  {
   "cell_type": "code",
   "execution_count": 25,
   "metadata": {},
   "outputs": [],
   "source": [
    "#einzelne Funktion für Profitoptimierung\n",
    "def profitoptimierungalleuserCutoff(datensatz):\n",
    "    UebersichtProfitCutoff, durchschnittlicherNutzenProfitCutoff = optimierungalleuser('ProfitCutoff', datensatz, liste_empfehlungen_profit_cutoff, liste_topratings_profit_cutoff, liste_quotienten_profit_cutoff)\n",
    "    return UebersichtProfitCutoff, durchschnittlicherNutzenProfitCutoff"
   ]
  },
  {
   "cell_type": "code",
   "execution_count": null,
   "metadata": {},
   "outputs": [],
   "source": []
  },
  {
   "cell_type": "code",
   "execution_count": 26,
   "metadata": {},
   "outputs": [
    {
     "data": {
      "text/plain": [
       "'\\nNun kommt die Auswertungsphase, in der mit:\\n-Profitoptimierung Linear\\n-Profitoptimierung mit Cutoff\\n-Nutzenoptimierung\\nVorschläge gemacht werden und für die Gesamtheit aller Nutzer ausgerechnet, wie die Güte der Ergebnisse ist\\n'"
      ]
     },
     "execution_count": 26,
     "metadata": {},
     "output_type": "execute_result"
    }
   ],
   "source": [
    "\"\"\"\n",
    "Nun kommt die Auswertungsphase, in der mit:\n",
    "-Profitoptimierung Linear\n",
    "-Profitoptimierung mit Cutoff\n",
    "-Nutzenoptimierung\n",
    "Vorschläge gemacht werden und für die Gesamtheit aller Nutzer ausgerechnet, wie die Güte der Ergebnisse ist\n",
    "\"\"\""
   ]
  },
  {
   "cell_type": "code",
   "execution_count": 27,
   "metadata": {},
   "outputs": [
    {
     "name": "stdout",
     "output_type": "stream",
     "text": [
      "durchschnittliches Rating der Empfehlungen beträgt: 55.945945945945944\n",
      "durchschnittliches Rating der Top X für den User beträgt: 69.21081081081081\n",
      "durchschnittlicher Quotient für den User beträgt: 0.8076794397815482\n"
     ]
    }
   ],
   "source": [
    "#Für alle 5 Datensätze profitoptimierende Vorschläge geben\n",
    "UebersichtProfitSVD, durchschnittlicherNutzenProfitSVD = profitoptimierungalleuser(vorhersagenMitKostenSVD)\n",
    "#UebersichtProfitNN, durchschnittlicherNutzenProfitNN = profitoptimierungalleuser(vorhersagenMitKostenNN)"
   ]
  },
  {
   "cell_type": "code",
   "execution_count": 28,
   "metadata": {},
   "outputs": [
    {
     "name": "stdout",
     "output_type": "stream",
     "text": [
      "durchschnittliches Rating der Empfehlungen beträgt: 56.575675675675676\n",
      "durchschnittliches Rating der Top X für den User beträgt: 69.21081081081081\n",
      "durchschnittlicher Quotient für den User beträgt: 0.8174969736019723\n"
     ]
    }
   ],
   "source": [
    "#Für alle 5 Datensätze profitoptimierende Vorschläge geben\n",
    "UebersichtProfitCutoffSVD, durchschnittlicherNutzenProfitCutoffSVD = profitoptimierungalleuserCutoff(vorhersagenMitKostenSVD)\n",
    "#UebersichtProfitCutoffNN, durchschnittlicherNutzenProfitCutoffNN = profitoptimierungalleuserCutoff(vorhersagenMitKostenNN)"
   ]
  },
  {
   "cell_type": "code",
   "execution_count": 29,
   "metadata": {},
   "outputs": [
    {
     "name": "stdout",
     "output_type": "stream",
     "text": [
      "durchschnittliches Rating der Empfehlungen beträgt: 59.65945945945946\n",
      "durchschnittliches Rating der Top X für den User beträgt: 69.21081081081081\n",
      "durchschnittlicher Quotient für den User beträgt: 0.8615581392233519\n"
     ]
    }
   ],
   "source": [
    "#Für alle 5 Datensätze allen Nutzern nutzenoptimierende (baseline) Vorschläge\n",
    "UebersichtNutzenSVD, durchschnittlicherNutzenSVD = nutzenoptimierungalleuser(vorhersagenMitKostenSVD)\n",
    "#UebersichtNutzenNN, durchschnittlicherNutzenNN = nutzenoptimierungalleuser(vorhersagenMitKostenNN)"
   ]
  },
  {
   "cell_type": "code",
   "execution_count": null,
   "metadata": {},
   "outputs": [],
   "source": []
  },
  {
   "cell_type": "code",
   "execution_count": 30,
   "metadata": {},
   "outputs": [
    {
     "name": "stdout",
     "output_type": "stream",
     "text": [
      "Profitorientiert (SVD) Linear liefert 6.253634779699535 % schwächere Ergebnisse\n",
      "Profitorientiert (SVD) mit Cutoff liefert 5.114125630697242 % schwächere Ergebnisse\n"
     ]
    }
   ],
   "source": [
    "#Ausrechnen inwiefern die Ergebnisse durch den Modus schwächer als die Baseline sind\n",
    "NutzenUnterschiedLinSVD = (1 - (durchschnittlicherNutzenProfitSVD / durchschnittlicherNutzenSVD)) * 100\n",
    "print('Profitorientiert (SVD) Linear liefert ' + str(NutzenUnterschiedLinSVD) + ' ' +'%' + ' schwächere Ergebnisse')\n",
    "NutzenUnterschiedCutSVD = (1 - (durchschnittlicherNutzenProfitCutoffSVD / durchschnittlicherNutzenSVD)) * 100\n",
    "print('Profitorientiert (SVD) mit Cutoff liefert ' + str(NutzenUnterschiedCutSVD) + ' ' +'%' + ' schwächere Ergebnisse')\n",
    "\n",
    "#NutzenUnterschiedLinNN = (1 - (durchschnittlicherNutzenProfitNN / durchschnittlicherNutzenNN)) * 100\n",
    "#print('Profitorientiert (NN) liefert ' + str(NutzenUnterschiedLinNN) + ' ' +'%' + ' schwächere Ergebnisse')\n",
    "#NutzenUnterschiedCutNN = (1 - (durchschnittlicherNutzenProfitCutoffNN / durchschnittlicherNutzenNN)) * 100\n",
    "#print('Profitorientiert (NN) mit Cutoff liefert ' + str(NutzenUnterschiedCutNN) + ' ' +'%' + ' schwächere Ergebnisse')"
   ]
  },
  {
   "cell_type": "code",
   "execution_count": 31,
   "metadata": {},
   "outputs": [],
   "source": [
    "#Hilfsmethode, um bei einzelnen Nutzern in die Vorschläge einzusehen\n",
    "def nutzercheck(user, modus, datensatz):\n",
    "    nutzerVorschläge = datensatz[datensatz['uid'] == user].sort_values(modus, ascending=False).head(amount)\n",
    "    return nutzerVorschläge"
   ]
  },
  {
   "cell_type": "code",
   "execution_count": 32,
   "metadata": {},
   "outputs": [],
   "source": [
    "modusliste = ['ProfitTatsächlich', 'est', 'r_ui', 'ProfitCutoff', 'ProfitLinear']\n",
    "liste_prof_lin = []\n",
    "liste_prof_top = []\n",
    "liste_prof_quot = []\n",
    "liste_prof_cut = []\n",
    "liste_prof_rat = []\n",
    "liste_prof_est = []"
   ]
  },
  {
   "cell_type": "code",
   "execution_count": 33,
   "metadata": {},
   "outputs": [],
   "source": [
    "def profitrücklaufsingle(datensatz):\n",
    "    for i in ratings['Cust_Id'].drop_duplicates().values:\n",
    "        tatsächlich_df = nutzercheck(i, 'ProfitTatsächlich', datensatz)['ProfitTatsächlich'].values.sum()\n",
    "        liste_prof_top.append(tatsächlich_df)\n",
    "    for i in ratings['Cust_Id'].drop_duplicates().values:\n",
    "        lin_df = nutzercheck(i, 'est', datensatz)['ProfitTatsächlich'].values.sum()\n",
    "        liste_prof_est.append(lin_df)\n",
    "    for i in ratings['Cust_Id'].drop_duplicates().values:\n",
    "        rat_df = nutzercheck(i, 'r_ui', datensatz)['ProfitTatsächlich'].values.sum()\n",
    "        liste_prof_rat.append(rat_df)\n",
    "    for i in ratings['Cust_Id'].drop_duplicates().values:\n",
    "        cut_df = nutzercheck(i, 'ProfitCutoff', datensatz)['ProfitTatsächlich'].values.sum()\n",
    "        liste_prof_cut.append(cut_df)\n",
    "    for i in ratings['Cust_Id'].drop_duplicates().values:\n",
    "        lin_df = nutzercheck(i, 'ProfitLinear', datensatz)['ProfitTatsächlich'].values.sum()\n",
    "        liste_prof_lin.append(lin_df)\n",
    "    \n",
    "    return liste_prof_top, liste_prof_est, liste_prof_rat, liste_prof_cut, liste_prof_lin"
   ]
  },
  {
   "cell_type": "code",
   "execution_count": 34,
   "metadata": {},
   "outputs": [],
   "source": [
    "def profitrücklaufmehr(datensatz):\n",
    "    \n",
    "    a,b,c,d,e = profitrücklaufsingle(datensatz)\n",
    "    top_series = pd.Series(a)\n",
    "    est_series = pd.Series(b)\n",
    "    rat_series = pd.Series(c)\n",
    "    cut_series = pd.Series(d)\n",
    "    lin_series = pd.Series(e)\n",
    "\n",
    "    profit_df = pd.concat([est_series, rat_series, lin_series, cut_series, top_series], axis = 1)\n",
    "    profit_df = profit_df.rename(columns={0:'Est', 1:'TopRating', 2:'Linear', 3:'Cutoff', 4:'TopProfit' })\n",
    "    profit_df['Nutzer'] = profit_df.index + 1\n",
    "    profit_df['Est/Top'] = profit_df['Est'] / profit_df['TopProfit']\n",
    "    profit_df['TopRating/Top'] = profit_df['TopRating'] / profit_df['TopProfit']\n",
    "    profit_df['Linear/Top'] = profit_df['Linear'] / profit_df['TopProfit']\n",
    "    profit_df['Cutoff/Top'] = profit_df['Cutoff'] / profit_df['TopProfit']\n",
    "    profit_df = profit_df.dropna()\n",
    "\n",
    "    names = {'Est/Top': profit_df['Est/Top'].values.mean(), 'TopRating/Top': profit_df['TopRating/Top'].values.mean(), 'Linear/Top': profit_df['Linear/Top'].values.mean(), 'Cutoff/Top': profit_df['Cutoff/Top']}\n",
    "    profit_df_avgs = pd.DataFrame(names)[:1]\n",
    "\n",
    "    Est_sum = profit_df['Est'].values.sum()\n",
    "    TopRating_sum = profit_df['TopRating'].values.sum()\n",
    "    Linear_sum = profit_df['Linear'].values.sum()\n",
    "    Cutoff_sum = profit_df['Cutoff'].values.sum()\n",
    "    TopProfit_sum = profit_df['TopProfit'].values.sum()\n",
    "    sums_list = [Est_sum, TopRating_sum, Linear_sum, Cutoff_sum, TopProfit_sum]\n",
    "\n",
    "    return profit_df, profit_df_avgs, sums_list"
   ]
  },
  {
   "cell_type": "code",
   "execution_count": 35,
   "metadata": {},
   "outputs": [],
   "source": [
    "profit_df_svd, profit_df_avgs_svd, sums_list_svd = profitrücklaufmehr(vorhersagenMitKostenSVD)\n",
    "\n"
   ]
  },
  {
   "cell_type": "code",
   "execution_count": 51,
   "metadata": {},
   "outputs": [],
   "source": [
    "meanTopNutzen = profit_df_svd['Est'].mean()\n",
    "meanTopLinear = profit_df_svd['Linear'].mean()\n",
    "meanTopCutoff = profit_df_svd['Cutoff'].mean()\n",
    "meanMaxProfit = profit_df_svd['TopProfit'].mean()\n",
    "profitquoteNutzen = meanTopNutzen/meanMaxProfit\n",
    "profitquoteLinear = meanTopLinear/meanMaxProfit\n",
    "profitquoteCutoff = meanTopCutoff/meanMaxProfit"
   ]
  },
  {
   "cell_type": "code",
   "execution_count": 52,
   "metadata": {},
   "outputs": [
    {
     "name": "stdout",
     "output_type": "stream",
     "text": [
      "durchschnittlicher vorhergesagter Profit nach Nutzenmaximierung: 18.007948565042792\n",
      "durchschnittlich maximal möglicher Profit: 42.58657403619404\n",
      "ProfitQuote: 0.42285506577115034\n"
     ]
    }
   ],
   "source": [
    "print('durchschnittlicher vorhergesagter Profit nach Nutzenmaximierung: ' + str(meanTopNutzen))\n",
    "print('durchschnittlich maximal möglicher Profit: ' + str(meanMaxProfit))\n",
    "print('ProfitQuote: ' + str(profitquoteNutzen))\n"
   ]
  },
  {
   "cell_type": "code",
   "execution_count": 55,
   "metadata": {},
   "outputs": [
    {
     "name": "stdout",
     "output_type": "stream",
     "text": [
      "durchschnittlicher vorhergesagter Profit nach Profitmaximierung (Linear) : 38.03585835041333\n",
      "durchschnittlich maximal möglicher Profit: 42.58657403619404\n",
      "ProfitQuote: 0.8931420103924517\n"
     ]
    }
   ],
   "source": [
    "print('durchschnittlicher vorhergesagter Profit nach Profitmaximierung (Linear) : ' + str(meanTopLinear))\n",
    "print('durchschnittlich maximal möglicher Profit: ' + str(meanMaxProfit))\n",
    "print('ProfitQuote: ' + str(profitquoteLinear))"
   ]
  },
  {
   "cell_type": "code",
   "execution_count": 57,
   "metadata": {},
   "outputs": [
    {
     "name": "stdout",
     "output_type": "stream",
     "text": [
      "durchschnittlicher vorhergesagter Profit nach Profitmaximierung (mit Cutoff) : 34.26320768619102\n",
      "durchschnittlich maximal möglicher Profit: 42.58657403619404\n",
      "ProfitQuote: 0.804554216008805\n"
     ]
    }
   ],
   "source": [
    "print('durchschnittlicher vorhergesagter Profit nach Profitmaximierung (mit Cutoff) : ' + str(meanTopCutoff))\n",
    "print('durchschnittlich maximal möglicher Profit: ' + str(meanMaxProfit))\n",
    "print('ProfitQuote: ' + str(profitquoteCutoff))"
   ]
  },
  {
   "cell_type": "code",
   "execution_count": 39,
   "metadata": {},
   "outputs": [],
   "source": [
    "#profit_df_nn, profit_df_avgs_nn, sums_list_nn = profitrücklaufmehr(vorhersagenMitKostenNN)"
   ]
  },
  {
   "cell_type": "code",
   "execution_count": 60,
   "metadata": {},
   "outputs": [
    {
     "name": "stdout",
     "output_type": "stream",
     "text": [
      "Nutzenorientiert ist: 52.65533802565783% weniger profitabel als profitorientiert (Linear) \n"
     ]
    }
   ],
   "source": [
    "print('Nutzenorientiert ist: ' + str((1-(profitquoteNutzen/profitquoteLinear))*100) + '% weniger profitabel als profitorientiert (Linear) ')"
   ]
  },
  {
   "cell_type": "code",
   "execution_count": 40,
   "metadata": {},
   "outputs": [
    {
     "data": {
      "text/html": [
       "<div>\n",
       "<style scoped>\n",
       "    .dataframe tbody tr th:only-of-type {\n",
       "        vertical-align: middle;\n",
       "    }\n",
       "\n",
       "    .dataframe tbody tr th {\n",
       "        vertical-align: top;\n",
       "    }\n",
       "\n",
       "    .dataframe thead th {\n",
       "        text-align: right;\n",
       "    }\n",
       "</style>\n",
       "<table border=\"1\" class=\"dataframe\">\n",
       "  <thead>\n",
       "    <tr style=\"text-align: right;\">\n",
       "      <th></th>\n",
       "      <th>Est/Top</th>\n",
       "      <th>TopRating/Top</th>\n",
       "      <th>Linear/Top</th>\n",
       "      <th>Cutoff/Top</th>\n",
       "    </tr>\n",
       "  </thead>\n",
       "  <tbody>\n",
       "    <tr>\n",
       "      <td>0</td>\n",
       "      <td>0.411913</td>\n",
       "      <td>0.639451</td>\n",
       "      <td>0.889715</td>\n",
       "      <td>0.960529</td>\n",
       "    </tr>\n",
       "  </tbody>\n",
       "</table>\n",
       "</div>"
      ],
      "text/plain": [
       "    Est/Top  TopRating/Top  Linear/Top  Cutoff/Top\n",
       "0  0.411913       0.639451    0.889715    0.960529"
      ]
     },
     "execution_count": 40,
     "metadata": {},
     "output_type": "execute_result"
    }
   ],
   "source": [
    "profit_df_avgs_svd\n",
    "#profit_df_avgs_nn"
   ]
  },
  {
   "cell_type": "code",
   "execution_count": 41,
   "metadata": {},
   "outputs": [
    {
     "data": {
      "text/html": [
       "<div>\n",
       "<style scoped>\n",
       "    .dataframe tbody tr th:only-of-type {\n",
       "        vertical-align: middle;\n",
       "    }\n",
       "\n",
       "    .dataframe tbody tr th {\n",
       "        vertical-align: top;\n",
       "    }\n",
       "\n",
       "    .dataframe thead th {\n",
       "        text-align: right;\n",
       "    }\n",
       "</style>\n",
       "<table border=\"1\" class=\"dataframe\">\n",
       "  <thead>\n",
       "    <tr style=\"text-align: right;\">\n",
       "      <th></th>\n",
       "      <th>Est</th>\n",
       "      <th>TopRating</th>\n",
       "      <th>Linear</th>\n",
       "      <th>Cutoff</th>\n",
       "      <th>TopProfit</th>\n",
       "      <th>Nutzer</th>\n",
       "      <th>Est/Top</th>\n",
       "      <th>TopRating/Top</th>\n",
       "      <th>Linear/Top</th>\n",
       "      <th>Cutoff/Top</th>\n",
       "    </tr>\n",
       "  </thead>\n",
       "  <tbody>\n",
       "    <tr>\n",
       "      <td>0</td>\n",
       "      <td>30.884620</td>\n",
       "      <td>29.668992</td>\n",
       "      <td>51.845685</td>\n",
       "      <td>51.732768</td>\n",
       "      <td>53.858630</td>\n",
       "      <td>1</td>\n",
       "      <td>0.573439</td>\n",
       "      <td>0.550868</td>\n",
       "      <td>0.962625</td>\n",
       "      <td>0.960529</td>\n",
       "    </tr>\n",
       "    <tr>\n",
       "      <td>1</td>\n",
       "      <td>8.689144</td>\n",
       "      <td>35.252397</td>\n",
       "      <td>40.021402</td>\n",
       "      <td>33.946678</td>\n",
       "      <td>46.852022</td>\n",
       "      <td>2</td>\n",
       "      <td>0.185459</td>\n",
       "      <td>0.752420</td>\n",
       "      <td>0.854209</td>\n",
       "      <td>0.724551</td>\n",
       "    </tr>\n",
       "    <tr>\n",
       "      <td>2</td>\n",
       "      <td>13.251531</td>\n",
       "      <td>20.140118</td>\n",
       "      <td>38.906659</td>\n",
       "      <td>33.620075</td>\n",
       "      <td>41.720693</td>\n",
       "      <td>3</td>\n",
       "      <td>0.317625</td>\n",
       "      <td>0.482737</td>\n",
       "      <td>0.932551</td>\n",
       "      <td>0.805837</td>\n",
       "    </tr>\n",
       "    <tr>\n",
       "      <td>3</td>\n",
       "      <td>19.891175</td>\n",
       "      <td>26.496948</td>\n",
       "      <td>28.418966</td>\n",
       "      <td>20.132944</td>\n",
       "      <td>35.001159</td>\n",
       "      <td>4</td>\n",
       "      <td>0.568300</td>\n",
       "      <td>0.757031</td>\n",
       "      <td>0.811944</td>\n",
       "      <td>0.575208</td>\n",
       "    </tr>\n",
       "    <tr>\n",
       "      <td>4</td>\n",
       "      <td>-0.126386</td>\n",
       "      <td>19.454972</td>\n",
       "      <td>15.925182</td>\n",
       "      <td>11.320351</td>\n",
       "      <td>25.697971</td>\n",
       "      <td>5</td>\n",
       "      <td>-0.004918</td>\n",
       "      <td>0.757063</td>\n",
       "      <td>0.619706</td>\n",
       "      <td>0.440515</td>\n",
       "    </tr>\n",
       "    <tr>\n",
       "      <td>...</td>\n",
       "      <td>...</td>\n",
       "      <td>...</td>\n",
       "      <td>...</td>\n",
       "      <td>...</td>\n",
       "      <td>...</td>\n",
       "      <td>...</td>\n",
       "      <td>...</td>\n",
       "      <td>...</td>\n",
       "      <td>...</td>\n",
       "      <td>...</td>\n",
       "    </tr>\n",
       "    <tr>\n",
       "      <td>180</td>\n",
       "      <td>12.307141</td>\n",
       "      <td>22.069307</td>\n",
       "      <td>33.278262</td>\n",
       "      <td>16.003257</td>\n",
       "      <td>34.061312</td>\n",
       "      <td>181</td>\n",
       "      <td>0.361323</td>\n",
       "      <td>0.647929</td>\n",
       "      <td>0.977011</td>\n",
       "      <td>0.469837</td>\n",
       "    </tr>\n",
       "    <tr>\n",
       "      <td>181</td>\n",
       "      <td>24.956378</td>\n",
       "      <td>32.129608</td>\n",
       "      <td>45.034815</td>\n",
       "      <td>46.124278</td>\n",
       "      <td>50.007061</td>\n",
       "      <td>182</td>\n",
       "      <td>0.499057</td>\n",
       "      <td>0.642501</td>\n",
       "      <td>0.900569</td>\n",
       "      <td>0.922355</td>\n",
       "    </tr>\n",
       "    <tr>\n",
       "      <td>182</td>\n",
       "      <td>17.436442</td>\n",
       "      <td>22.944732</td>\n",
       "      <td>28.714312</td>\n",
       "      <td>27.409501</td>\n",
       "      <td>34.392396</td>\n",
       "      <td>183</td>\n",
       "      <td>0.506985</td>\n",
       "      <td>0.667146</td>\n",
       "      <td>0.834903</td>\n",
       "      <td>0.796964</td>\n",
       "    </tr>\n",
       "    <tr>\n",
       "      <td>183</td>\n",
       "      <td>16.227739</td>\n",
       "      <td>34.605614</td>\n",
       "      <td>39.293915</td>\n",
       "      <td>27.886100</td>\n",
       "      <td>49.234935</td>\n",
       "      <td>184</td>\n",
       "      <td>0.329598</td>\n",
       "      <td>0.702867</td>\n",
       "      <td>0.798090</td>\n",
       "      <td>0.566388</td>\n",
       "    </tr>\n",
       "    <tr>\n",
       "      <td>184</td>\n",
       "      <td>23.725004</td>\n",
       "      <td>25.267439</td>\n",
       "      <td>51.506464</td>\n",
       "      <td>49.698354</td>\n",
       "      <td>56.847898</td>\n",
       "      <td>185</td>\n",
       "      <td>0.417342</td>\n",
       "      <td>0.444474</td>\n",
       "      <td>0.906040</td>\n",
       "      <td>0.874234</td>\n",
       "    </tr>\n",
       "  </tbody>\n",
       "</table>\n",
       "<p>185 rows × 10 columns</p>\n",
       "</div>"
      ],
      "text/plain": [
       "           Est  TopRating     Linear     Cutoff  TopProfit  Nutzer   Est/Top  \\\n",
       "0    30.884620  29.668992  51.845685  51.732768  53.858630       1  0.573439   \n",
       "1     8.689144  35.252397  40.021402  33.946678  46.852022       2  0.185459   \n",
       "2    13.251531  20.140118  38.906659  33.620075  41.720693       3  0.317625   \n",
       "3    19.891175  26.496948  28.418966  20.132944  35.001159       4  0.568300   \n",
       "4    -0.126386  19.454972  15.925182  11.320351  25.697971       5 -0.004918   \n",
       "..         ...        ...        ...        ...        ...     ...       ...   \n",
       "180  12.307141  22.069307  33.278262  16.003257  34.061312     181  0.361323   \n",
       "181  24.956378  32.129608  45.034815  46.124278  50.007061     182  0.499057   \n",
       "182  17.436442  22.944732  28.714312  27.409501  34.392396     183  0.506985   \n",
       "183  16.227739  34.605614  39.293915  27.886100  49.234935     184  0.329598   \n",
       "184  23.725004  25.267439  51.506464  49.698354  56.847898     185  0.417342   \n",
       "\n",
       "     TopRating/Top  Linear/Top  Cutoff/Top  \n",
       "0         0.550868    0.962625    0.960529  \n",
       "1         0.752420    0.854209    0.724551  \n",
       "2         0.482737    0.932551    0.805837  \n",
       "3         0.757031    0.811944    0.575208  \n",
       "4         0.757063    0.619706    0.440515  \n",
       "..             ...         ...         ...  \n",
       "180       0.647929    0.977011    0.469837  \n",
       "181       0.642501    0.900569    0.922355  \n",
       "182       0.667146    0.834903    0.796964  \n",
       "183       0.702867    0.798090    0.566388  \n",
       "184       0.444474    0.906040    0.874234  \n",
       "\n",
       "[185 rows x 10 columns]"
      ]
     },
     "execution_count": 41,
     "metadata": {},
     "output_type": "execute_result"
    }
   ],
   "source": [
    "profit_df_svd"
   ]
  },
  {
   "cell_type": "code",
   "execution_count": 42,
   "metadata": {},
   "outputs": [
    {
     "data": {
      "text/plain": [
       "'\\nNoch ein paar Graphen als Bonus\\n'"
      ]
     },
     "execution_count": 42,
     "metadata": {},
     "output_type": "execute_result"
    }
   ],
   "source": [
    "\"\"\"\n",
    "Noch ein paar Graphen als Bonus\n",
    "\"\"\""
   ]
  },
  {
   "cell_type": "code",
   "execution_count": 43,
   "metadata": {},
   "outputs": [
    {
     "data": {
      "text/plain": [
       "<seaborn.axisgrid.FacetGrid at 0x1219d9b10>"
      ]
     },
     "execution_count": 43,
     "metadata": {},
     "output_type": "execute_result"
    },
    {
     "data": {
      "image/png": "[encoded data removed]",
      "text/plain": [
       "<Figure size 360x360 with 1 Axes>"
      ]
     },
     "metadata": {
      "needs_background": "light"
     },
     "output_type": "display_data"
    }
   ],
   "source": [
    "sns.lmplot(data=UebersichtNutzenSVD, x=\"Nutzer\", y='Quote')"
   ]
  },
  {
   "cell_type": "code",
   "execution_count": 44,
   "metadata": {},
   "outputs": [
    {
     "data": {
      "text/plain": [
       "<seaborn.axisgrid.FacetGrid at 0x1251353d0>"
      ]
     },
     "execution_count": 44,
     "metadata": {},
     "output_type": "execute_result"
    },
    {
     "data": {
      "image/png": "[encoded data removed]",
      "text/plain": [
       "<Figure size 360x360 with 1 Axes>"
      ]
     },
     "metadata": {
      "needs_background": "light"
     },
     "output_type": "display_data"
    }
   ],
   "source": [
    "sns.lmplot(data=UebersichtProfitCutoffSVD, x=\"Nutzer\", y='Quote')"
   ]
  },
  {
   "cell_type": "code",
   "execution_count": 45,
   "metadata": {},
   "outputs": [
    {
     "data": {
      "text/plain": [
       "<seaborn.axisgrid.FacetGrid at 0x125384fd0>"
      ]
     },
     "execution_count": 45,
     "metadata": {},
     "output_type": "execute_result"
    },
    {
     "data": {
      "image/png": "[encoded data removed]",
      "text/plain": [
       "<Figure size 360x360 with 1 Axes>"
      ]
     },
     "metadata": {
      "needs_background": "light"
     },
     "output_type": "display_data"
    }
   ],
   "source": [
    "sns.lmplot(data=UebersichtProfitSVD, x=\"Nutzer\", y='Quote')"
   ]
  },
  {
   "cell_type": "code",
   "execution_count": 46,
   "metadata": {},
   "outputs": [
    {
     "data": {
      "text/plain": [
       "<seaborn.axisgrid.FacetGrid at 0x124d9a790>"
      ]
     },
     "execution_count": 46,
     "metadata": {},
     "output_type": "execute_result"
    },
    {
     "data": {
      "image/png": "[encoded data removed]",
      "text/plain": [
       "<Figure size 360x360 with 1 Axes>"
      ]
     },
     "metadata": {
      "needs_background": "light"
     },
     "output_type": "display_data"
    }
   ],
   "source": [
    "sns.lmplot(data=profit_df_svd, x=\"Nutzer\", y='TopProfit')"
   ]
  },
  {
   "cell_type": "code",
   "execution_count": 47,
   "metadata": {},
   "outputs": [],
   "source": [
    "import pylab as plt"
   ]
  },
  {
   "cell_type": "code",
   "execution_count": 48,
   "metadata": {},
   "outputs": [
    {
     "data": {
      "image/png": "[encoded data removed]",
      "text/plain": [
       "<Figure size 432x288 with 1 Axes>"
      ]
     },
     "metadata": {
      "needs_background": "light"
     },
     "output_type": "display_data"
    }
   ],
   "source": [
    "profit_sorted = profit_df_svd.sort_values(by=['TopProfit'], ascending=True)\n",
    "\n",
    "Y1 = profit_df_svd['TopProfit'].sort_values(ascending=True)\n",
    "Y1 = Y1.reset_index(drop=True)\n",
    "Y2 = profit_sorted['Linear']\n",
    "#Y3 = profit_sorted['Cutoff']\n",
    "Y4 = profit_sorted['Est']\n",
    "X = Y1.index\n",
    "plt.scatter(X,Y1,color='k')\n",
    "plt.scatter(X,Y2,color='g')\n",
    "#plt.scatter(X,Y3,color='r')\n",
    "plt.scatter(X,Y4,color='b')\n",
    "plt.title(\"Profit für jeden Nutzer nach Zielsetzung\")\n",
    "plt.ylabel(\"Profit\")\n",
    "plt.xlabel(\"Nutzer\")\n",
    "plt.legend(('Maximaler Profit', 'Profitmaximierung (Linear)', 'Nutzenmaximierung'))\n",
    "plt.show()"
   ]
  },
  {
   "cell_type": "code",
   "execution_count": 49,
   "metadata": {},
   "outputs": [
    {
     "data": {
      "text/plain": [
       "0      15.322421\n",
       "1      17.184344\n",
       "2      20.173694\n",
       "3      21.009553\n",
       "4      22.583048\n",
       "         ...    \n",
       "180    56.847898\n",
       "181    56.947417\n",
       "182    58.953262\n",
       "183    59.278684\n",
       "184    60.804783\n",
       "Name: TopProfit, Length: 185, dtype: float64"
      ]
     },
     "execution_count": 49,
     "metadata": {},
     "output_type": "execute_result"
    }
   ],
   "source": [
    "Y1"
   ]
  },
  {
   "cell_type": "code",
   "execution_count": null,
   "metadata": {},
   "outputs": [],
   "source": []
  },
  {
   "cell_type": "code",
   "execution_count": null,
   "metadata": {},
   "outputs": [],
   "source": []
  },
  {
   "cell_type": "code",
   "execution_count": null,
   "metadata": {},
   "outputs": [],
   "source": []
  }
 ],
 "metadata": {
  "kernelspec": {
   "display_name": "Python 3",
   "language": "python",
   "name": "python3"
  },
  "language_info": {
   "codemirror_mode": {
    "name": "ipython",
    "version": 3
   },
   "file_extension": ".py",
   "mimetype": "text/x-python",
   "name": "python",
   "nbconvert_exporter": "python",
   "pygments_lexer": "ipython3",
   "version": "3.7.4"
  }
 },
 "nbformat": 4,
 "nbformat_minor": 4
}
