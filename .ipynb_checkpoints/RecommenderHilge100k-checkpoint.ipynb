{
 "cells": [
  {
   "cell_type": "code",
   "execution_count": 96,
   "metadata": {},
   "outputs": [],
   "source": [
    "#Importieren von wichtigen Plugins: Pandas für Dataframes, Surprise für Empfehlungsalgorithmen\n",
    "import pandas as pd\n",
    "import numpy as np\n",
    "import math\n",
    "import re\n",
    "from scipy.sparse import csr_matrix\n",
    "import matplotlib.pyplot as plt\n",
    "import seaborn as sns\n",
    "from surprise import Reader, Dataset, SVD\n",
    "sns.set_style(\"darkgrid\")"
   ]
  },
  {
   "cell_type": "code",
   "execution_count": 97,
   "metadata": {},
   "outputs": [
    {
     "name": "stdout",
     "output_type": "stream",
     "text": [
      "   userId  movieId  rating  timestamp\n",
      "0       1        1     4.0  964982703\n",
      "1       1        3     4.0  964981247\n",
      "2       1        6     4.0  964982224\n",
      "3       1       47     5.0  964983815\n",
      "4       1       50     5.0  964982931\n"
     ]
    }
   ],
   "source": [
    "#Importieren vom Datensatz\n",
    "#jeder Eintrag besteht aus: einem User (mit ID), der einem Film (mit ID), ein Rating auf einer Skala von 1-5 (als Float) gibt \n",
    "df = pd.read_csv('ratings.csv')\n",
    "print(df.head())"
   ]
  },
  {
   "cell_type": "code",
   "execution_count": 98,
   "metadata": {},
   "outputs": [
    {
     "name": "stdout",
     "output_type": "stream",
     "text": [
      "   Cust_Id  Movie_Id  Rating  timestamp\n",
      "0        1         1     4.0  964982703\n",
      "1        1         3     4.0  964981247\n",
      "2        1         6     4.0  964982224\n",
      "3        1        47     5.0  964983815\n",
      "4        1        50     5.0  964982931\n"
     ]
    }
   ],
   "source": [
    "#Umbenennen der Spalten, um sie nutzbar für die Surprise Algorithmen zu machen\n",
    "df = df.rename(columns={\"userId\": \"Cust_Id\", \"rating\": \"Rating\", \"movieId\": \"Movie_Id\"})\n",
    "print(df.head())"
   ]
  },
  {
   "cell_type": "code",
   "execution_count": 99,
   "metadata": {},
   "outputs": [
    {
     "name": "stdout",
     "output_type": "stream",
     "text": [
      "   Cust_Id  Movie_Id  Rating\n",
      "0        1         1     4.0\n",
      "1        1         3     4.0\n",
      "2        1         6     4.0\n",
      "3        1        47     5.0\n",
      "4        1        50     5.0\n"
     ]
    }
   ],
   "source": [
    "#Timestamp ist momentan unwichtig und kann aus dem Dataframe entfernt werden\n",
    "df = df.drop(['timestamp'], axis=1)\n",
    "print(df.head())"
   ]
  },
  {
   "cell_type": "code",
   "execution_count": 100,
   "metadata": {},
   "outputs": [
    {
     "name": "stdout",
     "output_type": "stream",
     "text": [
      "   Cust_Id  Rating  Movie_Id\n",
      "0        1     4.0         1\n",
      "1        1     4.0         3\n",
      "2        1     4.0         6\n",
      "3        1     5.0        47\n",
      "4        1     5.0        50\n"
     ]
    }
   ],
   "source": [
    "#Die Spalten Rating und Movie_Id werden getauscht, um das Dataframe in ein nutzbareres Format zu bringen\n",
    "df = df[['Cust_Id','Rating','Movie_Id']]\n",
    "print(df.head())"
   ]
  },
  {
   "cell_type": "code",
   "execution_count": 101,
   "metadata": {},
   "outputs": [
    {
     "name": "stdout",
     "output_type": "stream",
     "text": [
      "Movie minimum times of review: 7.0\n",
      "Customer minimum times of review: 140.0\n"
     ]
    }
   ],
   "source": [
    "#Datensatz wird getrimmt auf Filme und Nutzer, die genügend Bewertungen haben\n",
    "f = ['count','mean']\n",
    "\n",
    "df_movie_summary = df.groupby('Movie_Id')['Rating'].agg(f)\n",
    "df_movie_summary.index = df_movie_summary.index.map(int)\n",
    "movie_benchmark = round(df_movie_summary['count'].quantile(0.7),0)\n",
    "drop_movie_list = df_movie_summary[df_movie_summary['count'] < movie_benchmark].index\n",
    "\n",
    "print('Movie minimum times of review: {}'.format(movie_benchmark))\n",
    "\n",
    "df_cust_summary = df.groupby('Cust_Id')['Rating'].agg(f)\n",
    "df_cust_summary.index = df_cust_summary.index.map(int)\n",
    "cust_benchmark = round(df_cust_summary['count'].quantile(0.7),0)\n",
    "drop_cust_list = df_cust_summary[df_cust_summary['count'] < cust_benchmark].index\n",
    "\n",
    "print('Customer minimum times of review: {}'.format(cust_benchmark))"
   ]
  },
  {
   "cell_type": "code",
   "execution_count": 102,
   "metadata": {},
   "outputs": [
    {
     "name": "stdout",
     "output_type": "stream",
     "text": [
      "Original Shape: (100836, 3)\n",
      "After Trim Shape: (63950, 3)\n"
     ]
    }
   ],
   "source": [
    "#Vergleichen von Datensatz vorher/nachher\n",
    "print('Original Shape: {}'.format(df.shape))\n",
    "df = df[~df['Movie_Id'].isin(drop_movie_list)]\n",
    "df = df[~df['Cust_Id'].isin(drop_cust_list)]\n",
    "print('After Trim Shape: {}'.format(df.shape))"
   ]
  },
  {
   "cell_type": "code",
   "execution_count": 103,
   "metadata": {},
   "outputs": [
    {
     "name": "stdout",
     "output_type": "stream",
     "text": [
      "(185, 2949)\n",
      "Movie_Id  1       2       3       4       5       6       7       8       \\\n",
      "Cust_Id                                                                    \n",
      "1            4.0     NaN     4.0     NaN     NaN     4.0     NaN     NaN   \n",
      "4            NaN     NaN     NaN     NaN     NaN     NaN     NaN     NaN   \n",
      "6            NaN     4.0     5.0     3.0     5.0     4.0     4.0     3.0   \n",
      "7            4.5     NaN     NaN     NaN     NaN     NaN     NaN     NaN   \n",
      "10           NaN     NaN     NaN     NaN     NaN     NaN     NaN     NaN   \n",
      "\n",
      "Movie_Id  9       10      ...  171763  174055  175303  176101  176371  177593  \\\n",
      "Cust_Id                   ...                                                   \n",
      "1            NaN     NaN  ...     NaN     NaN     NaN     NaN     NaN     NaN   \n",
      "4            NaN     NaN  ...     NaN     NaN     NaN     NaN     NaN     NaN   \n",
      "6            NaN     3.0  ...     NaN     NaN     NaN     NaN     NaN     NaN   \n",
      "7            NaN     NaN  ...     NaN     NaN     NaN     NaN     NaN     NaN   \n",
      "10           NaN     NaN  ...     NaN     NaN     NaN     NaN     NaN     NaN   \n",
      "\n",
      "Movie_Id  177765  179819  180031  187593  \n",
      "Cust_Id                                   \n",
      "1            NaN     NaN     NaN     NaN  \n",
      "4            NaN     NaN     NaN     NaN  \n",
      "6            NaN     NaN     NaN     NaN  \n",
      "7            NaN     NaN     NaN     NaN  \n",
      "10           NaN     NaN     NaN     NaN  \n",
      "\n",
      "[5 rows x 2949 columns]\n"
     ]
    }
   ],
   "source": [
    "#Umformung vom Datensatz in eine Matrix\n",
    "df_p = pd.pivot_table(df,values='Rating',index='Cust_Id',columns='Movie_Id')\n",
    "\n",
    "print(df_p.shape)\n",
    "print(df_p.head())"
   ]
  },
  {
   "cell_type": "code",
   "execution_count": 104,
   "metadata": {},
   "outputs": [],
   "source": [
    "\n",
    "from surprise.model_selection import cross_validate"
   ]
  },
  {
   "cell_type": "code",
   "execution_count": 105,
   "metadata": {},
   "outputs": [
    {
     "name": "stdout",
     "output_type": "stream",
     "text": [
      "Evaluating RMSE, MAE of algorithm SVD on 5 split(s).\n",
      "\n",
      "                  Fold 1  Fold 2  Fold 3  Fold 4  Fold 5  Mean    Std     \n",
      "RMSE (testset)    0.8284  0.8352  0.8303  0.8372  0.8308  0.8324  0.0033  \n",
      "MAE (testset)     0.6335  0.6401  0.6406  0.6432  0.6386  0.6392  0.0032  \n",
      "Fit time          3.91    3.94    3.91    3.92    3.86    3.91    0.03    \n",
      "Test time         0.11    0.11    0.24    0.11    0.11    0.14    0.05    \n"
     ]
    },
    {
     "data": {
      "text/plain": [
       "{'test_rmse': array([0.82844403, 0.83523676, 0.8303467 , 0.8371507 , 0.830843  ]),\n",
       " 'test_mae': array([0.63353926, 0.64005855, 0.64061441, 0.64318186, 0.63859391]),\n",
       " 'fit_time': (3.9121649265289307,\n",
       "  3.9405651092529297,\n",
       "  3.908690929412842,\n",
       "  3.923476219177246,\n",
       "  3.8638060092926025),\n",
       " 'test_time': (0.11148691177368164,\n",
       "  0.11118316650390625,\n",
       "  0.24071097373962402,\n",
       "  0.11483120918273926,\n",
       "  0.10877013206481934)}"
      ]
     },
     "execution_count": 105,
     "metadata": {},
     "output_type": "execute_result"
    }
   ],
   "source": [
    "#Cross Validieren\n",
    "reader = Reader()\n",
    "\n",
    "data = Dataset.load_from_df(df[['Cust_Id', 'Movie_Id', 'Rating']], reader)\n",
    "\n",
    "svd = SVD()\n",
    "cross_validate(svd, data, measures=['RMSE', 'MAE'], cv=5, verbose=True)"
   ]
  },
  {
   "cell_type": "code",
   "execution_count": 14,
   "metadata": {},
   "outputs": [],
   "source": [
    "#Aufteilen des Datensatzes in Trainings- und Testdaten\n",
    "from surprise import accuracy\n",
    "from surprise.model_selection import train_test_split\n",
    "trainset, testset = train_test_split(data, test_size=.25)"
   ]
  },
  {
   "cell_type": "code",
   "execution_count": 15,
   "metadata": {},
   "outputs": [
    {
     "name": "stdout",
     "output_type": "stream",
     "text": [
      "RMSE: 0.8333\n",
      "MAE:  0.6401\n"
     ]
    },
    {
     "data": {
      "text/plain": [
       "0.6401135311573707"
      ]
     },
     "execution_count": 15,
     "metadata": {},
     "output_type": "execute_result"
    }
   ],
   "source": [
    "#Anwenden des SVD Algorithmus, um Ratings vorherzusagen \n",
    "algo = SVD()\n",
    "algo.fit(trainset)\n",
    "predictions = algo.test(testset)\n",
    "\n",
    "#Ausgabe des RootMeanSquaredError und MeanAbsoluteError\n",
    "print(accuracy.rmse(predictions))\n",
    "print(accuracy.mae(predictions))"
   ]
  },
  {
   "cell_type": "code",
   "execution_count": 21,
   "metadata": {},
   "outputs": [
    {
     "data": {
      "text/html": [
       "<div>\n",
       "<style scoped>\n",
       "    .dataframe tbody tr th:only-of-type {\n",
       "        vertical-align: middle;\n",
       "    }\n",
       "\n",
       "    .dataframe tbody tr th {\n",
       "        vertical-align: top;\n",
       "    }\n",
       "\n",
       "    .dataframe thead th {\n",
       "        text-align: right;\n",
       "    }\n",
       "</style>\n",
       "<table border=\"1\" class=\"dataframe\">\n",
       "  <thead>\n",
       "    <tr style=\"text-align: right;\">\n",
       "      <th></th>\n",
       "      <th>uid</th>\n",
       "      <th>iid</th>\n",
       "      <th>r_ui</th>\n",
       "      <th>est</th>\n",
       "      <th>details</th>\n",
       "    </tr>\n",
       "  </thead>\n",
       "  <tbody>\n",
       "    <tr>\n",
       "      <td>0</td>\n",
       "      <td>139</td>\n",
       "      <td>52722</td>\n",
       "      <td>1.0</td>\n",
       "      <td>1.529562</td>\n",
       "      <td>{'was_impossible': False}</td>\n",
       "    </tr>\n",
       "    <tr>\n",
       "      <td>1</td>\n",
       "      <td>599</td>\n",
       "      <td>733</td>\n",
       "      <td>3.5</td>\n",
       "      <td>2.789235</td>\n",
       "      <td>{'was_impossible': False}</td>\n",
       "    </tr>\n",
       "    <tr>\n",
       "      <td>2</td>\n",
       "      <td>91</td>\n",
       "      <td>3070</td>\n",
       "      <td>5.0</td>\n",
       "      <td>3.431258</td>\n",
       "      <td>{'was_impossible': False}</td>\n",
       "    </tr>\n",
       "    <tr>\n",
       "      <td>3</td>\n",
       "      <td>177</td>\n",
       "      <td>79695</td>\n",
       "      <td>2.0</td>\n",
       "      <td>3.049844</td>\n",
       "      <td>{'was_impossible': False}</td>\n",
       "    </tr>\n",
       "    <tr>\n",
       "      <td>4</td>\n",
       "      <td>414</td>\n",
       "      <td>2640</td>\n",
       "      <td>3.0</td>\n",
       "      <td>3.797993</td>\n",
       "      <td>{'was_impossible': False}</td>\n",
       "    </tr>\n",
       "  </tbody>\n",
       "</table>\n",
       "</div>"
      ],
      "text/plain": [
       "   uid    iid  r_ui       est                    details\n",
       "0  139  52722   1.0  1.529562  {'was_impossible': False}\n",
       "1  599    733   3.5  2.789235  {'was_impossible': False}\n",
       "2   91   3070   5.0  3.431258  {'was_impossible': False}\n",
       "3  177  79695   2.0  3.049844  {'was_impossible': False}\n",
       "4  414   2640   3.0  3.797993  {'was_impossible': False}"
      ]
     },
     "execution_count": 21,
     "metadata": {},
     "output_type": "execute_result"
    }
   ],
   "source": [
    "pred_df = pd.DataFrame(predictions)\n",
    "print(pred_df.head())"
   ]
  },
  {
   "cell_type": "code",
   "execution_count": 24,
   "metadata": {},
   "outputs": [
    {
     "name": "stdout",
     "output_type": "stream",
     "text": [
      "                                      title\n",
      "movieId                                    \n",
      "1                          Toy Story (1995)\n",
      "2                            Jumanji (1995)\n",
      "3                   Grumpier Old Men (1995)\n",
      "4                  Waiting to Exhale (1995)\n",
      "5        Father of the Bride Part II (1995)\n",
      "6                               Heat (1995)\n",
      "7                            Sabrina (1995)\n",
      "8                       Tom and Huck (1995)\n",
      "9                       Sudden Death (1995)\n",
      "10                         GoldenEye (1995)\n"
     ]
    }
   ],
   "source": [
    "#Zusammenfassung der Film_Ids und Titel\n",
    "df_title = pd.read_csv('movies.csv')\n",
    "df_title.set_index('movieId', inplace = True)\n",
    "df_title = df_title.drop(['genres'], axis=1)\n",
    "print (df_title.head(10))"
   ]
  },
  {
   "cell_type": "code",
   "execution_count": 26,
   "metadata": {},
   "outputs": [
    {
     "data": {
      "text/html": [
       "<div>\n",
       "<style scoped>\n",
       "    .dataframe tbody tr th:only-of-type {\n",
       "        vertical-align: middle;\n",
       "    }\n",
       "\n",
       "    .dataframe tbody tr th {\n",
       "        vertical-align: top;\n",
       "    }\n",
       "\n",
       "    .dataframe thead th {\n",
       "        text-align: right;\n",
       "    }\n",
       "</style>\n",
       "<table border=\"1\" class=\"dataframe\">\n",
       "  <thead>\n",
       "    <tr style=\"text-align: right;\">\n",
       "      <th></th>\n",
       "      <th>Name</th>\n",
       "    </tr>\n",
       "    <tr>\n",
       "      <th>Movie_Id</th>\n",
       "      <th></th>\n",
       "    </tr>\n",
       "  </thead>\n",
       "  <tbody>\n",
       "    <tr>\n",
       "      <td>1</td>\n",
       "      <td>Toy Story (1995)</td>\n",
       "    </tr>\n",
       "    <tr>\n",
       "      <td>2</td>\n",
       "      <td>Jumanji (1995)</td>\n",
       "    </tr>\n",
       "    <tr>\n",
       "      <td>3</td>\n",
       "      <td>Grumpier Old Men (1995)</td>\n",
       "    </tr>\n",
       "    <tr>\n",
       "      <td>4</td>\n",
       "      <td>Waiting to Exhale (1995)</td>\n",
       "    </tr>\n",
       "    <tr>\n",
       "      <td>5</td>\n",
       "      <td>Father of the Bride Part II (1995)</td>\n",
       "    </tr>\n",
       "    <tr>\n",
       "      <td>...</td>\n",
       "      <td>...</td>\n",
       "    </tr>\n",
       "    <tr>\n",
       "      <td>193581</td>\n",
       "      <td>Black Butler: Book of the Atlantic (2017)</td>\n",
       "    </tr>\n",
       "    <tr>\n",
       "      <td>193583</td>\n",
       "      <td>No Game No Life: Zero (2017)</td>\n",
       "    </tr>\n",
       "    <tr>\n",
       "      <td>193585</td>\n",
       "      <td>Flint (2017)</td>\n",
       "    </tr>\n",
       "    <tr>\n",
       "      <td>193587</td>\n",
       "      <td>Bungo Stray Dogs: Dead Apple (2018)</td>\n",
       "    </tr>\n",
       "    <tr>\n",
       "      <td>193609</td>\n",
       "      <td>Andrew Dice Clay: Dice Rules (1991)</td>\n",
       "    </tr>\n",
       "  </tbody>\n",
       "</table>\n",
       "<p>9742 rows × 1 columns</p>\n",
       "</div>"
      ],
      "text/plain": [
       "                                               Name\n",
       "Movie_Id                                           \n",
       "1                                  Toy Story (1995)\n",
       "2                                    Jumanji (1995)\n",
       "3                           Grumpier Old Men (1995)\n",
       "4                          Waiting to Exhale (1995)\n",
       "5                Father of the Bride Part II (1995)\n",
       "...                                             ...\n",
       "193581    Black Butler: Book of the Atlantic (2017)\n",
       "193583                 No Game No Life: Zero (2017)\n",
       "193585                                 Flint (2017)\n",
       "193587          Bungo Stray Dogs: Dead Apple (2018)\n",
       "193609          Andrew Dice Clay: Dice Rules (1991)\n",
       "\n",
       "[9742 rows x 1 columns]"
      ]
     },
     "execution_count": 26,
     "metadata": {},
     "output_type": "execute_result"
    }
   ],
   "source": [
    "#Formatierung derselbigen\n",
    "df_title = df_title.rename(columns={\"movieId\": \"Movie_Id\", \"title\": \"Name\"})\n",
    "df_title.index.names = ['Movie_Id']\n",
    "print(df_title.head())"
   ]
  },
  {
   "cell_type": "code",
   "execution_count": 72,
   "metadata": {},
   "outputs": [],
   "source": [
    "#Methode, um 5 Star Ratings einzelner User auszulesen\n",
    "def customersupport(user):\n",
    "    dframeUser = df[(df['Cust_Id'] == user) & (df['Rating'] == 5)]\n",
    "    dframeUser = dframeUser.set_index('Movie_Id')\n",
    "    dframeUser = dframeUser.join(df_title)['Name']\n",
    "    print(dframeUser)"
   ]
  },
  {
   "cell_type": "code",
   "execution_count": 73,
   "metadata": {},
   "outputs": [
    {
     "name": "stdout",
     "output_type": "stream",
     "text": [
      "Movie_Id\n",
      "47               Seven (a.k.a. Se7en) (1995)\n",
      "50                Usual Suspects, The (1995)\n",
      "101                     Bottle Rocket (1996)\n",
      "151                           Rob Roy (1995)\n",
      "157                    Canadian Bacon (1995)\n",
      "                        ...                 \n",
      "3671                  Blazing Saddles (1974)\n",
      "3702                          Mad Max (1979)\n",
      "3703    Road Warrior, The (Mad Max 2) (1981)\n",
      "3793                            X-Men (2000)\n",
      "5060            M*A*S*H (a.k.a. MASH) (1970)\n",
      "Name: Name, Length: 118, dtype: object\n"
     ]
    }
   ],
   "source": [
    "#Beispiel\n",
    "customersupport(1)"
   ]
  },
  {
   "cell_type": "code",
   "execution_count": 74,
   "metadata": {},
   "outputs": [],
   "source": [
    "#Nutzen der Daten, um Vorschläge für User zu machen\n",
    "def makerecommendation(user):\n",
    "    userdf = df_title.copy()\n",
    "    userdf = userdf.reset_index()\n",
    "    userdf = userdf[~userdf['Movie_Id'].isin(drop_movie_list)]\n",
    "\n",
    "    # getting full dataset\n",
    "    data = Dataset.load_from_df(df[['Cust_Id', 'Movie_Id', 'Rating']], reader)\n",
    "\n",
    "    trainset = data.build_full_trainset()\n",
    "    algo.fit(trainset)\n",
    "\n",
    "    userdf['Estimate_Score'] = userdf['Movie_Id'].apply(lambda x: svd.predict(user, x).est)\n",
    "\n",
    "    userdf = userdf.drop('Movie_Id', axis = 1)\n",
    "\n",
    "    userdf = userdf.sort_values('Estimate_Score', ascending=False)\n",
    "    print(userdf.head(10))"
   ]
  },
  {
   "cell_type": "code",
   "execution_count": 86,
   "metadata": {},
   "outputs": [
    {
     "name": "stdout",
     "output_type": "stream",
     "text": [
      "                                                   Name  Estimate_Score\n",
      "906                           Lawrence of Arabia (1962)        4.840041\n",
      "690                           North by Northwest (1959)        4.779253\n",
      "2226                                  Fight Club (1999)        4.773524\n",
      "254   Léon: The Professional (a.k.a. The Professiona...        4.738114\n",
      "704       Sunset Blvd. (a.k.a. Sunset Boulevard) (1950)        4.708379\n",
      "4909       Eternal Sunshine of the Spotless Mind (2004)        4.681310\n",
      "6710                            Dark Knight, The (2008)        4.665758\n",
      "920                                       Psycho (1960)        4.644980\n",
      "2996                                      Snatch (2000)        4.640222\n",
      "911   Star Wars: Episode VI - Return of the Jedi (1983)        4.635410\n"
     ]
    }
   ],
   "source": [
    "#Beispiel anhand von User 100\n",
    "print(makerecommendation(100))"
   ]
  },
  {
   "cell_type": "code",
   "execution_count": 87,
   "metadata": {},
   "outputs": [
    {
     "data": {
      "text/plain": [
       "(3017, 4)"
      ]
     },
     "execution_count": 87,
     "metadata": {},
     "output_type": "execute_result"
    }
   ],
   "source": [
    "good_prediction =  pred_df['est']>4.0\n",
    "df_good_prediction = pred_df[good_prediction]\n",
    "df_good_prediction = df_good_prediction.filter([\"uid\", \"iid\", \"r_ui\", \"est\"])\n",
    "print(df_good_prediction.shape)"
   ]
  },
  {
   "cell_type": "code",
   "execution_count": 88,
   "metadata": {},
   "outputs": [
    {
     "data": {
      "text/plain": [
       "(3198, 4)"
      ]
     },
     "execution_count": 88,
     "metadata": {},
     "output_type": "execute_result"
    }
   ],
   "source": [
    "good_ratings =  pred_df['r_ui']>4.0\n",
    "df_good_ratings = pred_df[good_ratings]\n",
    "df_good_ratings = df_good_ratings.filter([\"uid\", \"iid\", \"r_ui\", \"est\"])\n",
    "print(df_good_ratings.shape)"
   ]
  },
  {
   "cell_type": "code",
   "execution_count": 106,
   "metadata": {},
   "outputs": [
    {
     "name": "stdout",
     "output_type": "stream",
     "text": [
      "   uid    iid  r_ui       est                    details      diff\n",
      "0  139  52722   1.0  1.529562  {'was_impossible': False}  0.529562\n",
      "1  599    733   3.5  2.789235  {'was_impossible': False}  0.710765\n",
      "2   91   3070   5.0  3.431258  {'was_impossible': False}  1.568742\n",
      "3  177  79695   2.0  3.049844  {'was_impossible': False}  1.049844\n",
      "4  414   2640   3.0  3.797993  {'was_impossible': False}  0.797993\n",
      "(15988, 6)\n"
     ]
    }
   ],
   "source": [
    "pred_df['diff'] = np.abs(pred_df['est'] - pred_df['r_ui'])\n",
    "print(pred_df.head())\n",
    "print(pred_df.shape)"
   ]
  },
  {
   "cell_type": "code",
   "execution_count": 90,
   "metadata": {},
   "outputs": [
    {
     "name": "stdout",
     "output_type": "stream",
     "text": [
      "     uid   iid  r_ui       est      diff\n",
      "39   477  2798   0.5  2.755889  2.255889\n",
      "69    68  2542   1.0  3.813525  2.813525\n",
      "91    51  2402   1.0  3.429765  2.429765\n",
      "110  603  3566   1.0  3.507752  2.507752\n",
      "134   42  3438   1.0  3.313618  2.313618\n",
      "(402, 5)\n"
     ]
    }
   ],
   "source": [
    "bad_predictions =  pred_df['diff']>2\n",
    "df_bad_predictions = pred_df[bad_predictions]\n",
    "df_bad_predictions = df_bad_predictions.filter([\"uid\", \"iid\", \"r_ui\", \"est\", \"diff\"])\n",
    "print(df_bad_predictions.head())\n",
    "print(df_bad_predictions.shape)\n"
   ]
  },
  {
   "cell_type": "code",
   "execution_count": 91,
   "metadata": {},
   "outputs": [
    {
     "name": "stdout",
     "output_type": "stream",
     "text": [
      "uid        610.000000\n",
      "iid     180031.000000\n",
      "r_ui         5.000000\n",
      "est          5.000000\n",
      "diff         3.820974\n",
      "dtype: float64\n"
     ]
    }
   ],
   "source": [
    "max_values_df = pred_df.max()\n",
    "print(max_values_df)"
   ]
  },
  {
   "cell_type": "code",
   "execution_count": 92,
   "metadata": {},
   "outputs": [
    {
     "name": "stdout",
     "output_type": "stream",
     "text": [
      "      uid   iid  r_ui       est      diff\n",
      "8912  580  1203   0.5  4.320974  3.820974\n"
     ]
    }
   ],
   "source": [
    "maxdiff = pred_df['diff']==pred_df['diff'].max()\n",
    "maxdiffrow = pred_df[maxdiff]\n",
    "maxdiffrow = maxdiffrow.filter([\"uid\", \"iid\", \"r_ui\", \"est\", \"diff\"])\n",
    "print(maxdiffrow)"
   ]
  },
  {
   "cell_type": "code",
   "execution_count": 93,
   "metadata": {},
   "outputs": [
    {
     "name": "stdout",
     "output_type": "stream",
     "text": [
      "Movie_Id\n",
      "32               Twelve Monkeys (a.k.a. 12 Monkeys) (1995)\n",
      "47                             Seven (a.k.a. Se7en) (1995)\n",
      "50                              Usual Suspects, The (1995)\n",
      "70                              From Dusk Till Dawn (1996)\n",
      "293      Léon: The Professional (a.k.a. The Professiona...\n",
      "296                                    Pulp Fiction (1994)\n",
      "318                       Shawshank Redemption, The (1994)\n",
      "541                                    Blade Runner (1982)\n",
      "778                                   Trainspotting (1996)\n",
      "1080                   Monty Python's Life of Brian (1979)\n",
      "1089                                 Reservoir Dogs (1992)\n",
      "1136                Monty Python and the Holy Grail (1975)\n",
      "1222                              Full Metal Jacket (1987)\n",
      "1884                 Fear and Loathing in Las Vegas (1998)\n",
      "2028                            Saving Private Ryan (1998)\n",
      "2571                                    Matrix, The (1999)\n",
      "2858                                American Beauty (1999)\n",
      "2951     Fistful of Dollars, A (Per un pugno di dollari...\n",
      "2959                                     Fight Club (1999)\n",
      "3556                           Virgin Suicides, The (1999)\n",
      "4226                                        Memento (2000)\n",
      "5903                                    Equilibrium (2002)\n",
      "6365                           Matrix Reloaded, The (2003)\n",
      "6711                            Lost in Translation (2003)\n",
      "6874                              Kill Bill: Vol. 1 (2003)\n",
      "6934                        Matrix Revolutions, The (2003)\n",
      "8371                     Chronicles of Riddick, The (2004)\n",
      "8949                                       Sideways (2004)\n",
      "32587                                      Sin City (2005)\n",
      "33437                     Unleashed (Danny the Dog) (2005)\n",
      "33493    Star Wars: Episode III - Revenge of the Sith (...\n",
      "33794                                 Batman Begins (2005)\n",
      "34405                                      Serenity (2005)\n",
      "48774                               Children of Men (2006)\n",
      "51662                                           300 (2007)\n",
      "51935                                       Shooter (2007)\n",
      "53996                                  Transformers (2007)\n",
      "54286                         Bourne Ultimatum, The (2007)\n",
      "Name: Name, dtype: object\n"
     ]
    }
   ],
   "source": [
    "print(customersupport(580))"
   ]
  },
  {
   "cell_type": "code",
   "execution_count": 94,
   "metadata": {},
   "outputs": [
    {
     "name": "stdout",
     "output_type": "stream",
     "text": [
      "                                  Name  Estimate_Score\n",
      "659              Godfather, The (1972)        4.785878\n",
      "828              Reservoir Dogs (1992)        4.743021\n",
      "510   Silence of the Lambs, The (1991)        4.704300\n",
      "2226                 Fight Club (1999)        4.660820\n",
      "1503        Saving Private Ryan (1998)        4.615548\n",
      "1939                Matrix, The (1999)        4.596039\n",
      "257                Pulp Fiction (1994)        4.590528\n",
      "1298          Big Lebowski, The (1998)        4.548849\n",
      "906          Lawrence of Arabia (1962)        4.541292\n",
      "4615          Kill Bill: Vol. 1 (2003)        4.509380\n"
     ]
    }
   ],
   "source": [
    "print(makerecommendation(580))"
   ]
  },
  {
   "cell_type": "code",
   "execution_count": 95,
   "metadata": {},
   "outputs": [
    {
     "data": {
      "text/plain": [
       "Movie_Id\n",
       "1203    12 Angry Men (1957)\n",
       "Name: Name, dtype: object"
      ]
     },
     "execution_count": 95,
     "metadata": {},
     "output_type": "execute_result"
    }
   ],
   "source": [
    "maxdiffrow = maxdiffrow.rename(columns={\"iid\": \"Movie_Id\"})\n",
    "maxdiffrow = maxdiffrow.set_index('Movie_Id')\n",
    "maxdiffrow = maxdiffrow.join(df_title)['Name']\n",
    "print(maxdiffrow)"
   ]
  },
  {
   "cell_type": "code",
   "execution_count": 109,
   "metadata": {},
   "outputs": [],
   "source": [
    "def movieid2name(id):\n",
    "    movie = df_title.loc[id]\n",
    "    print(movie)"
   ]
  },
  {
   "cell_type": "code",
   "execution_count": 112,
   "metadata": {},
   "outputs": [
    {
     "name": "stdout",
     "output_type": "stream",
     "text": [
      "Name    City Hall (1996)\n",
      "Name: 100, dtype: object\n"
     ]
    }
   ],
   "source": [
    "movieid2name(100)"
   ]
  },
  {
   "cell_type": "code",
   "execution_count": null,
   "metadata": {},
   "outputs": [],
   "source": []
  }
 ],
 "metadata": {
  "kernelspec": {
   "display_name": "Python 3",
   "language": "python",
   "name": "python3"
  },
  "language_info": {
   "codemirror_mode": {
    "name": "ipython",
    "version": 3
   },
   "file_extension": ".py",
   "mimetype": "text/x-python",
   "name": "python",
   "nbconvert_exporter": "python",
   "pygments_lexer": "ipython3",
   "version": "3.7.4"
  }
 },
 "nbformat": 4,
 "nbformat_minor": 4
}
